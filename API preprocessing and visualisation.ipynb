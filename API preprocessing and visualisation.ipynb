{
 "cells": [
  {
   "cell_type": "code",
   "execution_count": 1,
   "metadata": {},
   "outputs": [],
   "source": [
    "# Load libraries\n",
    "import pandas as pd\n",
    "import numpy as np\n",
    "import plotly as py\n",
    "import plotly.offline as pyoff\n",
    "import plotly.express as px\n",
    "import plotly.graph_objects as go"
   ]
  },
  {
   "cell_type": "markdown",
   "metadata": {},
   "source": [
    "Parameters: *date_from, date_to*\n",
    "\\\n",
    "Example: date_from=099374127943241794717391729379123&date_to=9812738217312317237\n",
    "\\\n",
    "All data: date_from=0\n",
    "\n",
    "https://artss.mii.lv/webservice/rest/server.php?courseid=14&wstoken=a78e76c2570f41a3f180d0979914c7dc&wsfunction=local_notifyemailsignup_functiongetstudentactivitydata&moodlewsrestformat=json"
   ]
  },
  {
   "cell_type": "code",
   "execution_count": 2,
   "metadata": {},
   "outputs": [],
   "source": [
    "# df = pd.read_csv(\"data/Teleci-export.csv\")"
   ]
  },
  {
   "cell_type": "code",
   "execution_count": 11,
   "metadata": {
    "scrolled": true
   },
   "outputs": [],
   "source": [
    "# %%time\n",
    "# Load dataframe\n",
    "# api = \"https://bpome.mii.lv/webservice/rest/server.php?wstoken=abc77eef5247b3aa21488df6a394a3d4&wsfunction=local_getstudentactivitydata_functiongetstudentactivitydata&date_from=0\"\n",
    "api = 'https://artss.mii.lv/webservice/rest/server.php?courseid=20&wstoken=a78e76c2570f41a3f180d0979914c7dc&wsfunction=local_notifyemailsignup_functiongetstudentactivitydata&moodlewsrestformat=json'\n",
    "df = pd.read_json(api, orient=\"split\") # Covert json to pandas dataframe"
   ]
  },
  {
   "cell_type": "code",
   "execution_count": 12,
   "metadata": {},
   "outputs": [
    {
     "data": {
      "text/plain": [
       "(29, 15)"
      ]
     },
     "execution_count": 12,
     "metadata": {},
     "output_type": "execute_result"
    }
   ],
   "source": [
    "df.shape"
   ]
  },
  {
   "cell_type": "code",
   "execution_count": 13,
   "metadata": {},
   "outputs": [],
   "source": [
    "# df.to_csv('Teleci-export.csv', index=False)"
   ]
  },
  {
   "cell_type": "code",
   "execution_count": 14,
   "metadata": {},
   "outputs": [],
   "source": [
    "# df.info()"
   ]
  },
  {
   "cell_type": "code",
   "execution_count": 17,
   "metadata": {
    "scrolled": false
   },
   "outputs": [
    {
     "data": {
      "text/html": [
       "<div>\n",
       "<style scoped>\n",
       "    .dataframe tbody tr th:only-of-type {\n",
       "        vertical-align: middle;\n",
       "    }\n",
       "\n",
       "    .dataframe tbody tr th {\n",
       "        vertical-align: top;\n",
       "    }\n",
       "\n",
       "    .dataframe thead th {\n",
       "        text-align: right;\n",
       "    }\n",
       "</style>\n",
       "<table border=\"1\" class=\"dataframe\">\n",
       "  <thead>\n",
       "    <tr style=\"text-align: right;\">\n",
       "      <th></th>\n",
       "      <th>id</th>\n",
       "      <th>courseid</th>\n",
       "      <th>lessonid</th>\n",
       "      <th>sectionid</th>\n",
       "      <th>user</th>\n",
       "      <th>datetime</th>\n",
       "      <th>timestamp</th>\n",
       "      <th>section</th>\n",
       "      <th>type</th>\n",
       "      <th>itemid</th>\n",
       "      <th>title</th>\n",
       "      <th>question</th>\n",
       "      <th>answer</th>\n",
       "      <th>answer_submitted</th>\n",
       "      <th>correct_answer</th>\n",
       "    </tr>\n",
       "  </thead>\n",
       "  <tbody>\n",
       "    <tr>\n",
       "      <th>0</th>\n",
       "      <td>4064</td>\n",
       "      <td>20</td>\n",
       "      <td>884</td>\n",
       "      <td>134</td>\n",
       "      <td>{'id': 7, 'roles': ['manager', 'coursecreator']}</td>\n",
       "      <td>2020-10-27 18:46:39</td>\n",
       "      <td>2020-10-27 16:46:39</td>\n",
       "      <td>Elektriskie lādiņi un elektriskais lauks. 11.k...</td>\n",
       "      <td>multiplechoice</td>\n",
       "      <td>1645</td>\n",
       "      <td>a</td>\n",
       "      <td></td>\n",
       "      <td></td>\n",
       "      <td>N/A</td>\n",
       "      <td>N/A</td>\n",
       "    </tr>\n",
       "    <tr>\n",
       "      <th>1</th>\n",
       "      <td>4067</td>\n",
       "      <td>20</td>\n",
       "      <td>884</td>\n",
       "      <td>134</td>\n",
       "      <td>{'id': 7, 'roles': ['manager', 'coursecreator']}</td>\n",
       "      <td>2020-10-27 18:46:57</td>\n",
       "      <td>2020-10-27 16:46:57</td>\n",
       "      <td>Elektriskie lādiņi un elektriskais lauks. 11.k...</td>\n",
       "      <td>content</td>\n",
       "      <td>1646</td>\n",
       "      <td>Elektriskās mijiedarbības spēks. Kulona likums.</td>\n",
       "      <td></td>\n",
       "      <td></td>\n",
       "      <td>N/A</td>\n",
       "      <td>N/A</td>\n",
       "    </tr>\n",
       "    <tr>\n",
       "      <th>2</th>\n",
       "      <td>4070</td>\n",
       "      <td>20</td>\n",
       "      <td>884</td>\n",
       "      <td>134</td>\n",
       "      <td>{'id': 7, 'roles': ['manager', 'coursecreator']}</td>\n",
       "      <td>2020-10-27 18:47:08</td>\n",
       "      <td>2020-10-27 16:47:08</td>\n",
       "      <td>Elektriskie lādiņi un elektriskais lauks. 11.k...</td>\n",
       "      <td>content</td>\n",
       "      <td>1647</td>\n",
       "      <td>Kulona likums.</td>\n",
       "      <td></td>\n",
       "      <td></td>\n",
       "      <td>N/A</td>\n",
       "      <td>N/A</td>\n",
       "    </tr>\n",
       "    <tr>\n",
       "      <th>3</th>\n",
       "      <td>4071</td>\n",
       "      <td>20</td>\n",
       "      <td>884</td>\n",
       "      <td>134</td>\n",
       "      <td>{'id': 7, 'roles': ['manager', 'coursecreator']}</td>\n",
       "      <td>2020-10-27 18:47:15</td>\n",
       "      <td>2020-10-27 16:47:15</td>\n",
       "      <td>Elektriskie lādiņi un elektriskais lauks. 11.k...</td>\n",
       "      <td>content</td>\n",
       "      <td>1648</td>\n",
       "      <td>Kulona likums.</td>\n",
       "      <td></td>\n",
       "      <td></td>\n",
       "      <td>N/A</td>\n",
       "      <td>N/A</td>\n",
       "    </tr>\n",
       "    <tr>\n",
       "      <th>4</th>\n",
       "      <td>4072</td>\n",
       "      <td>20</td>\n",
       "      <td>884</td>\n",
       "      <td>134</td>\n",
       "      <td>{'id': 7, 'roles': ['manager', 'coursecreator']}</td>\n",
       "      <td>2020-10-27 18:47:22</td>\n",
       "      <td>2020-10-27 16:47:22</td>\n",
       "      <td>Elektriskie lādiņi un elektriskais lauks. 11.k...</td>\n",
       "      <td>content</td>\n",
       "      <td>1649</td>\n",
       "      <td>Kulona likums. Praktiskais darbs.</td>\n",
       "      <td></td>\n",
       "      <td></td>\n",
       "      <td>N/A</td>\n",
       "      <td>N/A</td>\n",
       "    </tr>\n",
       "    <tr>\n",
       "      <th>5</th>\n",
       "      <td>4073</td>\n",
       "      <td>20</td>\n",
       "      <td>884</td>\n",
       "      <td>134</td>\n",
       "      <td>{'id': 7, 'roles': ['manager', 'coursecreator']}</td>\n",
       "      <td>2020-10-27 18:48:12</td>\n",
       "      <td>2020-10-27 16:48:12</td>\n",
       "      <td>Elektriskie lādiņi un elektriskais lauks. 11.k...</td>\n",
       "      <td>content</td>\n",
       "      <td>1649</td>\n",
       "      <td>Kulona likums. Praktiskais darbs.</td>\n",
       "      <td></td>\n",
       "      <td></td>\n",
       "      <td>N/A</td>\n",
       "      <td>N/A</td>\n",
       "    </tr>\n",
       "    <tr>\n",
       "      <th>6</th>\n",
       "      <td>4074</td>\n",
       "      <td>20</td>\n",
       "      <td>884</td>\n",
       "      <td>134</td>\n",
       "      <td>{'id': 7, 'roles': ['manager', 'coursecreator']}</td>\n",
       "      <td>2020-10-27 18:48:17</td>\n",
       "      <td>2020-10-27 16:48:17</td>\n",
       "      <td>Elektriskie lādiņi un elektriskais lauks. 11.k...</td>\n",
       "      <td>multiplechoice</td>\n",
       "      <td>1650</td>\n",
       "      <td>b</td>\n",
       "      <td></td>\n",
       "      <td></td>\n",
       "      <td>N/A</td>\n",
       "      <td>N/A</td>\n",
       "    </tr>\n",
       "    <tr>\n",
       "      <th>7</th>\n",
       "      <td>8674</td>\n",
       "      <td>20</td>\n",
       "      <td>884</td>\n",
       "      <td>134</td>\n",
       "      <td>{'id': 53, 'roles': ['student']}</td>\n",
       "      <td>2020-11-20 20:36:17</td>\n",
       "      <td>2020-11-20 18:36:17</td>\n",
       "      <td>Elektriskie lādiņi un elektriskais lauks. 11.k...</td>\n",
       "      <td>multiplechoice</td>\n",
       "      <td>1645</td>\n",
       "      <td>a</td>\n",
       "      <td></td>\n",
       "      <td></td>\n",
       "      <td>N/A</td>\n",
       "      <td>N/A</td>\n",
       "    </tr>\n",
       "    <tr>\n",
       "      <th>8</th>\n",
       "      <td>8675</td>\n",
       "      <td>20</td>\n",
       "      <td>884</td>\n",
       "      <td>134</td>\n",
       "      <td>{'id': 53, 'roles': ['student']}</td>\n",
       "      <td>2020-11-20 20:36:24</td>\n",
       "      <td>2020-11-20 18:36:24</td>\n",
       "      <td>Elektriskie lādiņi un elektriskais lauks. 11.k...</td>\n",
       "      <td>result</td>\n",
       "      <td>1645</td>\n",
       "      <td>a</td>\n",
       "      <td>Ievirzes jautājumsKā savstarpēji mijiedarbojas...</td>\n",
       "      <td></td>\n",
       "      <td>true</td>\n",
       "      <td>false</td>\n",
       "    </tr>\n",
       "    <tr>\n",
       "      <th>9</th>\n",
       "      <td>8676</td>\n",
       "      <td>20</td>\n",
       "      <td>884</td>\n",
       "      <td>134</td>\n",
       "      <td>{'id': 53, 'roles': ['student']}</td>\n",
       "      <td>2020-11-20 20:36:24</td>\n",
       "      <td>2020-11-20 18:36:24</td>\n",
       "      <td>Elektriskie lādiņi un elektriskais lauks. 11.k...</td>\n",
       "      <td>content</td>\n",
       "      <td>1646</td>\n",
       "      <td>Elektriskās mijiedarbības spēks. Kulona likums.</td>\n",
       "      <td></td>\n",
       "      <td></td>\n",
       "      <td>N/A</td>\n",
       "      <td>N/A</td>\n",
       "    </tr>\n",
       "    <tr>\n",
       "      <th>10</th>\n",
       "      <td>8677</td>\n",
       "      <td>20</td>\n",
       "      <td>884</td>\n",
       "      <td>134</td>\n",
       "      <td>{'id': 53, 'roles': ['student']}</td>\n",
       "      <td>2020-11-20 20:36:26</td>\n",
       "      <td>2020-11-20 18:36:26</td>\n",
       "      <td>Elektriskie lādiņi un elektriskais lauks. 11.k...</td>\n",
       "      <td>content</td>\n",
       "      <td>1647</td>\n",
       "      <td>Kulona likums.</td>\n",
       "      <td></td>\n",
       "      <td></td>\n",
       "      <td>N/A</td>\n",
       "      <td>N/A</td>\n",
       "    </tr>\n",
       "    <tr>\n",
       "      <th>11</th>\n",
       "      <td>8678</td>\n",
       "      <td>20</td>\n",
       "      <td>884</td>\n",
       "      <td>134</td>\n",
       "      <td>{'id': 53, 'roles': ['student']}</td>\n",
       "      <td>2020-11-20 20:36:27</td>\n",
       "      <td>2020-11-20 18:36:27</td>\n",
       "      <td>Elektriskie lādiņi un elektriskais lauks. 11.k...</td>\n",
       "      <td>content</td>\n",
       "      <td>1648</td>\n",
       "      <td>Kulona likums.</td>\n",
       "      <td></td>\n",
       "      <td></td>\n",
       "      <td>N/A</td>\n",
       "      <td>N/A</td>\n",
       "    </tr>\n",
       "    <tr>\n",
       "      <th>12</th>\n",
       "      <td>8679</td>\n",
       "      <td>20</td>\n",
       "      <td>884</td>\n",
       "      <td>134</td>\n",
       "      <td>{'id': 53, 'roles': ['student']}</td>\n",
       "      <td>2020-11-20 20:36:28</td>\n",
       "      <td>2020-11-20 18:36:28</td>\n",
       "      <td>Elektriskie lādiņi un elektriskais lauks. 11.k...</td>\n",
       "      <td>content</td>\n",
       "      <td>1649</td>\n",
       "      <td>Kulona likums. Praktiskais darbs.</td>\n",
       "      <td></td>\n",
       "      <td></td>\n",
       "      <td>N/A</td>\n",
       "      <td>N/A</td>\n",
       "    </tr>\n",
       "    <tr>\n",
       "      <th>13</th>\n",
       "      <td>8680</td>\n",
       "      <td>20</td>\n",
       "      <td>884</td>\n",
       "      <td>134</td>\n",
       "      <td>{'id': 53, 'roles': ['student']}</td>\n",
       "      <td>2020-11-20 20:36:29</td>\n",
       "      <td>2020-11-20 18:36:29</td>\n",
       "      <td>Elektriskie lādiņi un elektriskais lauks. 11.k...</td>\n",
       "      <td>multiplechoice</td>\n",
       "      <td>1650</td>\n",
       "      <td>b</td>\n",
       "      <td></td>\n",
       "      <td></td>\n",
       "      <td>N/A</td>\n",
       "      <td>N/A</td>\n",
       "    </tr>\n",
       "    <tr>\n",
       "      <th>14</th>\n",
       "      <td>8681</td>\n",
       "      <td>20</td>\n",
       "      <td>884</td>\n",
       "      <td>134</td>\n",
       "      <td>{'id': 53, 'roles': ['student']}</td>\n",
       "      <td>2020-11-20 20:36:36</td>\n",
       "      <td>2020-11-20 18:36:36</td>\n",
       "      <td>Elektriskie lādiņi un elektriskais lauks. 11.k...</td>\n",
       "      <td>result</td>\n",
       "      <td>1650</td>\n",
       "      <td>b</td>\n",
       "      <td>Pašpārbaudes jautājumsDivas mazas metāla lodīt...</td>\n",
       "      <td></td>\n",
       "      <td>true</td>\n",
       "      <td>false</td>\n",
       "    </tr>\n",
       "    <tr>\n",
       "      <th>15</th>\n",
       "      <td>8682</td>\n",
       "      <td>20</td>\n",
       "      <td>885</td>\n",
       "      <td>134</td>\n",
       "      <td>{'id': 53, 'roles': ['student']}</td>\n",
       "      <td>2020-11-20 20:36:36</td>\n",
       "      <td>2020-11-20 18:36:36</td>\n",
       "      <td>Elektriskie lādiņi un elektriskais lauks. 11.k...</td>\n",
       "      <td>multiplechoice</td>\n",
       "      <td>1651</td>\n",
       "      <td>a</td>\n",
       "      <td></td>\n",
       "      <td></td>\n",
       "      <td>N/A</td>\n",
       "      <td>N/A</td>\n",
       "    </tr>\n",
       "    <tr>\n",
       "      <th>16</th>\n",
       "      <td>8730</td>\n",
       "      <td>20</td>\n",
       "      <td>884</td>\n",
       "      <td>134</td>\n",
       "      <td>{'id': 7, 'roles': ['manager', 'coursecreator']}</td>\n",
       "      <td>2020-11-21 09:40:31</td>\n",
       "      <td>2020-11-21 07:40:31</td>\n",
       "      <td>Elektriskie lādiņi un elektriskais lauks. 11.k...</td>\n",
       "      <td>multiplechoice</td>\n",
       "      <td>1645</td>\n",
       "      <td>a</td>\n",
       "      <td></td>\n",
       "      <td></td>\n",
       "      <td>N/A</td>\n",
       "      <td>N/A</td>\n",
       "    </tr>\n",
       "    <tr>\n",
       "      <th>17</th>\n",
       "      <td>8731</td>\n",
       "      <td>20</td>\n",
       "      <td>884</td>\n",
       "      <td>134</td>\n",
       "      <td>{'id': 7, 'roles': ['manager', 'coursecreator']}</td>\n",
       "      <td>2020-11-21 09:40:46</td>\n",
       "      <td>2020-11-21 07:40:46</td>\n",
       "      <td>Elektriskie lādiņi un elektriskais lauks. 11.k...</td>\n",
       "      <td>content</td>\n",
       "      <td>1646</td>\n",
       "      <td>Elektriskās mijiedarbības spēks. Kulona likums.</td>\n",
       "      <td></td>\n",
       "      <td></td>\n",
       "      <td>N/A</td>\n",
       "      <td>N/A</td>\n",
       "    </tr>\n",
       "    <tr>\n",
       "      <th>18</th>\n",
       "      <td>8732</td>\n",
       "      <td>20</td>\n",
       "      <td>884</td>\n",
       "      <td>134</td>\n",
       "      <td>{'id': 7, 'roles': ['manager', 'coursecreator']}</td>\n",
       "      <td>2020-11-21 09:40:53</td>\n",
       "      <td>2020-11-21 07:40:53</td>\n",
       "      <td>Elektriskie lādiņi un elektriskais lauks. 11.k...</td>\n",
       "      <td>content</td>\n",
       "      <td>1647</td>\n",
       "      <td>Kulona likums.</td>\n",
       "      <td></td>\n",
       "      <td></td>\n",
       "      <td>N/A</td>\n",
       "      <td>N/A</td>\n",
       "    </tr>\n",
       "    <tr>\n",
       "      <th>19</th>\n",
       "      <td>8733</td>\n",
       "      <td>20</td>\n",
       "      <td>884</td>\n",
       "      <td>134</td>\n",
       "      <td>{'id': 7, 'roles': ['manager', 'coursecreator']}</td>\n",
       "      <td>2020-11-21 09:40:59</td>\n",
       "      <td>2020-11-21 07:40:59</td>\n",
       "      <td>Elektriskie lādiņi un elektriskais lauks. 11.k...</td>\n",
       "      <td>content</td>\n",
       "      <td>1647</td>\n",
       "      <td>Kulona likums.</td>\n",
       "      <td></td>\n",
       "      <td></td>\n",
       "      <td>N/A</td>\n",
       "      <td>N/A</td>\n",
       "    </tr>\n",
       "    <tr>\n",
       "      <th>20</th>\n",
       "      <td>8734</td>\n",
       "      <td>20</td>\n",
       "      <td>884</td>\n",
       "      <td>134</td>\n",
       "      <td>{'id': 7, 'roles': ['manager', 'coursecreator']}</td>\n",
       "      <td>2020-11-21 09:41:05</td>\n",
       "      <td>2020-11-21 07:41:05</td>\n",
       "      <td>Elektriskie lādiņi un elektriskais lauks. 11.k...</td>\n",
       "      <td>content</td>\n",
       "      <td>1648</td>\n",
       "      <td>Kulona likums.</td>\n",
       "      <td></td>\n",
       "      <td></td>\n",
       "      <td>N/A</td>\n",
       "      <td>N/A</td>\n",
       "    </tr>\n",
       "    <tr>\n",
       "      <th>21</th>\n",
       "      <td>8735</td>\n",
       "      <td>20</td>\n",
       "      <td>884</td>\n",
       "      <td>134</td>\n",
       "      <td>{'id': 7, 'roles': ['manager', 'coursecreator']}</td>\n",
       "      <td>2020-11-21 09:41:13</td>\n",
       "      <td>2020-11-21 07:41:13</td>\n",
       "      <td>Elektriskie lādiņi un elektriskais lauks. 11.k...</td>\n",
       "      <td>content</td>\n",
       "      <td>1649</td>\n",
       "      <td>Kulona likums. Praktiskais darbs.</td>\n",
       "      <td></td>\n",
       "      <td></td>\n",
       "      <td>N/A</td>\n",
       "      <td>N/A</td>\n",
       "    </tr>\n",
       "    <tr>\n",
       "      <th>22</th>\n",
       "      <td>8736</td>\n",
       "      <td>20</td>\n",
       "      <td>884</td>\n",
       "      <td>134</td>\n",
       "      <td>{'id': 7, 'roles': ['manager', 'coursecreator']}</td>\n",
       "      <td>2020-11-21 09:41:36</td>\n",
       "      <td>2020-11-21 07:41:36</td>\n",
       "      <td>Elektriskie lādiņi un elektriskais lauks. 11.k...</td>\n",
       "      <td>multiplechoice</td>\n",
       "      <td>1650</td>\n",
       "      <td>b</td>\n",
       "      <td></td>\n",
       "      <td></td>\n",
       "      <td>N/A</td>\n",
       "      <td>N/A</td>\n",
       "    </tr>\n",
       "    <tr>\n",
       "      <th>23</th>\n",
       "      <td>8740</td>\n",
       "      <td>20</td>\n",
       "      <td>884</td>\n",
       "      <td>134</td>\n",
       "      <td>{'id': 7, 'roles': ['manager', 'coursecreator']}</td>\n",
       "      <td>2020-11-21 10:07:09</td>\n",
       "      <td>2020-11-21 08:07:09</td>\n",
       "      <td>Elektriskie lādiņi un elektriskais lauks. 11.k...</td>\n",
       "      <td>multiplechoice</td>\n",
       "      <td>1645</td>\n",
       "      <td>a</td>\n",
       "      <td></td>\n",
       "      <td></td>\n",
       "      <td>N/A</td>\n",
       "      <td>N/A</td>\n",
       "    </tr>\n",
       "    <tr>\n",
       "      <th>24</th>\n",
       "      <td>8741</td>\n",
       "      <td>20</td>\n",
       "      <td>884</td>\n",
       "      <td>134</td>\n",
       "      <td>{'id': 7, 'roles': ['manager', 'coursecreator']}</td>\n",
       "      <td>2020-11-21 10:07:27</td>\n",
       "      <td>2020-11-21 08:07:27</td>\n",
       "      <td>Elektriskie lādiņi un elektriskais lauks. 11.k...</td>\n",
       "      <td>content</td>\n",
       "      <td>1646</td>\n",
       "      <td>Elektriskās mijiedarbības spēks. Kulona likums.</td>\n",
       "      <td></td>\n",
       "      <td></td>\n",
       "      <td>N/A</td>\n",
       "      <td>N/A</td>\n",
       "    </tr>\n",
       "    <tr>\n",
       "      <th>25</th>\n",
       "      <td>8742</td>\n",
       "      <td>20</td>\n",
       "      <td>884</td>\n",
       "      <td>134</td>\n",
       "      <td>{'id': 7, 'roles': ['manager', 'coursecreator']}</td>\n",
       "      <td>2020-11-21 10:07:32</td>\n",
       "      <td>2020-11-21 08:07:32</td>\n",
       "      <td>Elektriskie lādiņi un elektriskais lauks. 11.k...</td>\n",
       "      <td>content</td>\n",
       "      <td>1647</td>\n",
       "      <td>Kulona likums.</td>\n",
       "      <td></td>\n",
       "      <td></td>\n",
       "      <td>N/A</td>\n",
       "      <td>N/A</td>\n",
       "    </tr>\n",
       "    <tr>\n",
       "      <th>26</th>\n",
       "      <td>8743</td>\n",
       "      <td>20</td>\n",
       "      <td>884</td>\n",
       "      <td>134</td>\n",
       "      <td>{'id': 7, 'roles': ['manager', 'coursecreator']}</td>\n",
       "      <td>2020-11-21 10:07:38</td>\n",
       "      <td>2020-11-21 08:07:38</td>\n",
       "      <td>Elektriskie lādiņi un elektriskais lauks. 11.k...</td>\n",
       "      <td>content</td>\n",
       "      <td>1648</td>\n",
       "      <td>Kulona likums.</td>\n",
       "      <td></td>\n",
       "      <td></td>\n",
       "      <td>N/A</td>\n",
       "      <td>N/A</td>\n",
       "    </tr>\n",
       "    <tr>\n",
       "      <th>27</th>\n",
       "      <td>8744</td>\n",
       "      <td>20</td>\n",
       "      <td>884</td>\n",
       "      <td>134</td>\n",
       "      <td>{'id': 7, 'roles': ['manager', 'coursecreator']}</td>\n",
       "      <td>2020-11-21 10:07:58</td>\n",
       "      <td>2020-11-21 08:07:58</td>\n",
       "      <td>Elektriskie lādiņi un elektriskais lauks. 11.k...</td>\n",
       "      <td>content</td>\n",
       "      <td>1649</td>\n",
       "      <td>Kulona likums. Praktiskais darbs.</td>\n",
       "      <td></td>\n",
       "      <td></td>\n",
       "      <td>N/A</td>\n",
       "      <td>N/A</td>\n",
       "    </tr>\n",
       "    <tr>\n",
       "      <th>28</th>\n",
       "      <td>8746</td>\n",
       "      <td>20</td>\n",
       "      <td>884</td>\n",
       "      <td>134</td>\n",
       "      <td>{'id': 7, 'roles': ['manager', 'coursecreator']}</td>\n",
       "      <td>2020-11-21 10:08:28</td>\n",
       "      <td>2020-11-21 08:08:28</td>\n",
       "      <td>Elektriskie lādiņi un elektriskais lauks. 11.k...</td>\n",
       "      <td>multiplechoice</td>\n",
       "      <td>1650</td>\n",
       "      <td>b</td>\n",
       "      <td></td>\n",
       "      <td></td>\n",
       "      <td>N/A</td>\n",
       "      <td>N/A</td>\n",
       "    </tr>\n",
       "  </tbody>\n",
       "</table>\n",
       "</div>"
      ],
      "text/plain": [
       "      id  courseid  lessonid  sectionid  \\\n",
       "0   4064        20       884        134   \n",
       "1   4067        20       884        134   \n",
       "2   4070        20       884        134   \n",
       "3   4071        20       884        134   \n",
       "4   4072        20       884        134   \n",
       "5   4073        20       884        134   \n",
       "6   4074        20       884        134   \n",
       "7   8674        20       884        134   \n",
       "8   8675        20       884        134   \n",
       "9   8676        20       884        134   \n",
       "10  8677        20       884        134   \n",
       "11  8678        20       884        134   \n",
       "12  8679        20       884        134   \n",
       "13  8680        20       884        134   \n",
       "14  8681        20       884        134   \n",
       "15  8682        20       885        134   \n",
       "16  8730        20       884        134   \n",
       "17  8731        20       884        134   \n",
       "18  8732        20       884        134   \n",
       "19  8733        20       884        134   \n",
       "20  8734        20       884        134   \n",
       "21  8735        20       884        134   \n",
       "22  8736        20       884        134   \n",
       "23  8740        20       884        134   \n",
       "24  8741        20       884        134   \n",
       "25  8742        20       884        134   \n",
       "26  8743        20       884        134   \n",
       "27  8744        20       884        134   \n",
       "28  8746        20       884        134   \n",
       "\n",
       "                                                user            datetime  \\\n",
       "0   {'id': 7, 'roles': ['manager', 'coursecreator']} 2020-10-27 18:46:39   \n",
       "1   {'id': 7, 'roles': ['manager', 'coursecreator']} 2020-10-27 18:46:57   \n",
       "2   {'id': 7, 'roles': ['manager', 'coursecreator']} 2020-10-27 18:47:08   \n",
       "3   {'id': 7, 'roles': ['manager', 'coursecreator']} 2020-10-27 18:47:15   \n",
       "4   {'id': 7, 'roles': ['manager', 'coursecreator']} 2020-10-27 18:47:22   \n",
       "5   {'id': 7, 'roles': ['manager', 'coursecreator']} 2020-10-27 18:48:12   \n",
       "6   {'id': 7, 'roles': ['manager', 'coursecreator']} 2020-10-27 18:48:17   \n",
       "7                   {'id': 53, 'roles': ['student']} 2020-11-20 20:36:17   \n",
       "8                   {'id': 53, 'roles': ['student']} 2020-11-20 20:36:24   \n",
       "9                   {'id': 53, 'roles': ['student']} 2020-11-20 20:36:24   \n",
       "10                  {'id': 53, 'roles': ['student']} 2020-11-20 20:36:26   \n",
       "11                  {'id': 53, 'roles': ['student']} 2020-11-20 20:36:27   \n",
       "12                  {'id': 53, 'roles': ['student']} 2020-11-20 20:36:28   \n",
       "13                  {'id': 53, 'roles': ['student']} 2020-11-20 20:36:29   \n",
       "14                  {'id': 53, 'roles': ['student']} 2020-11-20 20:36:36   \n",
       "15                  {'id': 53, 'roles': ['student']} 2020-11-20 20:36:36   \n",
       "16  {'id': 7, 'roles': ['manager', 'coursecreator']} 2020-11-21 09:40:31   \n",
       "17  {'id': 7, 'roles': ['manager', 'coursecreator']} 2020-11-21 09:40:46   \n",
       "18  {'id': 7, 'roles': ['manager', 'coursecreator']} 2020-11-21 09:40:53   \n",
       "19  {'id': 7, 'roles': ['manager', 'coursecreator']} 2020-11-21 09:40:59   \n",
       "20  {'id': 7, 'roles': ['manager', 'coursecreator']} 2020-11-21 09:41:05   \n",
       "21  {'id': 7, 'roles': ['manager', 'coursecreator']} 2020-11-21 09:41:13   \n",
       "22  {'id': 7, 'roles': ['manager', 'coursecreator']} 2020-11-21 09:41:36   \n",
       "23  {'id': 7, 'roles': ['manager', 'coursecreator']} 2020-11-21 10:07:09   \n",
       "24  {'id': 7, 'roles': ['manager', 'coursecreator']} 2020-11-21 10:07:27   \n",
       "25  {'id': 7, 'roles': ['manager', 'coursecreator']} 2020-11-21 10:07:32   \n",
       "26  {'id': 7, 'roles': ['manager', 'coursecreator']} 2020-11-21 10:07:38   \n",
       "27  {'id': 7, 'roles': ['manager', 'coursecreator']} 2020-11-21 10:07:58   \n",
       "28  {'id': 7, 'roles': ['manager', 'coursecreator']} 2020-11-21 10:08:28   \n",
       "\n",
       "             timestamp                                            section  \\\n",
       "0  2020-10-27 16:46:39  Elektriskie lādiņi un elektriskais lauks. 11.k...   \n",
       "1  2020-10-27 16:46:57  Elektriskie lādiņi un elektriskais lauks. 11.k...   \n",
       "2  2020-10-27 16:47:08  Elektriskie lādiņi un elektriskais lauks. 11.k...   \n",
       "3  2020-10-27 16:47:15  Elektriskie lādiņi un elektriskais lauks. 11.k...   \n",
       "4  2020-10-27 16:47:22  Elektriskie lādiņi un elektriskais lauks. 11.k...   \n",
       "5  2020-10-27 16:48:12  Elektriskie lādiņi un elektriskais lauks. 11.k...   \n",
       "6  2020-10-27 16:48:17  Elektriskie lādiņi un elektriskais lauks. 11.k...   \n",
       "7  2020-11-20 18:36:17  Elektriskie lādiņi un elektriskais lauks. 11.k...   \n",
       "8  2020-11-20 18:36:24  Elektriskie lādiņi un elektriskais lauks. 11.k...   \n",
       "9  2020-11-20 18:36:24  Elektriskie lādiņi un elektriskais lauks. 11.k...   \n",
       "10 2020-11-20 18:36:26  Elektriskie lādiņi un elektriskais lauks. 11.k...   \n",
       "11 2020-11-20 18:36:27  Elektriskie lādiņi un elektriskais lauks. 11.k...   \n",
       "12 2020-11-20 18:36:28  Elektriskie lādiņi un elektriskais lauks. 11.k...   \n",
       "13 2020-11-20 18:36:29  Elektriskie lādiņi un elektriskais lauks. 11.k...   \n",
       "14 2020-11-20 18:36:36  Elektriskie lādiņi un elektriskais lauks. 11.k...   \n",
       "15 2020-11-20 18:36:36  Elektriskie lādiņi un elektriskais lauks. 11.k...   \n",
       "16 2020-11-21 07:40:31  Elektriskie lādiņi un elektriskais lauks. 11.k...   \n",
       "17 2020-11-21 07:40:46  Elektriskie lādiņi un elektriskais lauks. 11.k...   \n",
       "18 2020-11-21 07:40:53  Elektriskie lādiņi un elektriskais lauks. 11.k...   \n",
       "19 2020-11-21 07:40:59  Elektriskie lādiņi un elektriskais lauks. 11.k...   \n",
       "20 2020-11-21 07:41:05  Elektriskie lādiņi un elektriskais lauks. 11.k...   \n",
       "21 2020-11-21 07:41:13  Elektriskie lādiņi un elektriskais lauks. 11.k...   \n",
       "22 2020-11-21 07:41:36  Elektriskie lādiņi un elektriskais lauks. 11.k...   \n",
       "23 2020-11-21 08:07:09  Elektriskie lādiņi un elektriskais lauks. 11.k...   \n",
       "24 2020-11-21 08:07:27  Elektriskie lādiņi un elektriskais lauks. 11.k...   \n",
       "25 2020-11-21 08:07:32  Elektriskie lādiņi un elektriskais lauks. 11.k...   \n",
       "26 2020-11-21 08:07:38  Elektriskie lādiņi un elektriskais lauks. 11.k...   \n",
       "27 2020-11-21 08:07:58  Elektriskie lādiņi un elektriskais lauks. 11.k...   \n",
       "28 2020-11-21 08:08:28  Elektriskie lādiņi un elektriskais lauks. 11.k...   \n",
       "\n",
       "              type  itemid                                            title  \\\n",
       "0   multiplechoice    1645                                                a   \n",
       "1          content    1646  Elektriskās mijiedarbības spēks. Kulona likums.   \n",
       "2          content    1647                                   Kulona likums.   \n",
       "3          content    1648                                  Kulona likums.    \n",
       "4          content    1649                Kulona likums. Praktiskais darbs.   \n",
       "5          content    1649                Kulona likums. Praktiskais darbs.   \n",
       "6   multiplechoice    1650                                                b   \n",
       "7   multiplechoice    1645                                                a   \n",
       "8           result    1645                                                a   \n",
       "9          content    1646  Elektriskās mijiedarbības spēks. Kulona likums.   \n",
       "10         content    1647                                   Kulona likums.   \n",
       "11         content    1648                                  Kulona likums.    \n",
       "12         content    1649                Kulona likums. Praktiskais darbs.   \n",
       "13  multiplechoice    1650                                                b   \n",
       "14          result    1650                                                b   \n",
       "15  multiplechoice    1651                                                a   \n",
       "16  multiplechoice    1645                                                a   \n",
       "17         content    1646  Elektriskās mijiedarbības spēks. Kulona likums.   \n",
       "18         content    1647                                   Kulona likums.   \n",
       "19         content    1647                                   Kulona likums.   \n",
       "20         content    1648                                  Kulona likums.    \n",
       "21         content    1649                Kulona likums. Praktiskais darbs.   \n",
       "22  multiplechoice    1650                                                b   \n",
       "23  multiplechoice    1645                                                a   \n",
       "24         content    1646  Elektriskās mijiedarbības spēks. Kulona likums.   \n",
       "25         content    1647                                   Kulona likums.   \n",
       "26         content    1648                                  Kulona likums.    \n",
       "27         content    1649                Kulona likums. Praktiskais darbs.   \n",
       "28  multiplechoice    1650                                                b   \n",
       "\n",
       "                                             question answer answer_submitted  \\\n",
       "0                                                                         N/A   \n",
       "1                                                                         N/A   \n",
       "2                                                                         N/A   \n",
       "3                                                                         N/A   \n",
       "4                                                                         N/A   \n",
       "5                                                                         N/A   \n",
       "6                                                                         N/A   \n",
       "7                                                                         N/A   \n",
       "8   Ievirzes jautājumsKā savstarpēji mijiedarbojas...                    true   \n",
       "9                                                                         N/A   \n",
       "10                                                                        N/A   \n",
       "11                                                                        N/A   \n",
       "12                                                                        N/A   \n",
       "13                                                                        N/A   \n",
       "14  Pašpārbaudes jautājumsDivas mazas metāla lodīt...                    true   \n",
       "15                                                                        N/A   \n",
       "16                                                                        N/A   \n",
       "17                                                                        N/A   \n",
       "18                                                                        N/A   \n",
       "19                                                                        N/A   \n",
       "20                                                                        N/A   \n",
       "21                                                                        N/A   \n",
       "22                                                                        N/A   \n",
       "23                                                                        N/A   \n",
       "24                                                                        N/A   \n",
       "25                                                                        N/A   \n",
       "26                                                                        N/A   \n",
       "27                                                                        N/A   \n",
       "28                                                                        N/A   \n",
       "\n",
       "   correct_answer  \n",
       "0             N/A  \n",
       "1             N/A  \n",
       "2             N/A  \n",
       "3             N/A  \n",
       "4             N/A  \n",
       "5             N/A  \n",
       "6             N/A  \n",
       "7             N/A  \n",
       "8           false  \n",
       "9             N/A  \n",
       "10            N/A  \n",
       "11            N/A  \n",
       "12            N/A  \n",
       "13            N/A  \n",
       "14          false  \n",
       "15            N/A  \n",
       "16            N/A  \n",
       "17            N/A  \n",
       "18            N/A  \n",
       "19            N/A  \n",
       "20            N/A  \n",
       "21            N/A  \n",
       "22            N/A  \n",
       "23            N/A  \n",
       "24            N/A  \n",
       "25            N/A  \n",
       "26            N/A  \n",
       "27            N/A  \n",
       "28            N/A  "
      ]
     },
     "execution_count": 17,
     "metadata": {},
     "output_type": "execute_result"
    }
   ],
   "source": [
    "df[:]"
   ]
  },
  {
   "cell_type": "code",
   "execution_count": 10,
   "metadata": {},
   "outputs": [
    {
     "ename": "TypeError",
     "evalue": "unhashable type: 'dict'",
     "output_type": "error",
     "traceback": [
      "\u001b[1;31m---------------------------------------------------------------------------\u001b[0m",
      "\u001b[1;31mTypeError\u001b[0m                                 Traceback (most recent call last)",
      "\u001b[1;32m<ipython-input-10-4a4c016885cf>\u001b[0m in \u001b[0;36m<module>\u001b[1;34m\u001b[0m\n\u001b[1;32m----> 1\u001b[1;33m \u001b[0mdf\u001b[0m\u001b[1;33m[\u001b[0m\u001b[1;34m'user'\u001b[0m\u001b[1;33m]\u001b[0m\u001b[1;33m.\u001b[0m\u001b[0munique\u001b[0m\u001b[1;33m(\u001b[0m\u001b[1;33m)\u001b[0m\u001b[1;33m\u001b[0m\u001b[1;33m\u001b[0m\u001b[0m\n\u001b[0m",
      "\u001b[1;32me:\\python\\lib\\site-packages\\pandas\\core\\series.py\u001b[0m in \u001b[0;36munique\u001b[1;34m(self)\u001b[0m\n\u001b[0;32m   1866\u001b[0m         \u001b[0mCategories\u001b[0m \u001b[1;33m(\u001b[0m\u001b[1;36m3\u001b[0m\u001b[1;33m,\u001b[0m \u001b[0mobject\u001b[0m\u001b[1;33m)\u001b[0m\u001b[1;33m:\u001b[0m \u001b[1;33m[\u001b[0m\u001b[1;34m'a'\u001b[0m \u001b[1;33m<\u001b[0m \u001b[1;34m'b'\u001b[0m \u001b[1;33m<\u001b[0m \u001b[1;34m'c'\u001b[0m\u001b[1;33m]\u001b[0m\u001b[1;33m\u001b[0m\u001b[1;33m\u001b[0m\u001b[0m\n\u001b[0;32m   1867\u001b[0m         \"\"\"\n\u001b[1;32m-> 1868\u001b[1;33m         \u001b[0mresult\u001b[0m \u001b[1;33m=\u001b[0m \u001b[0msuper\u001b[0m\u001b[1;33m(\u001b[0m\u001b[1;33m)\u001b[0m\u001b[1;33m.\u001b[0m\u001b[0munique\u001b[0m\u001b[1;33m(\u001b[0m\u001b[1;33m)\u001b[0m\u001b[1;33m\u001b[0m\u001b[1;33m\u001b[0m\u001b[0m\n\u001b[0m\u001b[0;32m   1869\u001b[0m         \u001b[1;32mreturn\u001b[0m \u001b[0mresult\u001b[0m\u001b[1;33m\u001b[0m\u001b[1;33m\u001b[0m\u001b[0m\n\u001b[0;32m   1870\u001b[0m \u001b[1;33m\u001b[0m\u001b[0m\n",
      "\u001b[1;32me:\\python\\lib\\site-packages\\pandas\\core\\base.py\u001b[0m in \u001b[0;36munique\u001b[1;34m(self)\u001b[0m\n\u001b[0;32m   1263\u001b[0m                     \u001b[0mresult\u001b[0m \u001b[1;33m=\u001b[0m \u001b[0mnp\u001b[0m\u001b[1;33m.\u001b[0m\u001b[0masarray\u001b[0m\u001b[1;33m(\u001b[0m\u001b[0mresult\u001b[0m\u001b[1;33m)\u001b[0m\u001b[1;33m\u001b[0m\u001b[1;33m\u001b[0m\u001b[0m\n\u001b[0;32m   1264\u001b[0m         \u001b[1;32melse\u001b[0m\u001b[1;33m:\u001b[0m\u001b[1;33m\u001b[0m\u001b[1;33m\u001b[0m\u001b[0m\n\u001b[1;32m-> 1265\u001b[1;33m             \u001b[0mresult\u001b[0m \u001b[1;33m=\u001b[0m \u001b[0munique1d\u001b[0m\u001b[1;33m(\u001b[0m\u001b[0mvalues\u001b[0m\u001b[1;33m)\u001b[0m\u001b[1;33m\u001b[0m\u001b[1;33m\u001b[0m\u001b[0m\n\u001b[0m\u001b[0;32m   1266\u001b[0m \u001b[1;33m\u001b[0m\u001b[0m\n\u001b[0;32m   1267\u001b[0m         \u001b[1;32mreturn\u001b[0m \u001b[0mresult\u001b[0m\u001b[1;33m\u001b[0m\u001b[1;33m\u001b[0m\u001b[0m\n",
      "\u001b[1;32me:\\python\\lib\\site-packages\\pandas\\core\\algorithms.py\u001b[0m in \u001b[0;36munique\u001b[1;34m(values)\u001b[0m\n\u001b[0;32m    387\u001b[0m \u001b[1;33m\u001b[0m\u001b[0m\n\u001b[0;32m    388\u001b[0m     \u001b[0mtable\u001b[0m \u001b[1;33m=\u001b[0m \u001b[0mhtable\u001b[0m\u001b[1;33m(\u001b[0m\u001b[0mlen\u001b[0m\u001b[1;33m(\u001b[0m\u001b[0mvalues\u001b[0m\u001b[1;33m)\u001b[0m\u001b[1;33m)\u001b[0m\u001b[1;33m\u001b[0m\u001b[1;33m\u001b[0m\u001b[0m\n\u001b[1;32m--> 389\u001b[1;33m     \u001b[0muniques\u001b[0m \u001b[1;33m=\u001b[0m \u001b[0mtable\u001b[0m\u001b[1;33m.\u001b[0m\u001b[0munique\u001b[0m\u001b[1;33m(\u001b[0m\u001b[0mvalues\u001b[0m\u001b[1;33m)\u001b[0m\u001b[1;33m\u001b[0m\u001b[1;33m\u001b[0m\u001b[0m\n\u001b[0m\u001b[0;32m    390\u001b[0m     \u001b[0muniques\u001b[0m \u001b[1;33m=\u001b[0m \u001b[0m_reconstruct_data\u001b[0m\u001b[1;33m(\u001b[0m\u001b[0muniques\u001b[0m\u001b[1;33m,\u001b[0m \u001b[0moriginal\u001b[0m\u001b[1;33m.\u001b[0m\u001b[0mdtype\u001b[0m\u001b[1;33m,\u001b[0m \u001b[0moriginal\u001b[0m\u001b[1;33m)\u001b[0m\u001b[1;33m\u001b[0m\u001b[1;33m\u001b[0m\u001b[0m\n\u001b[0;32m    391\u001b[0m     \u001b[1;32mreturn\u001b[0m \u001b[0muniques\u001b[0m\u001b[1;33m\u001b[0m\u001b[1;33m\u001b[0m\u001b[0m\n",
      "\u001b[1;32mpandas\\_libs\\hashtable_class_helper.pxi\u001b[0m in \u001b[0;36mpandas._libs.hashtable.PyObjectHashTable.unique\u001b[1;34m()\u001b[0m\n",
      "\u001b[1;32mpandas\\_libs\\hashtable_class_helper.pxi\u001b[0m in \u001b[0;36mpandas._libs.hashtable.PyObjectHashTable._unique\u001b[1;34m()\u001b[0m\n",
      "\u001b[1;31mTypeError\u001b[0m: unhashable type: 'dict'"
     ]
    }
   ],
   "source": [
    "df['user'].unique()"
   ]
  },
  {
   "cell_type": "code",
   "execution_count": 36,
   "metadata": {
    "scrolled": false
   },
   "outputs": [
    {
     "name": "stdout",
     "output_type": "stream",
     "text": [
      "6\n",
      "4\n"
     ]
    }
   ],
   "source": [
    "print(df[df['title']=='A'].shape[0])\n",
    "print(df[df['title']=='B'].shape[0])\n",
    "# df[(df['type']=='content') & (df['lessonid']==268)]\n",
    "# df[(df['lessonid']==268)][:40]"
   ]
  },
  {
   "cell_type": "code",
   "execution_count": 15,
   "metadata": {
    "scrolled": false
   },
   "outputs": [
    {
     "data": {
      "text/plain": [
       "(1258, 15)"
      ]
     },
     "execution_count": 15,
     "metadata": {},
     "output_type": "execute_result"
    }
   ],
   "source": [
    "df.shape"
   ]
  },
  {
   "cell_type": "markdown",
   "metadata": {},
   "source": [
    "## Cleaning"
   ]
  },
  {
   "cell_type": "code",
   "execution_count": 16,
   "metadata": {},
   "outputs": [],
   "source": [
    "# Transform nested json column to seperate column\n",
    "# improvements: https://stackoverflow.com/questions/38147447/how-to-remove-square-bracket-from-pandas-dataframe\n",
    "df1 = pd.DataFrame(df['user'].values.tolist())\n",
    "df1.columns = 'user_'+ df1.columns\n",
    "\n",
    "col = df.columns.difference(['user'])\n",
    "df = pd.concat([df[col], df1],axis=1)"
   ]
  },
  {
   "cell_type": "code",
   "execution_count": 17,
   "metadata": {},
   "outputs": [
    {
     "data": {
      "text/plain": [
       "(1258, 16)"
      ]
     },
     "execution_count": 17,
     "metadata": {},
     "output_type": "execute_result"
    }
   ],
   "source": [
    "df.shape"
   ]
  },
  {
   "cell_type": "code",
   "execution_count": 18,
   "metadata": {},
   "outputs": [],
   "source": [
    "# funkcija trūkstošo vērtību aprēķināšanai\n",
    "def missing_data(data):\n",
    "    total = data.isnull().sum().sort_values(ascending = False)\n",
    "    percent = (data.isnull().sum()/data.isnull().count()*100).sort_values(ascending = False)\n",
    "    return pd.concat([total, percent], axis=1, keys=['Total NaN Values', 'Percentage of NaN Values'])"
   ]
  },
  {
   "cell_type": "code",
   "execution_count": 19,
   "metadata": {},
   "outputs": [
    {
     "data": {
      "text/plain": [
       "24"
      ]
     },
     "execution_count": 19,
     "metadata": {},
     "output_type": "execute_result"
    }
   ],
   "source": [
    "# Number of unique users including admins and managers\n",
    "number_of_users = len(df[\"user_id\"].unique())\n",
    "number_of_users"
   ]
  },
  {
   "cell_type": "markdown",
   "metadata": {},
   "source": [
    "## Filter student and results data"
   ]
  },
  {
   "cell_type": "code",
   "execution_count": 20,
   "metadata": {},
   "outputs": [],
   "source": [
    "rez = df[df['type'] == 'result']\n",
    "\n",
    "# Filter out only first item in 'user_role'\n",
    "rez = rez.loc[np.array(list(map(len,rez.user_roles.values)))==1]\n",
    "\n",
    "# Convert column from list to string\n",
    "rez['user_roles'] = rez['user_roles'].apply(lambda x: ','.join(map(str, x)))\n",
    "\n",
    "# Select only 'student' roles and make copy of original dataframe to avoid slicing view\n",
    "role = 'student'\n",
    "rez = rez.loc[rez.user_roles == role].copy()"
   ]
  },
  {
   "cell_type": "code",
   "execution_count": 21,
   "metadata": {},
   "outputs": [
    {
     "data": {
      "text/plain": [
       "343"
      ]
     },
     "execution_count": 21,
     "metadata": {},
     "output_type": "execute_result"
    }
   ],
   "source": [
    "rez.shape[0]"
   ]
  },
  {
   "cell_type": "code",
   "execution_count": 22,
   "metadata": {
    "scrolled": false
   },
   "outputs": [
    {
     "data": {
      "text/plain": [
       "array(['1. Kas ir mediji, ko no tiem sagaidīt', '2. Pierādījumu veidi',\n",
       "       '6. Loģikas kļūdas: nepatiesais cēlonis un atsaukšanās uz tradīciju',\n",
       "       '3. Viltus ziņas', '4. Ievads loģikas kļūdās',\n",
       "       '11. Kas ir tavi interneta dati, un kāpēc tos ievāc',\n",
       "       '12. Sociālo tīklu algoritmi un informācijas burbuļi (ekokambari)',\n",
       "       '5. Loģikas kļūdas: slidenā nogāze un melnbaltā domāšana'],\n",
       "      dtype=object)"
      ]
     },
     "execution_count": 22,
     "metadata": {},
     "output_type": "execute_result"
    }
   ],
   "source": [
    "# Check if 'user_role' has only one unique value which should be 'student'\n",
    "rez['section'].unique()"
   ]
  },
  {
   "cell_type": "markdown",
   "metadata": {},
   "source": [
    "### Dropping rows and features"
   ]
  },
  {
   "cell_type": "code",
   "execution_count": 23,
   "metadata": {},
   "outputs": [],
   "source": [
    "# Remove empty list in 'use_roles'\n",
    "# rez = rez[rez['user_roles'].map(lambda d: len(d)) > 0]"
   ]
  },
  {
   "cell_type": "markdown",
   "metadata": {},
   "source": [
    "#### Datetime"
   ]
  },
  {
   "cell_type": "code",
   "execution_count": 24,
   "metadata": {},
   "outputs": [],
   "source": [
    "# Transformējam laika kolonu par \"datetime\" objektu\n",
    "rez[\"datetime\"] = pd.to_datetime(rez[\"datetime\"])"
   ]
  },
  {
   "cell_type": "markdown",
   "metadata": {},
   "source": [
    "#### Keep first interaction"
   ]
  },
  {
   "cell_type": "code",
   "execution_count": 25,
   "metadata": {},
   "outputs": [
    {
     "data": {
      "text/plain": [
       "343"
      ]
     },
     "execution_count": 25,
     "metadata": {},
     "output_type": "execute_result"
    }
   ],
   "source": [
    "rez.shape[0]"
   ]
  },
  {
   "cell_type": "code",
   "execution_count": 26,
   "metadata": {},
   "outputs": [],
   "source": [
    "# Keeping only first occurance and dropping all other\n",
    "rez = rez.drop_duplicates(subset=['user_id', 'itemid'], keep=\"first\")"
   ]
  },
  {
   "cell_type": "code",
   "execution_count": 27,
   "metadata": {},
   "outputs": [
    {
     "data": {
      "text/plain": [
       "15"
      ]
     },
     "execution_count": 27,
     "metadata": {},
     "output_type": "execute_result"
    }
   ],
   "source": [
    "# Number of students only\n",
    "number_of_students = rez[\"user_id\"].nunique()\n",
    "number_of_students"
   ]
  },
  {
   "cell_type": "code",
   "execution_count": 28,
   "metadata": {},
   "outputs": [
    {
     "data": {
      "text/plain": [
       "301"
      ]
     },
     "execution_count": 28,
     "metadata": {},
     "output_type": "execute_result"
    }
   ],
   "source": [
    "rez.shape[0]"
   ]
  },
  {
   "cell_type": "code",
   "execution_count": 29,
   "metadata": {},
   "outputs": [],
   "source": [
    "# Drop nevajadzīgās colonas\n",
    "rez.drop(['id', 'answer', 'answer_submitted', 'timestamp', 'type', 'user_roles'], axis=1, inplace=True) # 'question', "
   ]
  },
  {
   "cell_type": "code",
   "execution_count": 30,
   "metadata": {},
   "outputs": [],
   "source": [
    "# Droop rows that are =0\n",
    "rez = rez[~rez['lessonid'].isin([0])].copy()"
   ]
  },
  {
   "cell_type": "code",
   "execution_count": 31,
   "metadata": {},
   "outputs": [
    {
     "data": {
      "text/plain": [
       "301"
      ]
     },
     "execution_count": 31,
     "metadata": {},
     "output_type": "execute_result"
    }
   ],
   "source": [
    "rez.shape[0]"
   ]
  },
  {
   "cell_type": "markdown",
   "metadata": {},
   "source": [
    "## Filtering A & B question pairs"
   ]
  },
  {
   "cell_type": "markdown",
   "metadata": {},
   "source": [
    "Creat new Column containing question letter"
   ]
  },
  {
   "cell_type": "code",
   "execution_count": 32,
   "metadata": {},
   "outputs": [],
   "source": [
    "# Take last\n",
    "rez['letter'] = rez['title'].str.strip().str[-1]\n",
    "\n",
    "# Remove rows that are not a or b\n",
    "rez = rez[(rez['title'].str.contains('A', case=False)) | (rez['title'].str.contains('B', case=False))].copy()"
   ]
  },
  {
   "cell_type": "code",
   "execution_count": 33,
   "metadata": {},
   "outputs": [
    {
     "data": {
      "text/plain": [
       "301"
      ]
     },
     "execution_count": 33,
     "metadata": {},
     "output_type": "execute_result"
    }
   ],
   "source": [
    "rez.shape[0]"
   ]
  },
  {
   "cell_type": "code",
   "execution_count": 34,
   "metadata": {},
   "outputs": [
    {
     "data": {
      "text/plain": [
       "array(['A', 'B'], dtype=object)"
      ]
     },
     "execution_count": 34,
     "metadata": {},
     "output_type": "execute_result"
    }
   ],
   "source": [
    "rez['letter'].unique()"
   ]
  },
  {
   "cell_type": "code",
   "execution_count": 35,
   "metadata": {},
   "outputs": [
    {
     "data": {
      "text/html": [
       "<div>\n",
       "<style scoped>\n",
       "    .dataframe tbody tr th:only-of-type {\n",
       "        vertical-align: middle;\n",
       "    }\n",
       "\n",
       "    .dataframe tbody tr th {\n",
       "        vertical-align: top;\n",
       "    }\n",
       "\n",
       "    .dataframe thead th {\n",
       "        text-align: right;\n",
       "    }\n",
       "</style>\n",
       "<table border=\"1\" class=\"dataframe\">\n",
       "  <thead>\n",
       "    <tr style=\"text-align: right;\">\n",
       "      <th></th>\n",
       "      <th>correct_answer</th>\n",
       "      <th>courseid</th>\n",
       "      <th>datetime</th>\n",
       "      <th>itemid</th>\n",
       "      <th>lessonid</th>\n",
       "      <th>question</th>\n",
       "      <th>section</th>\n",
       "      <th>sectionid</th>\n",
       "      <th>title</th>\n",
       "      <th>user_id</th>\n",
       "      <th>letter</th>\n",
       "    </tr>\n",
       "  </thead>\n",
       "  <tbody>\n",
       "    <tr>\n",
       "      <th>1</th>\n",
       "      <td>true</td>\n",
       "      <td>14</td>\n",
       "      <td>2020-10-19 20:05:31</td>\n",
       "      <td>399</td>\n",
       "      <td>270</td>\n",
       "      <td>Vai esi kādreiz aizdomājies, kāpēc medijiem va...</td>\n",
       "      <td>1. Kas ir mediji, ko no tiem sagaidīt</td>\n",
       "      <td>75</td>\n",
       "      <td>A</td>\n",
       "      <td>44</td>\n",
       "      <td>A</td>\n",
       "    </tr>\n",
       "    <tr>\n",
       "      <th>4</th>\n",
       "      <td>true</td>\n",
       "      <td>14</td>\n",
       "      <td>2020-10-19 20:05:47</td>\n",
       "      <td>401</td>\n",
       "      <td>270</td>\n",
       "      <td>Kā mediju biznesa modelis ietekmē informāciju?</td>\n",
       "      <td>1. Kas ir mediji, ko no tiem sagaidīt</td>\n",
       "      <td>75</td>\n",
       "      <td>B</td>\n",
       "      <td>44</td>\n",
       "      <td>B</td>\n",
       "    </tr>\n",
       "    <tr>\n",
       "      <th>6</th>\n",
       "      <td>false</td>\n",
       "      <td>14</td>\n",
       "      <td>2020-10-19 20:05:58</td>\n",
       "      <td>402</td>\n",
       "      <td>271</td>\n",
       "      <td>Viena no mediju biznesa modeļa sastāvdaļām ir ...</td>\n",
       "      <td>1. Kas ir mediji, ko no tiem sagaidīt</td>\n",
       "      <td>75</td>\n",
       "      <td>A</td>\n",
       "      <td>44</td>\n",
       "      <td>A</td>\n",
       "    </tr>\n",
       "    <tr>\n",
       "      <th>9</th>\n",
       "      <td>false</td>\n",
       "      <td>14</td>\n",
       "      <td>2020-10-19 20:06:10</td>\n",
       "      <td>404</td>\n",
       "      <td>271</td>\n",
       "      <td>Reklāmas medijiem ir nepieciešamas, lai</td>\n",
       "      <td>1. Kas ir mediji, ko no tiem sagaidīt</td>\n",
       "      <td>75</td>\n",
       "      <td>B</td>\n",
       "      <td>44</td>\n",
       "      <td>B</td>\n",
       "    </tr>\n",
       "    <tr>\n",
       "      <th>11</th>\n",
       "      <td>false</td>\n",
       "      <td>14</td>\n",
       "      <td>2020-10-19 20:06:22</td>\n",
       "      <td>405</td>\n",
       "      <td>272</td>\n",
       "      <td>Šajā tēmā esi uzzinājis, kas ir medijs, medijp...</td>\n",
       "      <td>1. Kas ir mediji, ko no tiem sagaidīt</td>\n",
       "      <td>75</td>\n",
       "      <td>A</td>\n",
       "      <td>44</td>\n",
       "      <td>A</td>\n",
       "    </tr>\n",
       "    <tr>\n",
       "      <th>14</th>\n",
       "      <td>true</td>\n",
       "      <td>14</td>\n",
       "      <td>2020-10-19 20:06:37</td>\n",
       "      <td>407</td>\n",
       "      <td>272</td>\n",
       "      <td>Reklāmas medijiem ir nepieciešamas, lai</td>\n",
       "      <td>1. Kas ir mediji, ko no tiem sagaidīt</td>\n",
       "      <td>75</td>\n",
       "      <td>B</td>\n",
       "      <td>44</td>\n",
       "      <td>B</td>\n",
       "    </tr>\n",
       "  </tbody>\n",
       "</table>\n",
       "</div>"
      ],
      "text/plain": [
       "   correct_answer  courseid            datetime  itemid  lessonid  \\\n",
       "1            true        14 2020-10-19 20:05:31     399       270   \n",
       "4            true        14 2020-10-19 20:05:47     401       270   \n",
       "6           false        14 2020-10-19 20:05:58     402       271   \n",
       "9           false        14 2020-10-19 20:06:10     404       271   \n",
       "11          false        14 2020-10-19 20:06:22     405       272   \n",
       "14           true        14 2020-10-19 20:06:37     407       272   \n",
       "\n",
       "                                             question  \\\n",
       "1   Vai esi kādreiz aizdomājies, kāpēc medijiem va...   \n",
       "4      Kā mediju biznesa modelis ietekmē informāciju?   \n",
       "6   Viena no mediju biznesa modeļa sastāvdaļām ir ...   \n",
       "9             Reklāmas medijiem ir nepieciešamas, lai   \n",
       "11  Šajā tēmā esi uzzinājis, kas ir medijs, medijp...   \n",
       "14            Reklāmas medijiem ir nepieciešamas, lai   \n",
       "\n",
       "                                  section  sectionid title  user_id letter  \n",
       "1   1. Kas ir mediji, ko no tiem sagaidīt         75     A       44      A  \n",
       "4   1. Kas ir mediji, ko no tiem sagaidīt         75     B       44      B  \n",
       "6   1. Kas ir mediji, ko no tiem sagaidīt         75     A       44      A  \n",
       "9   1. Kas ir mediji, ko no tiem sagaidīt         75     B       44      B  \n",
       "11  1. Kas ir mediji, ko no tiem sagaidīt         75     A       44      A  \n",
       "14  1. Kas ir mediji, ko no tiem sagaidīt         75     B       44      B  "
      ]
     },
     "execution_count": 35,
     "metadata": {},
     "output_type": "execute_result"
    }
   ],
   "source": [
    "rez.head(6)"
   ]
  },
  {
   "cell_type": "code",
   "execution_count": 36,
   "metadata": {},
   "outputs": [
    {
     "data": {
      "text/plain": [
       "array(['A', 'B'], dtype=object)"
      ]
     },
     "execution_count": 36,
     "metadata": {},
     "output_type": "execute_result"
    }
   ],
   "source": [
    "# Check unique values in column 'letter'. Only letters 'a' vai 'b' should be presented there\n",
    "rez['letter'].unique()"
   ]
  },
  {
   "cell_type": "code",
   "execution_count": 37,
   "metadata": {},
   "outputs": [
    {
     "data": {
      "text/plain": [
       "301"
      ]
     },
     "execution_count": 37,
     "metadata": {},
     "output_type": "execute_result"
    }
   ],
   "source": [
    "rez.shape[0]"
   ]
  },
  {
   "cell_type": "code",
   "execution_count": 38,
   "metadata": {
    "scrolled": true
   },
   "outputs": [],
   "source": [
    "# Remove rows with '.' for 'letter' value\n",
    "rez = rez[rez['letter'] != '.'].copy()"
   ]
  },
  {
   "cell_type": "code",
   "execution_count": 39,
   "metadata": {},
   "outputs": [
    {
     "data": {
      "text/plain": [
       "301"
      ]
     },
     "execution_count": 39,
     "metadata": {},
     "output_type": "execute_result"
    }
   ],
   "source": [
    "rez.shape[0]"
   ]
  },
  {
   "cell_type": "code",
   "execution_count": 40,
   "metadata": {},
   "outputs": [],
   "source": [
    "# Sakartoti pēc Lietotāja un priekšmeta ID *apskatei*\n",
    "rez.sort_values(by=['user_id', 'section', 'lessonid', 'datetime', 'title'], inplace=True)"
   ]
  },
  {
   "cell_type": "code",
   "execution_count": 41,
   "metadata": {},
   "outputs": [
    {
     "data": {
      "text/html": [
       "<div>\n",
       "<style scoped>\n",
       "    .dataframe tbody tr th:only-of-type {\n",
       "        vertical-align: middle;\n",
       "    }\n",
       "\n",
       "    .dataframe tbody tr th {\n",
       "        vertical-align: top;\n",
       "    }\n",
       "\n",
       "    .dataframe thead th {\n",
       "        text-align: right;\n",
       "    }\n",
       "</style>\n",
       "<table border=\"1\" class=\"dataframe\">\n",
       "  <thead>\n",
       "    <tr style=\"text-align: right;\">\n",
       "      <th></th>\n",
       "      <th>correct_answer</th>\n",
       "      <th>courseid</th>\n",
       "      <th>datetime</th>\n",
       "      <th>itemid</th>\n",
       "      <th>lessonid</th>\n",
       "      <th>question</th>\n",
       "      <th>section</th>\n",
       "      <th>sectionid</th>\n",
       "      <th>title</th>\n",
       "      <th>user_id</th>\n",
       "      <th>letter</th>\n",
       "    </tr>\n",
       "  </thead>\n",
       "  <tbody>\n",
       "    <tr>\n",
       "      <th>837</th>\n",
       "      <td>true</td>\n",
       "      <td>14</td>\n",
       "      <td>2020-02-11 18:01:52</td>\n",
       "      <td>445</td>\n",
       "      <td>287</td>\n",
       "      <td>Kas rada viltus ziņas?</td>\n",
       "      <td>3. Viltus ziņas</td>\n",
       "      <td>77</td>\n",
       "      <td>B</td>\n",
       "      <td>53</td>\n",
       "      <td>B</td>\n",
       "    </tr>\n",
       "    <tr>\n",
       "      <th>282</th>\n",
       "      <td>false</td>\n",
       "      <td>14</td>\n",
       "      <td>2020-10-23 18:35:36</td>\n",
       "      <td>515</td>\n",
       "      <td>316</td>\n",
       "      <td>Šajā tēmā varēsiet iepazīties ar divām citām l...</td>\n",
       "      <td>6. Loģikas kļūdas: nepatiesais cēlonis un atsa...</td>\n",
       "      <td>85</td>\n",
       "      <td>A</td>\n",
       "      <td>53</td>\n",
       "      <td>A</td>\n",
       "    </tr>\n",
       "    <tr>\n",
       "      <th>285</th>\n",
       "      <td>false</td>\n",
       "      <td>14</td>\n",
       "      <td>2020-10-23 18:35:54</td>\n",
       "      <td>517</td>\n",
       "      <td>316</td>\n",
       "      <td>Kas varētu maldināt lasītāju, ka ziņa ir patiesa?</td>\n",
       "      <td>6. Loģikas kļūdas: nepatiesais cēlonis un atsa...</td>\n",
       "      <td>85</td>\n",
       "      <td>B</td>\n",
       "      <td>53</td>\n",
       "      <td>B</td>\n",
       "    </tr>\n",
       "    <tr>\n",
       "      <th>287</th>\n",
       "      <td>false</td>\n",
       "      <td>14</td>\n",
       "      <td>2020-10-23 18:36:10</td>\n",
       "      <td>518</td>\n",
       "      <td>317</td>\n",
       "      <td>Visvieglāk saprast nepatieso cēloni kā loģikas...</td>\n",
       "      <td>6. Loģikas kļūdas: nepatiesais cēlonis un atsa...</td>\n",
       "      <td>85</td>\n",
       "      <td>A</td>\n",
       "      <td>53</td>\n",
       "      <td>A</td>\n",
       "    </tr>\n",
       "    <tr>\n",
       "      <th>290</th>\n",
       "      <td>true</td>\n",
       "      <td>14</td>\n",
       "      <td>2020-10-23 18:36:39</td>\n",
       "      <td>520</td>\n",
       "      <td>317</td>\n",
       "      <td>Vai apgalvojums ir loģisks?Jānis sava apgalvoj...</td>\n",
       "      <td>6. Loģikas kļūdas: nepatiesais cēlonis un atsa...</td>\n",
       "      <td>85</td>\n",
       "      <td>B</td>\n",
       "      <td>53</td>\n",
       "      <td>B</td>\n",
       "    </tr>\n",
       "    <tr>\n",
       "      <th>278</th>\n",
       "      <td>true</td>\n",
       "      <td>14</td>\n",
       "      <td>2020-10-23 18:28:57</td>\n",
       "      <td>524</td>\n",
       "      <td>320</td>\n",
       "      <td>Pūļveida domāšana ir vēl viena loģikas kļūda, ...</td>\n",
       "      <td>6. Loģikas kļūdas: nepatiesais cēlonis un atsa...</td>\n",
       "      <td>85</td>\n",
       "      <td>A</td>\n",
       "      <td>53</td>\n",
       "      <td>A</td>\n",
       "    </tr>\n",
       "    <tr>\n",
       "      <th>925</th>\n",
       "      <td>true</td>\n",
       "      <td>14</td>\n",
       "      <td>2020-03-11 21:07:37</td>\n",
       "      <td>384</td>\n",
       "      <td>183</td>\n",
       "      <td>Kas ir medijs?</td>\n",
       "      <td>1. Kas ir mediji, ko no tiem sagaidīt</td>\n",
       "      <td>75</td>\n",
       "      <td>A</td>\n",
       "      <td>54</td>\n",
       "      <td>A</td>\n",
       "    </tr>\n",
       "    <tr>\n",
       "      <th>928</th>\n",
       "      <td>true</td>\n",
       "      <td>14</td>\n",
       "      <td>2020-03-11 21:07:55</td>\n",
       "      <td>386</td>\n",
       "      <td>183</td>\n",
       "      <td>Medijs ir cilvēks vai organizācija kas:</td>\n",
       "      <td>1. Kas ir mediji, ko no tiem sagaidīt</td>\n",
       "      <td>75</td>\n",
       "      <td>B</td>\n",
       "      <td>54</td>\n",
       "      <td>B</td>\n",
       "    </tr>\n",
       "    <tr>\n",
       "      <th>930</th>\n",
       "      <td>true</td>\n",
       "      <td>14</td>\n",
       "      <td>2020-03-11 21:08:16</td>\n",
       "      <td>387</td>\n",
       "      <td>266</td>\n",
       "      <td>Esi veiksmīgi ticis galā ar pirmo tēmu, tagad ...</td>\n",
       "      <td>1. Kas ir mediji, ko no tiem sagaidīt</td>\n",
       "      <td>75</td>\n",
       "      <td>A</td>\n",
       "      <td>54</td>\n",
       "      <td>A</td>\n",
       "    </tr>\n",
       "    <tr>\n",
       "      <th>933</th>\n",
       "      <td>true</td>\n",
       "      <td>14</td>\n",
       "      <td>2020-03-11 21:08:38</td>\n",
       "      <td>389</td>\n",
       "      <td>266</td>\n",
       "      <td>Medijpratība ir</td>\n",
       "      <td>1. Kas ir mediji, ko no tiem sagaidīt</td>\n",
       "      <td>75</td>\n",
       "      <td>B</td>\n",
       "      <td>54</td>\n",
       "      <td>B</td>\n",
       "    </tr>\n",
       "    <tr>\n",
       "      <th>935</th>\n",
       "      <td>true</td>\n",
       "      <td>14</td>\n",
       "      <td>2020-03-11 21:09:25</td>\n",
       "      <td>390</td>\n",
       "      <td>267</td>\n",
       "      <td>Esi veiksmīgi ticis galā ar otro tēmu, tagad i...</td>\n",
       "      <td>1. Kas ir mediji, ko no tiem sagaidīt</td>\n",
       "      <td>75</td>\n",
       "      <td>A</td>\n",
       "      <td>54</td>\n",
       "      <td>A</td>\n",
       "    </tr>\n",
       "    <tr>\n",
       "      <th>938</th>\n",
       "      <td>true</td>\n",
       "      <td>14</td>\n",
       "      <td>2020-03-11 21:11:37</td>\n",
       "      <td>392</td>\n",
       "      <td>267</td>\n",
       "      <td>Informācija ir patiesa, ja</td>\n",
       "      <td>1. Kas ir mediji, ko no tiem sagaidīt</td>\n",
       "      <td>75</td>\n",
       "      <td>B</td>\n",
       "      <td>54</td>\n",
       "      <td>B</td>\n",
       "    </tr>\n",
       "    <tr>\n",
       "      <th>940</th>\n",
       "      <td>false</td>\n",
       "      <td>14</td>\n",
       "      <td>2020-03-11 21:12:25</td>\n",
       "      <td>393</td>\n",
       "      <td>268</td>\n",
       "      <td>Kad esi uzzinājis, kas ir mediji un medijpratī...</td>\n",
       "      <td>1. Kas ir mediji, ko no tiem sagaidīt</td>\n",
       "      <td>75</td>\n",
       "      <td>A</td>\n",
       "      <td>54</td>\n",
       "      <td>A</td>\n",
       "    </tr>\n",
       "    <tr>\n",
       "      <th>943</th>\n",
       "      <td>true</td>\n",
       "      <td>14</td>\n",
       "      <td>2020-03-11 21:12:51</td>\n",
       "      <td>395</td>\n",
       "      <td>268</td>\n",
       "      <td>Kas ir pamatota informācija?</td>\n",
       "      <td>1. Kas ir mediji, ko no tiem sagaidīt</td>\n",
       "      <td>75</td>\n",
       "      <td>B</td>\n",
       "      <td>54</td>\n",
       "      <td>B</td>\n",
       "    </tr>\n",
       "    <tr>\n",
       "      <th>945</th>\n",
       "      <td>true</td>\n",
       "      <td>14</td>\n",
       "      <td>2020-03-11 21:13:07</td>\n",
       "      <td>396</td>\n",
       "      <td>269</td>\n",
       "      <td>Tu iepazinies, kāda ietekme var būt tam, ko dz...</td>\n",
       "      <td>1. Kas ir mediji, ko no tiem sagaidīt</td>\n",
       "      <td>75</td>\n",
       "      <td>A</td>\n",
       "      <td>54</td>\n",
       "      <td>A</td>\n",
       "    </tr>\n",
       "    <tr>\n",
       "      <th>948</th>\n",
       "      <td>false</td>\n",
       "      <td>14</td>\n",
       "      <td>2020-03-11 21:13:57</td>\n",
       "      <td>398</td>\n",
       "      <td>269</td>\n",
       "      <td>Par labu informācijas avotu var uzskatīt</td>\n",
       "      <td>1. Kas ir mediji, ko no tiem sagaidīt</td>\n",
       "      <td>75</td>\n",
       "      <td>B</td>\n",
       "      <td>54</td>\n",
       "      <td>B</td>\n",
       "    </tr>\n",
       "    <tr>\n",
       "      <th>950</th>\n",
       "      <td>true</td>\n",
       "      <td>14</td>\n",
       "      <td>2020-03-11 21:14:18</td>\n",
       "      <td>399</td>\n",
       "      <td>270</td>\n",
       "      <td>Vai esi kādreiz aizdomājies, kāpēc medijiem va...</td>\n",
       "      <td>1. Kas ir mediji, ko no tiem sagaidīt</td>\n",
       "      <td>75</td>\n",
       "      <td>A</td>\n",
       "      <td>54</td>\n",
       "      <td>A</td>\n",
       "    </tr>\n",
       "    <tr>\n",
       "      <th>953</th>\n",
       "      <td>false</td>\n",
       "      <td>14</td>\n",
       "      <td>2020-03-11 21:14:47</td>\n",
       "      <td>401</td>\n",
       "      <td>270</td>\n",
       "      <td>Kā mediju biznesa modelis ietekmē informāciju?</td>\n",
       "      <td>1. Kas ir mediji, ko no tiem sagaidīt</td>\n",
       "      <td>75</td>\n",
       "      <td>B</td>\n",
       "      <td>54</td>\n",
       "      <td>B</td>\n",
       "    </tr>\n",
       "    <tr>\n",
       "      <th>955</th>\n",
       "      <td>false</td>\n",
       "      <td>14</td>\n",
       "      <td>2020-03-11 21:15:14</td>\n",
       "      <td>402</td>\n",
       "      <td>271</td>\n",
       "      <td>Viena no mediju biznesa modeļa sastāvdaļām ir ...</td>\n",
       "      <td>1. Kas ir mediji, ko no tiem sagaidīt</td>\n",
       "      <td>75</td>\n",
       "      <td>A</td>\n",
       "      <td>54</td>\n",
       "      <td>A</td>\n",
       "    </tr>\n",
       "    <tr>\n",
       "      <th>958</th>\n",
       "      <td>true</td>\n",
       "      <td>14</td>\n",
       "      <td>2020-03-11 21:15:45</td>\n",
       "      <td>404</td>\n",
       "      <td>271</td>\n",
       "      <td>Reklāmas medijiem ir nepieciešamas, lai</td>\n",
       "      <td>1. Kas ir mediji, ko no tiem sagaidīt</td>\n",
       "      <td>75</td>\n",
       "      <td>B</td>\n",
       "      <td>54</td>\n",
       "      <td>B</td>\n",
       "    </tr>\n",
       "    <tr>\n",
       "      <th>960</th>\n",
       "      <td>true</td>\n",
       "      <td>14</td>\n",
       "      <td>2020-03-11 21:16:02</td>\n",
       "      <td>405</td>\n",
       "      <td>272</td>\n",
       "      <td>Šajā tēmā esi uzzinājis, kas ir medijs, medijp...</td>\n",
       "      <td>1. Kas ir mediji, ko no tiem sagaidīt</td>\n",
       "      <td>75</td>\n",
       "      <td>A</td>\n",
       "      <td>54</td>\n",
       "      <td>A</td>\n",
       "    </tr>\n",
       "    <tr>\n",
       "      <th>963</th>\n",
       "      <td>true</td>\n",
       "      <td>14</td>\n",
       "      <td>2020-03-11 21:16:23</td>\n",
       "      <td>407</td>\n",
       "      <td>272</td>\n",
       "      <td>Reklāmas medijiem ir nepieciešamas, lai</td>\n",
       "      <td>1. Kas ir mediji, ko no tiem sagaidīt</td>\n",
       "      <td>75</td>\n",
       "      <td>B</td>\n",
       "      <td>54</td>\n",
       "      <td>B</td>\n",
       "    </tr>\n",
       "    <tr>\n",
       "      <th>965</th>\n",
       "      <td>true</td>\n",
       "      <td>14</td>\n",
       "      <td>2020-03-11 21:17:33</td>\n",
       "      <td>408</td>\n",
       "      <td>274</td>\n",
       "      <td>Iepriekšējā tēmā apguvi, kas ir mediji un kādi...</td>\n",
       "      <td>2. Pierādījumu veidi</td>\n",
       "      <td>76</td>\n",
       "      <td>A</td>\n",
       "      <td>54</td>\n",
       "      <td>A</td>\n",
       "    </tr>\n",
       "    <tr>\n",
       "      <th>968</th>\n",
       "      <td>true</td>\n",
       "      <td>14</td>\n",
       "      <td>2020-03-11 21:18:04</td>\n",
       "      <td>410</td>\n",
       "      <td>274</td>\n",
       "      <td>Medijs ir cilvēks vai organizācija kas:</td>\n",
       "      <td>2. Pierādījumu veidi</td>\n",
       "      <td>76</td>\n",
       "      <td>B</td>\n",
       "      <td>54</td>\n",
       "      <td>B</td>\n",
       "    </tr>\n",
       "    <tr>\n",
       "      <th>970</th>\n",
       "      <td>false</td>\n",
       "      <td>14</td>\n",
       "      <td>2020-03-11 21:18:16</td>\n",
       "      <td>418</td>\n",
       "      <td>279</td>\n",
       "      <td>Ir divu veidu pierādījumi - labie un sliktie. ...</td>\n",
       "      <td>2. Pierādījumu veidi</td>\n",
       "      <td>76</td>\n",
       "      <td>A</td>\n",
       "      <td>54</td>\n",
       "      <td>A</td>\n",
       "    </tr>\n",
       "    <tr>\n",
       "      <th>973</th>\n",
       "      <td>true</td>\n",
       "      <td>14</td>\n",
       "      <td>2020-03-11 21:18:42</td>\n",
       "      <td>420</td>\n",
       "      <td>279</td>\n",
       "      <td>Kurš ir slikts pierādījums:</td>\n",
       "      <td>2. Pierādījumu veidi</td>\n",
       "      <td>76</td>\n",
       "      <td>B</td>\n",
       "      <td>54</td>\n",
       "      <td>B</td>\n",
       "    </tr>\n",
       "    <tr>\n",
       "      <th>975</th>\n",
       "      <td>true</td>\n",
       "      <td>14</td>\n",
       "      <td>2020-03-11 21:19:15</td>\n",
       "      <td>421</td>\n",
       "      <td>280</td>\n",
       "      <td>Protams, mēs varam teikt, ka tas ir slikts pie...</td>\n",
       "      <td>2. Pierādījumu veidi</td>\n",
       "      <td>76</td>\n",
       "      <td>A</td>\n",
       "      <td>54</td>\n",
       "      <td>A</td>\n",
       "    </tr>\n",
       "    <tr>\n",
       "      <th>978</th>\n",
       "      <td>true</td>\n",
       "      <td>14</td>\n",
       "      <td>2020-03-11 21:19:38</td>\n",
       "      <td>423</td>\n",
       "      <td>280</td>\n",
       "      <td>Kurš nav slikts pierādījums:</td>\n",
       "      <td>2. Pierādījumu veidi</td>\n",
       "      <td>76</td>\n",
       "      <td>B</td>\n",
       "      <td>54</td>\n",
       "      <td>B</td>\n",
       "    </tr>\n",
       "    <tr>\n",
       "      <th>980</th>\n",
       "      <td>false</td>\n",
       "      <td>14</td>\n",
       "      <td>2020-03-11 21:20:01</td>\n",
       "      <td>424</td>\n",
       "      <td>281</td>\n",
       "      <td>Ir dažādi slikti pierādījumi, bet nekad nav pa...</td>\n",
       "      <td>2. Pierādījumu veidi</td>\n",
       "      <td>76</td>\n",
       "      <td>A</td>\n",
       "      <td>54</td>\n",
       "      <td>A</td>\n",
       "    </tr>\n",
       "    <tr>\n",
       "      <th>983</th>\n",
       "      <td>true</td>\n",
       "      <td>14</td>\n",
       "      <td>2020-03-11 21:20:22</td>\n",
       "      <td>426</td>\n",
       "      <td>281</td>\n",
       "      <td>Kurš nav slikts pierādījums:</td>\n",
       "      <td>2. Pierādījumu veidi</td>\n",
       "      <td>76</td>\n",
       "      <td>B</td>\n",
       "      <td>54</td>\n",
       "      <td>B</td>\n",
       "    </tr>\n",
       "    <tr>\n",
       "      <th>985</th>\n",
       "      <td>true</td>\n",
       "      <td>14</td>\n",
       "      <td>2020-03-11 21:20:50</td>\n",
       "      <td>427</td>\n",
       "      <td>282</td>\n",
       "      <td>Kā jau noskaidrojām - ir slikti un vidēji slik...</td>\n",
       "      <td>2. Pierādījumu veidi</td>\n",
       "      <td>76</td>\n",
       "      <td>A</td>\n",
       "      <td>54</td>\n",
       "      <td>A</td>\n",
       "    </tr>\n",
       "    <tr>\n",
       "      <th>988</th>\n",
       "      <td>true</td>\n",
       "      <td>14</td>\n",
       "      <td>2020-03-11 21:21:14</td>\n",
       "      <td>429</td>\n",
       "      <td>282</td>\n",
       "      <td>Kurš ir vidēji labs pierādījums?</td>\n",
       "      <td>2. Pierādījumu veidi</td>\n",
       "      <td>76</td>\n",
       "      <td>B</td>\n",
       "      <td>54</td>\n",
       "      <td>B</td>\n",
       "    </tr>\n",
       "    <tr>\n",
       "      <th>990</th>\n",
       "      <td>true</td>\n",
       "      <td>14</td>\n",
       "      <td>2020-03-11 21:21:28</td>\n",
       "      <td>430</td>\n",
       "      <td>283</td>\n",
       "      <td>\"Es lasīju, ka kāmis aiz vaigiem var aizlikt 5...</td>\n",
       "      <td>2. Pierādījumu veidi</td>\n",
       "      <td>76</td>\n",
       "      <td>A</td>\n",
       "      <td>54</td>\n",
       "      <td>A</td>\n",
       "    </tr>\n",
       "    <tr>\n",
       "      <th>993</th>\n",
       "      <td>true</td>\n",
       "      <td>14</td>\n",
       "      <td>2020-03-11 21:21:45</td>\n",
       "      <td>432</td>\n",
       "      <td>283</td>\n",
       "      <td>Kurš nav slikts pierādījums:</td>\n",
       "      <td>2. Pierādījumu veidi</td>\n",
       "      <td>76</td>\n",
       "      <td>B</td>\n",
       "      <td>54</td>\n",
       "      <td>B</td>\n",
       "    </tr>\n",
       "    <tr>\n",
       "      <th>995</th>\n",
       "      <td>true</td>\n",
       "      <td>14</td>\n",
       "      <td>2020-03-11 21:22:02</td>\n",
       "      <td>433</td>\n",
       "      <td>284</td>\n",
       "      <td>Kad esi iepazinies ar sliktiem un vidēji labie...</td>\n",
       "      <td>2. Pierādījumu veidi</td>\n",
       "      <td>76</td>\n",
       "      <td>A</td>\n",
       "      <td>54</td>\n",
       "      <td>A</td>\n",
       "    </tr>\n",
       "    <tr>\n",
       "      <th>998</th>\n",
       "      <td>true</td>\n",
       "      <td>14</td>\n",
       "      <td>2020-03-11 21:22:17</td>\n",
       "      <td>435</td>\n",
       "      <td>284</td>\n",
       "      <td>Kas raksturo ekspertu?</td>\n",
       "      <td>2. Pierādījumu veidi</td>\n",
       "      <td>76</td>\n",
       "      <td>B</td>\n",
       "      <td>54</td>\n",
       "      <td>B</td>\n",
       "    </tr>\n",
       "    <tr>\n",
       "      <th>1000</th>\n",
       "      <td>true</td>\n",
       "      <td>14</td>\n",
       "      <td>2020-03-11 21:22:30</td>\n",
       "      <td>436</td>\n",
       "      <td>285</td>\n",
       "      <td>Viens no pierādījumu veidiem ir tas, ko saka e...</td>\n",
       "      <td>2. Pierādījumu veidi</td>\n",
       "      <td>76</td>\n",
       "      <td>A</td>\n",
       "      <td>54</td>\n",
       "      <td>A</td>\n",
       "    </tr>\n",
       "    <tr>\n",
       "      <th>1003</th>\n",
       "      <td>true</td>\n",
       "      <td>14</td>\n",
       "      <td>2020-03-11 21:22:42</td>\n",
       "      <td>438</td>\n",
       "      <td>285</td>\n",
       "      <td>Kas raksturo ekspertu?</td>\n",
       "      <td>2. Pierādījumu veidi</td>\n",
       "      <td>76</td>\n",
       "      <td>B</td>\n",
       "      <td>54</td>\n",
       "      <td>B</td>\n",
       "    </tr>\n",
       "    <tr>\n",
       "      <th>1005</th>\n",
       "      <td>true</td>\n",
       "      <td>14</td>\n",
       "      <td>2020-04-11 09:34:02</td>\n",
       "      <td>443</td>\n",
       "      <td>287</td>\n",
       "      <td>Esi ticis/tikusi līdz jaunai tēmai -&amp;nbsp;3.1....</td>\n",
       "      <td>3. Viltus ziņas</td>\n",
       "      <td>77</td>\n",
       "      <td>A</td>\n",
       "      <td>54</td>\n",
       "      <td>A</td>\n",
       "    </tr>\n",
       "    <tr>\n",
       "      <th>1008</th>\n",
       "      <td>true</td>\n",
       "      <td>14</td>\n",
       "      <td>2020-04-11 09:34:14</td>\n",
       "      <td>445</td>\n",
       "      <td>287</td>\n",
       "      <td>Kas rada viltus ziņas?</td>\n",
       "      <td>3. Viltus ziņas</td>\n",
       "      <td>77</td>\n",
       "      <td>B</td>\n",
       "      <td>54</td>\n",
       "      <td>B</td>\n",
       "    </tr>\n",
       "  </tbody>\n",
       "</table>\n",
       "</div>"
      ],
      "text/plain": [
       "     correct_answer  courseid            datetime  itemid  lessonid  \\\n",
       "837            true        14 2020-02-11 18:01:52     445       287   \n",
       "282           false        14 2020-10-23 18:35:36     515       316   \n",
       "285           false        14 2020-10-23 18:35:54     517       316   \n",
       "287           false        14 2020-10-23 18:36:10     518       317   \n",
       "290            true        14 2020-10-23 18:36:39     520       317   \n",
       "278            true        14 2020-10-23 18:28:57     524       320   \n",
       "925            true        14 2020-03-11 21:07:37     384       183   \n",
       "928            true        14 2020-03-11 21:07:55     386       183   \n",
       "930            true        14 2020-03-11 21:08:16     387       266   \n",
       "933            true        14 2020-03-11 21:08:38     389       266   \n",
       "935            true        14 2020-03-11 21:09:25     390       267   \n",
       "938            true        14 2020-03-11 21:11:37     392       267   \n",
       "940           false        14 2020-03-11 21:12:25     393       268   \n",
       "943            true        14 2020-03-11 21:12:51     395       268   \n",
       "945            true        14 2020-03-11 21:13:07     396       269   \n",
       "948           false        14 2020-03-11 21:13:57     398       269   \n",
       "950            true        14 2020-03-11 21:14:18     399       270   \n",
       "953           false        14 2020-03-11 21:14:47     401       270   \n",
       "955           false        14 2020-03-11 21:15:14     402       271   \n",
       "958            true        14 2020-03-11 21:15:45     404       271   \n",
       "960            true        14 2020-03-11 21:16:02     405       272   \n",
       "963            true        14 2020-03-11 21:16:23     407       272   \n",
       "965            true        14 2020-03-11 21:17:33     408       274   \n",
       "968            true        14 2020-03-11 21:18:04     410       274   \n",
       "970           false        14 2020-03-11 21:18:16     418       279   \n",
       "973            true        14 2020-03-11 21:18:42     420       279   \n",
       "975            true        14 2020-03-11 21:19:15     421       280   \n",
       "978            true        14 2020-03-11 21:19:38     423       280   \n",
       "980           false        14 2020-03-11 21:20:01     424       281   \n",
       "983            true        14 2020-03-11 21:20:22     426       281   \n",
       "985            true        14 2020-03-11 21:20:50     427       282   \n",
       "988            true        14 2020-03-11 21:21:14     429       282   \n",
       "990            true        14 2020-03-11 21:21:28     430       283   \n",
       "993            true        14 2020-03-11 21:21:45     432       283   \n",
       "995            true        14 2020-03-11 21:22:02     433       284   \n",
       "998            true        14 2020-03-11 21:22:17     435       284   \n",
       "1000           true        14 2020-03-11 21:22:30     436       285   \n",
       "1003           true        14 2020-03-11 21:22:42     438       285   \n",
       "1005           true        14 2020-04-11 09:34:02     443       287   \n",
       "1008           true        14 2020-04-11 09:34:14     445       287   \n",
       "\n",
       "                                               question  \\\n",
       "837                              Kas rada viltus ziņas?   \n",
       "282   Šajā tēmā varēsiet iepazīties ar divām citām l...   \n",
       "285   Kas varētu maldināt lasītāju, ka ziņa ir patiesa?   \n",
       "287   Visvieglāk saprast nepatieso cēloni kā loģikas...   \n",
       "290   Vai apgalvojums ir loģisks?Jānis sava apgalvoj...   \n",
       "278   Pūļveida domāšana ir vēl viena loģikas kļūda, ...   \n",
       "925                                      Kas ir medijs?   \n",
       "928             Medijs ir cilvēks vai organizācija kas:   \n",
       "930   Esi veiksmīgi ticis galā ar pirmo tēmu, tagad ...   \n",
       "933                                     Medijpratība ir   \n",
       "935   Esi veiksmīgi ticis galā ar otro tēmu, tagad i...   \n",
       "938                          Informācija ir patiesa, ja   \n",
       "940   Kad esi uzzinājis, kas ir mediji un medijpratī...   \n",
       "943                        Kas ir pamatota informācija?   \n",
       "945   Tu iepazinies, kāda ietekme var būt tam, ko dz...   \n",
       "948            Par labu informācijas avotu var uzskatīt   \n",
       "950   Vai esi kādreiz aizdomājies, kāpēc medijiem va...   \n",
       "953      Kā mediju biznesa modelis ietekmē informāciju?   \n",
       "955   Viena no mediju biznesa modeļa sastāvdaļām ir ...   \n",
       "958             Reklāmas medijiem ir nepieciešamas, lai   \n",
       "960   Šajā tēmā esi uzzinājis, kas ir medijs, medijp...   \n",
       "963             Reklāmas medijiem ir nepieciešamas, lai   \n",
       "965   Iepriekšējā tēmā apguvi, kas ir mediji un kādi...   \n",
       "968             Medijs ir cilvēks vai organizācija kas:   \n",
       "970   Ir divu veidu pierādījumi - labie un sliktie. ...   \n",
       "973                         Kurš ir slikts pierādījums:   \n",
       "975   Protams, mēs varam teikt, ka tas ir slikts pie...   \n",
       "978                        Kurš nav slikts pierādījums:   \n",
       "980   Ir dažādi slikti pierādījumi, bet nekad nav pa...   \n",
       "983                        Kurš nav slikts pierādījums:   \n",
       "985   Kā jau noskaidrojām - ir slikti un vidēji slik...   \n",
       "988                    Kurš ir vidēji labs pierādījums?   \n",
       "990   \"Es lasīju, ka kāmis aiz vaigiem var aizlikt 5...   \n",
       "993                        Kurš nav slikts pierādījums:   \n",
       "995   Kad esi iepazinies ar sliktiem un vidēji labie...   \n",
       "998                              Kas raksturo ekspertu?   \n",
       "1000  Viens no pierādījumu veidiem ir tas, ko saka e...   \n",
       "1003                             Kas raksturo ekspertu?   \n",
       "1005  Esi ticis/tikusi līdz jaunai tēmai -&nbsp;3.1....   \n",
       "1008                             Kas rada viltus ziņas?   \n",
       "\n",
       "                                                section  sectionid title  \\\n",
       "837                                     3. Viltus ziņas         77     B   \n",
       "282   6. Loģikas kļūdas: nepatiesais cēlonis un atsa...         85     A   \n",
       "285   6. Loģikas kļūdas: nepatiesais cēlonis un atsa...         85     B   \n",
       "287   6. Loģikas kļūdas: nepatiesais cēlonis un atsa...         85     A   \n",
       "290   6. Loģikas kļūdas: nepatiesais cēlonis un atsa...         85     B   \n",
       "278   6. Loģikas kļūdas: nepatiesais cēlonis un atsa...         85     A   \n",
       "925               1. Kas ir mediji, ko no tiem sagaidīt         75     A   \n",
       "928               1. Kas ir mediji, ko no tiem sagaidīt         75     B   \n",
       "930               1. Kas ir mediji, ko no tiem sagaidīt         75     A   \n",
       "933               1. Kas ir mediji, ko no tiem sagaidīt         75     B   \n",
       "935               1. Kas ir mediji, ko no tiem sagaidīt         75     A   \n",
       "938               1. Kas ir mediji, ko no tiem sagaidīt         75     B   \n",
       "940               1. Kas ir mediji, ko no tiem sagaidīt         75     A   \n",
       "943               1. Kas ir mediji, ko no tiem sagaidīt         75     B   \n",
       "945               1. Kas ir mediji, ko no tiem sagaidīt         75     A   \n",
       "948               1. Kas ir mediji, ko no tiem sagaidīt         75     B   \n",
       "950               1. Kas ir mediji, ko no tiem sagaidīt         75     A   \n",
       "953               1. Kas ir mediji, ko no tiem sagaidīt         75     B   \n",
       "955               1. Kas ir mediji, ko no tiem sagaidīt         75     A   \n",
       "958               1. Kas ir mediji, ko no tiem sagaidīt         75     B   \n",
       "960               1. Kas ir mediji, ko no tiem sagaidīt         75     A   \n",
       "963               1. Kas ir mediji, ko no tiem sagaidīt         75     B   \n",
       "965                                2. Pierādījumu veidi         76     A   \n",
       "968                                2. Pierādījumu veidi         76     B   \n",
       "970                                2. Pierādījumu veidi         76     A   \n",
       "973                                2. Pierādījumu veidi         76     B   \n",
       "975                                2. Pierādījumu veidi         76     A   \n",
       "978                                2. Pierādījumu veidi         76     B   \n",
       "980                                2. Pierādījumu veidi         76     A   \n",
       "983                                2. Pierādījumu veidi         76     B   \n",
       "985                                2. Pierādījumu veidi         76     A   \n",
       "988                                2. Pierādījumu veidi         76     B   \n",
       "990                                2. Pierādījumu veidi         76     A   \n",
       "993                                2. Pierādījumu veidi         76     B   \n",
       "995                                2. Pierādījumu veidi         76     A   \n",
       "998                                2. Pierādījumu veidi         76     B   \n",
       "1000                               2. Pierādījumu veidi         76     A   \n",
       "1003                               2. Pierādījumu veidi         76     B   \n",
       "1005                                    3. Viltus ziņas         77     A   \n",
       "1008                                    3. Viltus ziņas         77     B   \n",
       "\n",
       "      user_id letter  \n",
       "837        53      B  \n",
       "282        53      A  \n",
       "285        53      B  \n",
       "287        53      A  \n",
       "290        53      B  \n",
       "278        53      A  \n",
       "925        54      A  \n",
       "928        54      B  \n",
       "930        54      A  \n",
       "933        54      B  \n",
       "935        54      A  \n",
       "938        54      B  \n",
       "940        54      A  \n",
       "943        54      B  \n",
       "945        54      A  \n",
       "948        54      B  \n",
       "950        54      A  \n",
       "953        54      B  \n",
       "955        54      A  \n",
       "958        54      B  \n",
       "960        54      A  \n",
       "963        54      B  \n",
       "965        54      A  \n",
       "968        54      B  \n",
       "970        54      A  \n",
       "973        54      B  \n",
       "975        54      A  \n",
       "978        54      B  \n",
       "980        54      A  \n",
       "983        54      B  \n",
       "985        54      A  \n",
       "988        54      B  \n",
       "990        54      A  \n",
       "993        54      B  \n",
       "995        54      A  \n",
       "998        54      B  \n",
       "1000       54      A  \n",
       "1003       54      B  \n",
       "1005       54      A  \n",
       "1008       54      B  "
      ]
     },
     "execution_count": 41,
     "metadata": {},
     "output_type": "execute_result"
    }
   ],
   "source": [
    "rez[40:80]"
   ]
  },
  {
   "cell_type": "code",
   "execution_count": 42,
   "metadata": {},
   "outputs": [
    {
     "data": {
      "text/html": [
       "<div>\n",
       "<style scoped>\n",
       "    .dataframe tbody tr th:only-of-type {\n",
       "        vertical-align: middle;\n",
       "    }\n",
       "\n",
       "    .dataframe tbody tr th {\n",
       "        vertical-align: top;\n",
       "    }\n",
       "\n",
       "    .dataframe thead th {\n",
       "        text-align: right;\n",
       "    }\n",
       "</style>\n",
       "<table border=\"1\" class=\"dataframe\">\n",
       "  <thead>\n",
       "    <tr style=\"text-align: right;\">\n",
       "      <th></th>\n",
       "      <th>correct_answer</th>\n",
       "      <th>courseid</th>\n",
       "      <th>datetime</th>\n",
       "      <th>itemid</th>\n",
       "      <th>lessonid</th>\n",
       "      <th>question</th>\n",
       "      <th>section</th>\n",
       "      <th>sectionid</th>\n",
       "      <th>title</th>\n",
       "      <th>user_id</th>\n",
       "      <th>letter</th>\n",
       "    </tr>\n",
       "  </thead>\n",
       "  <tbody>\n",
       "    <tr>\n",
       "      <th>16</th>\n",
       "      <td>n</td>\n",
       "      <td>14</td>\n",
       "      <td>2020-10-19 20:33:15</td>\n",
       "      <td>384</td>\n",
       "      <td>183</td>\n",
       "      <td>Kas ir medijs?</td>\n",
       "      <td>1. Kas ir mediji, ko no tiem sagaidīt</td>\n",
       "      <td>75</td>\n",
       "      <td>A</td>\n",
       "      <td>15</td>\n",
       "      <td>A</td>\n",
       "    </tr>\n",
       "    <tr>\n",
       "      <th>19</th>\n",
       "      <td>n</td>\n",
       "      <td>14</td>\n",
       "      <td>2020-10-19 20:33:27</td>\n",
       "      <td>386</td>\n",
       "      <td>183</td>\n",
       "      <td>Medijs ir cilvēks vai organizācija kas:</td>\n",
       "      <td>1. Kas ir mediji, ko no tiem sagaidīt</td>\n",
       "      <td>75</td>\n",
       "      <td>B</td>\n",
       "      <td>15</td>\n",
       "      <td>B</td>\n",
       "    </tr>\n",
       "    <tr>\n",
       "      <th>21</th>\n",
       "      <td>n</td>\n",
       "      <td>14</td>\n",
       "      <td>2020-10-19 20:33:37</td>\n",
       "      <td>387</td>\n",
       "      <td>266</td>\n",
       "      <td>Esi veiksmīgi ticis galā ar pirmo tēmu, tagad ...</td>\n",
       "      <td>1. Kas ir mediji, ko no tiem sagaidīt</td>\n",
       "      <td>75</td>\n",
       "      <td>A</td>\n",
       "      <td>15</td>\n",
       "      <td>A</td>\n",
       "    </tr>\n",
       "    <tr>\n",
       "      <th>43</th>\n",
       "      <td>n</td>\n",
       "      <td>14</td>\n",
       "      <td>2020-10-19 20:36:06</td>\n",
       "      <td>389</td>\n",
       "      <td>266</td>\n",
       "      <td>Medijpratība ir</td>\n",
       "      <td>1. Kas ir mediji, ko no tiem sagaidīt</td>\n",
       "      <td>75</td>\n",
       "      <td>B</td>\n",
       "      <td>15</td>\n",
       "      <td>B</td>\n",
       "    </tr>\n",
       "    <tr>\n",
       "      <th>1178</th>\n",
       "      <td>n</td>\n",
       "      <td>14</td>\n",
       "      <td>2020-09-11 18:04:36</td>\n",
       "      <td>390</td>\n",
       "      <td>267</td>\n",
       "      <td>Esi veiksmīgi ticis galā ar otro tēmu, tagad i...</td>\n",
       "      <td>1. Kas ir mediji, ko no tiem sagaidīt</td>\n",
       "      <td>75</td>\n",
       "      <td>A</td>\n",
       "      <td>15</td>\n",
       "      <td>A</td>\n",
       "    </tr>\n",
       "    <tr>\n",
       "      <th>...</th>\n",
       "      <td>...</td>\n",
       "      <td>...</td>\n",
       "      <td>...</td>\n",
       "      <td>...</td>\n",
       "      <td>...</td>\n",
       "      <td>...</td>\n",
       "      <td>...</td>\n",
       "      <td>...</td>\n",
       "      <td>...</td>\n",
       "      <td>...</td>\n",
       "      <td>...</td>\n",
       "    </tr>\n",
       "    <tr>\n",
       "      <th>1233</th>\n",
       "      <td>n</td>\n",
       "      <td>14</td>\n",
       "      <td>2020-10-11 16:34:52</td>\n",
       "      <td>401</td>\n",
       "      <td>270</td>\n",
       "      <td>Kā mediju biznesa modelis ietekmē informāciju?</td>\n",
       "      <td>1. Kas ir mediji, ko no tiem sagaidīt</td>\n",
       "      <td>75</td>\n",
       "      <td>B</td>\n",
       "      <td>125</td>\n",
       "      <td>B</td>\n",
       "    </tr>\n",
       "    <tr>\n",
       "      <th>1235</th>\n",
       "      <td>p</td>\n",
       "      <td>14</td>\n",
       "      <td>2020-10-11 16:35:20</td>\n",
       "      <td>402</td>\n",
       "      <td>271</td>\n",
       "      <td>Viena no mediju biznesa modeļa sastāvdaļām ir ...</td>\n",
       "      <td>1. Kas ir mediji, ko no tiem sagaidīt</td>\n",
       "      <td>75</td>\n",
       "      <td>A</td>\n",
       "      <td>125</td>\n",
       "      <td>A</td>\n",
       "    </tr>\n",
       "    <tr>\n",
       "      <th>1238</th>\n",
       "      <td>n</td>\n",
       "      <td>14</td>\n",
       "      <td>2020-10-11 16:35:43</td>\n",
       "      <td>404</td>\n",
       "      <td>271</td>\n",
       "      <td>Reklāmas medijiem ir nepieciešamas, lai</td>\n",
       "      <td>1. Kas ir mediji, ko no tiem sagaidīt</td>\n",
       "      <td>75</td>\n",
       "      <td>B</td>\n",
       "      <td>125</td>\n",
       "      <td>B</td>\n",
       "    </tr>\n",
       "    <tr>\n",
       "      <th>1240</th>\n",
       "      <td>n</td>\n",
       "      <td>14</td>\n",
       "      <td>2020-10-11 16:35:51</td>\n",
       "      <td>405</td>\n",
       "      <td>272</td>\n",
       "      <td>Šajā tēmā esi uzzinājis, kas ir medijs, medijp...</td>\n",
       "      <td>1. Kas ir mediji, ko no tiem sagaidīt</td>\n",
       "      <td>75</td>\n",
       "      <td>A</td>\n",
       "      <td>125</td>\n",
       "      <td>A</td>\n",
       "    </tr>\n",
       "    <tr>\n",
       "      <th>1243</th>\n",
       "      <td>n</td>\n",
       "      <td>14</td>\n",
       "      <td>2020-10-11 16:36:06</td>\n",
       "      <td>407</td>\n",
       "      <td>272</td>\n",
       "      <td>Reklāmas medijiem ir nepieciešamas, lai</td>\n",
       "      <td>1. Kas ir mediji, ko no tiem sagaidīt</td>\n",
       "      <td>75</td>\n",
       "      <td>B</td>\n",
       "      <td>125</td>\n",
       "      <td>B</td>\n",
       "    </tr>\n",
       "  </tbody>\n",
       "</table>\n",
       "<p>301 rows × 11 columns</p>\n",
       "</div>"
      ],
      "text/plain": [
       "     correct_answer  courseid            datetime  itemid  lessonid  \\\n",
       "16                n        14 2020-10-19 20:33:15     384       183   \n",
       "19                n        14 2020-10-19 20:33:27     386       183   \n",
       "21                n        14 2020-10-19 20:33:37     387       266   \n",
       "43                n        14 2020-10-19 20:36:06     389       266   \n",
       "1178              n        14 2020-09-11 18:04:36     390       267   \n",
       "...             ...       ...                 ...     ...       ...   \n",
       "1233              n        14 2020-10-11 16:34:52     401       270   \n",
       "1235              p        14 2020-10-11 16:35:20     402       271   \n",
       "1238              n        14 2020-10-11 16:35:43     404       271   \n",
       "1240              n        14 2020-10-11 16:35:51     405       272   \n",
       "1243              n        14 2020-10-11 16:36:06     407       272   \n",
       "\n",
       "                                               question  \\\n",
       "16                                       Kas ir medijs?   \n",
       "19              Medijs ir cilvēks vai organizācija kas:   \n",
       "21    Esi veiksmīgi ticis galā ar pirmo tēmu, tagad ...   \n",
       "43                                      Medijpratība ir   \n",
       "1178  Esi veiksmīgi ticis galā ar otro tēmu, tagad i...   \n",
       "...                                                 ...   \n",
       "1233     Kā mediju biznesa modelis ietekmē informāciju?   \n",
       "1235  Viena no mediju biznesa modeļa sastāvdaļām ir ...   \n",
       "1238            Reklāmas medijiem ir nepieciešamas, lai   \n",
       "1240  Šajā tēmā esi uzzinājis, kas ir medijs, medijp...   \n",
       "1243            Reklāmas medijiem ir nepieciešamas, lai   \n",
       "\n",
       "                                    section  sectionid title  user_id letter  \n",
       "16    1. Kas ir mediji, ko no tiem sagaidīt         75     A       15      A  \n",
       "19    1. Kas ir mediji, ko no tiem sagaidīt         75     B       15      B  \n",
       "21    1. Kas ir mediji, ko no tiem sagaidīt         75     A       15      A  \n",
       "43    1. Kas ir mediji, ko no tiem sagaidīt         75     B       15      B  \n",
       "1178  1. Kas ir mediji, ko no tiem sagaidīt         75     A       15      A  \n",
       "...                                     ...        ...   ...      ...    ...  \n",
       "1233  1. Kas ir mediji, ko no tiem sagaidīt         75     B      125      B  \n",
       "1235  1. Kas ir mediji, ko no tiem sagaidīt         75     A      125      A  \n",
       "1238  1. Kas ir mediji, ko no tiem sagaidīt         75     B      125      B  \n",
       "1240  1. Kas ir mediji, ko no tiem sagaidīt         75     A      125      A  \n",
       "1243  1. Kas ir mediji, ko no tiem sagaidīt         75     B      125      B  \n",
       "\n",
       "[301 rows x 11 columns]"
      ]
     },
     "execution_count": 42,
     "metadata": {},
     "output_type": "execute_result"
    }
   ],
   "source": [
    "# mapping true/false to p/n (pareizi/nepareizi)\n",
    "di = {'true':'p','false':'n'}\n",
    "rez.replace({'correct_answer': di}, inplace=True)\n",
    "rez"
   ]
  },
  {
   "cell_type": "code",
   "execution_count": 43,
   "metadata": {},
   "outputs": [],
   "source": [
    "# rez[rez['user_id']==90]"
   ]
  },
  {
   "cell_type": "code",
   "execution_count": 44,
   "metadata": {
    "scrolled": false
   },
   "outputs": [],
   "source": [
    "# rez[:50]"
   ]
  },
  {
   "cell_type": "code",
   "execution_count": 45,
   "metadata": {},
   "outputs": [],
   "source": [
    "# Convert everything to uppercase in case there are some in lowercase\n",
    "rez['letter'] = rez['letter'].str.upper()"
   ]
  },
  {
   "cell_type": "code",
   "execution_count": 46,
   "metadata": {},
   "outputs": [],
   "source": [
    "def a_b (x):\n",
    "    a = x[(x['letter'].shift(-1) == 'B')].copy()\n",
    "    b = x[(x['letter'] == 'B')].copy()\n",
    "    ab = a.append(b, sort=True)\n",
    "    ab.sort_values(by=['section', 'lessonid', 'user_id', 'letter'], inplace=True)\n",
    "    ab.reset_index(inplace=True)\n",
    "    ab.drop_duplicates(inplace=True)\n",
    "    a = ab[(ab['letter'] == 'A')].copy()\n",
    "    b = ab[(ab['letter'].shift(1) == 'A')].copy()\n",
    "    ab = a.append(b, sort=True)\n",
    "    ab.sort_values(by=['section', 'lessonid', 'user_id', 'letter'], inplace=True)\n",
    "    ab.reset_index(inplace=True)\n",
    "    ab.drop_duplicates(inplace=True)\n",
    "    return ab"
   ]
  },
  {
   "cell_type": "code",
   "execution_count": 47,
   "metadata": {},
   "outputs": [
    {
     "data": {
      "text/html": [
       "<div>\n",
       "<style scoped>\n",
       "    .dataframe tbody tr th:only-of-type {\n",
       "        vertical-align: middle;\n",
       "    }\n",
       "\n",
       "    .dataframe tbody tr th {\n",
       "        vertical-align: top;\n",
       "    }\n",
       "\n",
       "    .dataframe thead th {\n",
       "        text-align: right;\n",
       "    }\n",
       "</style>\n",
       "<table border=\"1\" class=\"dataframe\">\n",
       "  <thead>\n",
       "    <tr style=\"text-align: right;\">\n",
       "      <th></th>\n",
       "      <th>level_0</th>\n",
       "      <th>correct_answer</th>\n",
       "      <th>courseid</th>\n",
       "      <th>datetime</th>\n",
       "      <th>index</th>\n",
       "      <th>itemid</th>\n",
       "      <th>lessonid</th>\n",
       "      <th>letter</th>\n",
       "      <th>question</th>\n",
       "      <th>section</th>\n",
       "      <th>sectionid</th>\n",
       "      <th>title</th>\n",
       "      <th>user_id</th>\n",
       "    </tr>\n",
       "  </thead>\n",
       "  <tbody>\n",
       "    <tr>\n",
       "      <th>0</th>\n",
       "      <td>0</td>\n",
       "      <td>n</td>\n",
       "      <td>14</td>\n",
       "      <td>2020-10-19 20:33:15</td>\n",
       "      <td>16</td>\n",
       "      <td>384</td>\n",
       "      <td>183</td>\n",
       "      <td>A</td>\n",
       "      <td>Kas ir medijs?</td>\n",
       "      <td>1. Kas ir mediji, ko no tiem sagaidīt</td>\n",
       "      <td>75</td>\n",
       "      <td>A</td>\n",
       "      <td>15</td>\n",
       "    </tr>\n",
       "    <tr>\n",
       "      <th>1</th>\n",
       "      <td>1</td>\n",
       "      <td>n</td>\n",
       "      <td>14</td>\n",
       "      <td>2020-10-19 20:33:27</td>\n",
       "      <td>19</td>\n",
       "      <td>386</td>\n",
       "      <td>183</td>\n",
       "      <td>B</td>\n",
       "      <td>Medijs ir cilvēks vai organizācija kas:</td>\n",
       "      <td>1. Kas ir mediji, ko no tiem sagaidīt</td>\n",
       "      <td>75</td>\n",
       "      <td>B</td>\n",
       "      <td>15</td>\n",
       "    </tr>\n",
       "    <tr>\n",
       "      <th>2</th>\n",
       "      <td>2</td>\n",
       "      <td>p</td>\n",
       "      <td>14</td>\n",
       "      <td>2020-10-23 18:19:12</td>\n",
       "      <td>218</td>\n",
       "      <td>384</td>\n",
       "      <td>183</td>\n",
       "      <td>A</td>\n",
       "      <td>Kas ir medijs?</td>\n",
       "      <td>1. Kas ir mediji, ko no tiem sagaidīt</td>\n",
       "      <td>75</td>\n",
       "      <td>A</td>\n",
       "      <td>53</td>\n",
       "    </tr>\n",
       "    <tr>\n",
       "      <th>3</th>\n",
       "      <td>3</td>\n",
       "      <td>p</td>\n",
       "      <td>14</td>\n",
       "      <td>2020-10-23 18:19:41</td>\n",
       "      <td>221</td>\n",
       "      <td>386</td>\n",
       "      <td>183</td>\n",
       "      <td>B</td>\n",
       "      <td>Medijs ir cilvēks vai organizācija kas:</td>\n",
       "      <td>1. Kas ir mediji, ko no tiem sagaidīt</td>\n",
       "      <td>75</td>\n",
       "      <td>B</td>\n",
       "      <td>53</td>\n",
       "    </tr>\n",
       "    <tr>\n",
       "      <th>4</th>\n",
       "      <td>4</td>\n",
       "      <td>p</td>\n",
       "      <td>14</td>\n",
       "      <td>2020-03-11 21:07:37</td>\n",
       "      <td>925</td>\n",
       "      <td>384</td>\n",
       "      <td>183</td>\n",
       "      <td>A</td>\n",
       "      <td>Kas ir medijs?</td>\n",
       "      <td>1. Kas ir mediji, ko no tiem sagaidīt</td>\n",
       "      <td>75</td>\n",
       "      <td>A</td>\n",
       "      <td>54</td>\n",
       "    </tr>\n",
       "    <tr>\n",
       "      <th>...</th>\n",
       "      <td>...</td>\n",
       "      <td>...</td>\n",
       "      <td>...</td>\n",
       "      <td>...</td>\n",
       "      <td>...</td>\n",
       "      <td>...</td>\n",
       "      <td>...</td>\n",
       "      <td>...</td>\n",
       "      <td>...</td>\n",
       "      <td>...</td>\n",
       "      <td>...</td>\n",
       "      <td>...</td>\n",
       "      <td>...</td>\n",
       "    </tr>\n",
       "    <tr>\n",
       "      <th>271</th>\n",
       "      <td>295</td>\n",
       "      <td>n</td>\n",
       "      <td>14</td>\n",
       "      <td>2020-04-11 09:50:12</td>\n",
       "      <td>1115</td>\n",
       "      <td>520</td>\n",
       "      <td>317</td>\n",
       "      <td>B</td>\n",
       "      <td>Vai apgalvojums ir loģisks?Jānis sava apgalvoj...</td>\n",
       "      <td>6. Loģikas kļūdas: nepatiesais cēlonis un atsa...</td>\n",
       "      <td>85</td>\n",
       "      <td>B</td>\n",
       "      <td>54</td>\n",
       "    </tr>\n",
       "    <tr>\n",
       "      <th>272</th>\n",
       "      <td>296</td>\n",
       "      <td>p</td>\n",
       "      <td>14</td>\n",
       "      <td>2020-04-11 09:50:35</td>\n",
       "      <td>1117</td>\n",
       "      <td>521</td>\n",
       "      <td>318</td>\n",
       "      <td>A</td>\n",
       "      <td>Vēl ir arī tāda loģikas kļūda kā atsaukšanās u...</td>\n",
       "      <td>6. Loģikas kļūdas: nepatiesais cēlonis un atsa...</td>\n",
       "      <td>85</td>\n",
       "      <td>A</td>\n",
       "      <td>54</td>\n",
       "    </tr>\n",
       "    <tr>\n",
       "      <th>273</th>\n",
       "      <td>297</td>\n",
       "      <td>p</td>\n",
       "      <td>14</td>\n",
       "      <td>2020-04-11 09:50:55</td>\n",
       "      <td>1120</td>\n",
       "      <td>523</td>\n",
       "      <td>318</td>\n",
       "      <td>B</td>\n",
       "      <td>Ko nozīmē - atsaukties uz tradīcijām?</td>\n",
       "      <td>6. Loģikas kļūdas: nepatiesais cēlonis un atsa...</td>\n",
       "      <td>85</td>\n",
       "      <td>B</td>\n",
       "      <td>54</td>\n",
       "    </tr>\n",
       "    <tr>\n",
       "      <th>274</th>\n",
       "      <td>298</td>\n",
       "      <td>p</td>\n",
       "      <td>14</td>\n",
       "      <td>2020-04-11 09:51:08</td>\n",
       "      <td>1122</td>\n",
       "      <td>524</td>\n",
       "      <td>320</td>\n",
       "      <td>A</td>\n",
       "      <td>Pūļveida domāšana ir vēl viena loģikas kļūda, ...</td>\n",
       "      <td>6. Loģikas kļūdas: nepatiesais cēlonis un atsa...</td>\n",
       "      <td>85</td>\n",
       "      <td>A</td>\n",
       "      <td>54</td>\n",
       "    </tr>\n",
       "    <tr>\n",
       "      <th>275</th>\n",
       "      <td>299</td>\n",
       "      <td>p</td>\n",
       "      <td>14</td>\n",
       "      <td>2020-04-11 09:51:27</td>\n",
       "      <td>1125</td>\n",
       "      <td>526</td>\n",
       "      <td>320</td>\n",
       "      <td>B</td>\n",
       "      <td>Kura no ziņām varētu būt viltus ziņa?</td>\n",
       "      <td>6. Loģikas kļūdas: nepatiesais cēlonis un atsa...</td>\n",
       "      <td>85</td>\n",
       "      <td>B</td>\n",
       "      <td>54</td>\n",
       "    </tr>\n",
       "  </tbody>\n",
       "</table>\n",
       "<p>276 rows × 13 columns</p>\n",
       "</div>"
      ],
      "text/plain": [
       "     level_0 correct_answer  courseid            datetime  index  itemid  \\\n",
       "0          0              n        14 2020-10-19 20:33:15     16     384   \n",
       "1          1              n        14 2020-10-19 20:33:27     19     386   \n",
       "2          2              p        14 2020-10-23 18:19:12    218     384   \n",
       "3          3              p        14 2020-10-23 18:19:41    221     386   \n",
       "4          4              p        14 2020-03-11 21:07:37    925     384   \n",
       "..       ...            ...       ...                 ...    ...     ...   \n",
       "271      295              n        14 2020-04-11 09:50:12   1115     520   \n",
       "272      296              p        14 2020-04-11 09:50:35   1117     521   \n",
       "273      297              p        14 2020-04-11 09:50:55   1120     523   \n",
       "274      298              p        14 2020-04-11 09:51:08   1122     524   \n",
       "275      299              p        14 2020-04-11 09:51:27   1125     526   \n",
       "\n",
       "     lessonid letter                                           question  \\\n",
       "0         183      A                                     Kas ir medijs?   \n",
       "1         183      B            Medijs ir cilvēks vai organizācija kas:   \n",
       "2         183      A                                     Kas ir medijs?   \n",
       "3         183      B            Medijs ir cilvēks vai organizācija kas:   \n",
       "4         183      A                                     Kas ir medijs?   \n",
       "..        ...    ...                                                ...   \n",
       "271       317      B  Vai apgalvojums ir loģisks?Jānis sava apgalvoj...   \n",
       "272       318      A  Vēl ir arī tāda loģikas kļūda kā atsaukšanās u...   \n",
       "273       318      B              Ko nozīmē - atsaukties uz tradīcijām?   \n",
       "274       320      A  Pūļveida domāšana ir vēl viena loģikas kļūda, ...   \n",
       "275       320      B              Kura no ziņām varētu būt viltus ziņa?   \n",
       "\n",
       "                                               section  sectionid title  \\\n",
       "0                1. Kas ir mediji, ko no tiem sagaidīt         75     A   \n",
       "1                1. Kas ir mediji, ko no tiem sagaidīt         75     B   \n",
       "2                1. Kas ir mediji, ko no tiem sagaidīt         75     A   \n",
       "3                1. Kas ir mediji, ko no tiem sagaidīt         75     B   \n",
       "4                1. Kas ir mediji, ko no tiem sagaidīt         75     A   \n",
       "..                                                 ...        ...   ...   \n",
       "271  6. Loģikas kļūdas: nepatiesais cēlonis un atsa...         85     B   \n",
       "272  6. Loģikas kļūdas: nepatiesais cēlonis un atsa...         85     A   \n",
       "273  6. Loģikas kļūdas: nepatiesais cēlonis un atsa...         85     B   \n",
       "274  6. Loģikas kļūdas: nepatiesais cēlonis un atsa...         85     A   \n",
       "275  6. Loģikas kļūdas: nepatiesais cēlonis un atsa...         85     B   \n",
       "\n",
       "     user_id  \n",
       "0         15  \n",
       "1         15  \n",
       "2         53  \n",
       "3         53  \n",
       "4         54  \n",
       "..       ...  \n",
       "271       54  \n",
       "272       54  \n",
       "273       54  \n",
       "274       54  \n",
       "275       54  \n",
       "\n",
       "[276 rows x 13 columns]"
      ]
     },
     "execution_count": 47,
     "metadata": {},
     "output_type": "execute_result"
    }
   ],
   "source": [
    "a_b(rez)"
   ]
  },
  {
   "cell_type": "code",
   "execution_count": 48,
   "metadata": {},
   "outputs": [],
   "source": [
    "# All necessary 'a'\n",
    "a = rez[(rez['letter'].shift(-1) == 'B')].copy()\n",
    "\n",
    "# All necessary 'b'\n",
    "b = rez[(rez['letter'] == 'B')].copy()"
   ]
  },
  {
   "cell_type": "code",
   "execution_count": 49,
   "metadata": {},
   "outputs": [],
   "source": [
    "# Combine two filtered dataframes\n",
    "ab = a.append(b, sort=True)\n",
    "\n",
    "# Sort values and reset index\n",
    "ab.sort_values(by=['section', 'lessonid', 'user_id', 'letter'], inplace=True)\n",
    "ab.reset_index(inplace=True)"
   ]
  },
  {
   "cell_type": "code",
   "execution_count": 50,
   "metadata": {},
   "outputs": [],
   "source": [
    "ab.drop_duplicates(inplace=True)"
   ]
  },
  {
   "cell_type": "code",
   "execution_count": 51,
   "metadata": {},
   "outputs": [
    {
     "data": {
      "text/plain": [
       "(288, 301)"
      ]
     },
     "execution_count": 51,
     "metadata": {},
     "output_type": "execute_result"
    }
   ],
   "source": [
    "ab.shape[0], rez.shape[0]"
   ]
  },
  {
   "cell_type": "code",
   "execution_count": 52,
   "metadata": {},
   "outputs": [],
   "source": [
    "# All necessary 'a'\n",
    "a = ab[(ab['letter'] == 'A')].copy()\n",
    "\n",
    "# All necessary 'b'\n",
    "b = ab[(ab['letter'].shift(1) == 'A')].copy()"
   ]
  },
  {
   "cell_type": "code",
   "execution_count": 53,
   "metadata": {},
   "outputs": [],
   "source": [
    "# Combine two filtered dataframes\n",
    "ab = a.append(b, sort=True)\n",
    "\n",
    "# Sort values and reset index\n",
    "ab.sort_values(by=['section', 'lessonid', 'user_id', 'letter'], inplace=True)\n",
    "ab.reset_index(inplace=True)"
   ]
  },
  {
   "cell_type": "code",
   "execution_count": 54,
   "metadata": {},
   "outputs": [],
   "source": [
    "ab.drop_duplicates(inplace=True)"
   ]
  },
  {
   "cell_type": "code",
   "execution_count": 55,
   "metadata": {},
   "outputs": [
    {
     "data": {
      "text/plain": [
       "276"
      ]
     },
     "execution_count": 55,
     "metadata": {},
     "output_type": "execute_result"
    }
   ],
   "source": [
    "ab.shape[0]"
   ]
  },
  {
   "cell_type": "code",
   "execution_count": 56,
   "metadata": {},
   "outputs": [
    {
     "data": {
      "text/html": [
       "<div>\n",
       "<style scoped>\n",
       "    .dataframe tbody tr th:only-of-type {\n",
       "        vertical-align: middle;\n",
       "    }\n",
       "\n",
       "    .dataframe tbody tr th {\n",
       "        vertical-align: top;\n",
       "    }\n",
       "\n",
       "    .dataframe thead th {\n",
       "        text-align: right;\n",
       "    }\n",
       "</style>\n",
       "<table border=\"1\" class=\"dataframe\">\n",
       "  <thead>\n",
       "    <tr style=\"text-align: right;\">\n",
       "      <th></th>\n",
       "      <th>level_0</th>\n",
       "      <th>correct_answer</th>\n",
       "      <th>courseid</th>\n",
       "      <th>datetime</th>\n",
       "      <th>index</th>\n",
       "      <th>itemid</th>\n",
       "      <th>lessonid</th>\n",
       "      <th>letter</th>\n",
       "      <th>question</th>\n",
       "      <th>section</th>\n",
       "      <th>sectionid</th>\n",
       "      <th>title</th>\n",
       "      <th>user_id</th>\n",
       "    </tr>\n",
       "  </thead>\n",
       "  <tbody>\n",
       "    <tr>\n",
       "      <th>126</th>\n",
       "      <td>144</td>\n",
       "      <td>p</td>\n",
       "      <td>14</td>\n",
       "      <td>2020-10-30 18:33:48</td>\n",
       "      <td>762</td>\n",
       "      <td>402</td>\n",
       "      <td>271</td>\n",
       "      <td>A</td>\n",
       "      <td>Viena no mediju biznesa modeļa sastāvdaļām ir ...</td>\n",
       "      <td>1. Kas ir mediji, ko no tiem sagaidīt</td>\n",
       "      <td>75</td>\n",
       "      <td>A</td>\n",
       "      <td>95</td>\n",
       "    </tr>\n",
       "    <tr>\n",
       "      <th>127</th>\n",
       "      <td>145</td>\n",
       "      <td>p</td>\n",
       "      <td>14</td>\n",
       "      <td>2020-10-30 18:41:35</td>\n",
       "      <td>765</td>\n",
       "      <td>404</td>\n",
       "      <td>271</td>\n",
       "      <td>B</td>\n",
       "      <td>Reklāmas medijiem ir nepieciešamas, lai</td>\n",
       "      <td>1. Kas ir mediji, ko no tiem sagaidīt</td>\n",
       "      <td>75</td>\n",
       "      <td>B</td>\n",
       "      <td>95</td>\n",
       "    </tr>\n",
       "  </tbody>\n",
       "</table>\n",
       "</div>"
      ],
      "text/plain": [
       "     level_0 correct_answer  courseid            datetime  index  itemid  \\\n",
       "126      144              p        14 2020-10-30 18:33:48    762     402   \n",
       "127      145              p        14 2020-10-30 18:41:35    765     404   \n",
       "\n",
       "     lessonid letter                                           question  \\\n",
       "126       271      A  Viena no mediju biznesa modeļa sastāvdaļām ir ...   \n",
       "127       271      B            Reklāmas medijiem ir nepieciešamas, lai   \n",
       "\n",
       "                                   section  sectionid title  user_id  \n",
       "126  1. Kas ir mediji, ko no tiem sagaidīt         75     A       95  \n",
       "127  1. Kas ir mediji, ko no tiem sagaidīt         75     B       95  "
      ]
     },
     "execution_count": 56,
     "metadata": {},
     "output_type": "execute_result"
    }
   ],
   "source": [
    "ab[126:128]"
   ]
  },
  {
   "cell_type": "markdown",
   "metadata": {},
   "source": [
    "# Final Aggregation and Visualisation"
   ]
  },
  {
   "cell_type": "markdown",
   "metadata": {},
   "source": [
    "## Complete learning acquisition landscape"
   ]
  },
  {
   "cell_type": "markdown",
   "metadata": {},
   "source": [
    "Calculated theoretical values of average relative probability for N-P, P-P, N-N,P-N for three types of e-content"
   ]
  },
  {
   "cell_type": "code",
   "execution_count": 215,
   "metadata": {},
   "outputs": [],
   "source": [
    "df_tele = pd.DataFrame(data=[['Neatbilstošs saturs',0.222,0.111,0.666],\n",
    "                             ['Pārāk viegls saturs',0,1,0,],\n",
    "                             ['Atbilstošs saturs',0.667,0.333,0]],\n",
    "                             columns=['content','N-P','P-P','X-N'], index=None)"
   ]
  },
  {
   "cell_type": "code",
   "execution_count": 216,
   "metadata": {
    "scrolled": true
   },
   "outputs": [
    {
     "data": {
      "text/html": [
       "<div>\n",
       "<style scoped>\n",
       "    .dataframe tbody tr th:only-of-type {\n",
       "        vertical-align: middle;\n",
       "    }\n",
       "\n",
       "    .dataframe tbody tr th {\n",
       "        vertical-align: top;\n",
       "    }\n",
       "\n",
       "    .dataframe thead th {\n",
       "        text-align: right;\n",
       "    }\n",
       "</style>\n",
       "<table border=\"1\" class=\"dataframe\">\n",
       "  <thead>\n",
       "    <tr style=\"text-align: right;\">\n",
       "      <th></th>\n",
       "      <th>content</th>\n",
       "      <th>N-P</th>\n",
       "      <th>P-P</th>\n",
       "      <th>X-N</th>\n",
       "    </tr>\n",
       "  </thead>\n",
       "  <tbody>\n",
       "    <tr>\n",
       "      <th>0</th>\n",
       "      <td>Neatbilstošs saturs</td>\n",
       "      <td>0.222</td>\n",
       "      <td>0.111</td>\n",
       "      <td>0.666</td>\n",
       "    </tr>\n",
       "    <tr>\n",
       "      <th>1</th>\n",
       "      <td>Pārāk viegls saturs</td>\n",
       "      <td>0.000</td>\n",
       "      <td>1.000</td>\n",
       "      <td>0.000</td>\n",
       "    </tr>\n",
       "    <tr>\n",
       "      <th>2</th>\n",
       "      <td>Atbilstošs saturs</td>\n",
       "      <td>0.667</td>\n",
       "      <td>0.333</td>\n",
       "      <td>0.000</td>\n",
       "    </tr>\n",
       "  </tbody>\n",
       "</table>\n",
       "</div>"
      ],
      "text/plain": [
       "               content    N-P    P-P    X-N\n",
       "0  Neatbilstošs saturs  0.222  0.111  0.666\n",
       "1  Pārāk viegls saturs  0.000  1.000  0.000\n",
       "2    Atbilstošs saturs  0.667  0.333  0.000"
      ]
     },
     "execution_count": 216,
     "metadata": {},
     "output_type": "execute_result"
    }
   ],
   "source": [
    "df_tele"
   ]
  },
  {
   "cell_type": "code",
   "execution_count": 217,
   "metadata": {},
   "outputs": [],
   "source": [
    "# df_tele.to_csv(r'D:\\Google Drive\\Python projects\\Telecides\\data\\landscape.csv', index = False)"
   ]
  },
  {
   "cell_type": "markdown",
   "metadata": {},
   "source": [
    "## Telecides on learning acquisition landscape"
   ]
  },
  {
   "cell_type": "code",
   "execution_count": 60,
   "metadata": {},
   "outputs": [
    {
     "data": {
      "text/html": [
       "<div>\n",
       "<style scoped>\n",
       "    .dataframe tbody tr th:only-of-type {\n",
       "        vertical-align: middle;\n",
       "    }\n",
       "\n",
       "    .dataframe tbody tr th {\n",
       "        vertical-align: top;\n",
       "    }\n",
       "\n",
       "    .dataframe thead th {\n",
       "        text-align: right;\n",
       "    }\n",
       "</style>\n",
       "<table border=\"1\" class=\"dataframe\">\n",
       "  <thead>\n",
       "    <tr style=\"text-align: right;\">\n",
       "      <th></th>\n",
       "      <th>section</th>\n",
       "      <th>correct_answer</th>\n",
       "    </tr>\n",
       "  </thead>\n",
       "  <tbody>\n",
       "    <tr>\n",
       "      <th>0</th>\n",
       "      <td>1. Kas ir mediji, ko no tiem sagaidīt</td>\n",
       "      <td>n-n</td>\n",
       "    </tr>\n",
       "    <tr>\n",
       "      <th>1</th>\n",
       "      <td>1. Kas ir mediji, ko no tiem sagaidīt</td>\n",
       "      <td>p-p</td>\n",
       "    </tr>\n",
       "    <tr>\n",
       "      <th>2</th>\n",
       "      <td>1. Kas ir mediji, ko no tiem sagaidīt</td>\n",
       "      <td>p-p</td>\n",
       "    </tr>\n",
       "    <tr>\n",
       "      <th>3</th>\n",
       "      <td>1. Kas ir mediji, ko no tiem sagaidīt</td>\n",
       "      <td>p-p</td>\n",
       "    </tr>\n",
       "    <tr>\n",
       "      <th>4</th>\n",
       "      <td>1. Kas ir mediji, ko no tiem sagaidīt</td>\n",
       "      <td>p-p</td>\n",
       "    </tr>\n",
       "    <tr>\n",
       "      <th>...</th>\n",
       "      <td>...</td>\n",
       "      <td>...</td>\n",
       "    </tr>\n",
       "    <tr>\n",
       "      <th>133</th>\n",
       "      <td>6. Loģikas kļūdas: nepatiesais cēlonis un atsa...</td>\n",
       "      <td>p-p</td>\n",
       "    </tr>\n",
       "    <tr>\n",
       "      <th>134</th>\n",
       "      <td>6. Loģikas kļūdas: nepatiesais cēlonis un atsa...</td>\n",
       "      <td>n-p</td>\n",
       "    </tr>\n",
       "    <tr>\n",
       "      <th>135</th>\n",
       "      <td>6. Loģikas kļūdas: nepatiesais cēlonis un atsa...</td>\n",
       "      <td>n-n</td>\n",
       "    </tr>\n",
       "    <tr>\n",
       "      <th>136</th>\n",
       "      <td>6. Loģikas kļūdas: nepatiesais cēlonis un atsa...</td>\n",
       "      <td>p-p</td>\n",
       "    </tr>\n",
       "    <tr>\n",
       "      <th>137</th>\n",
       "      <td>6. Loģikas kļūdas: nepatiesais cēlonis un atsa...</td>\n",
       "      <td>p-p</td>\n",
       "    </tr>\n",
       "  </tbody>\n",
       "</table>\n",
       "<p>138 rows × 2 columns</p>\n",
       "</div>"
      ],
      "text/plain": [
       "                                               section correct_answer\n",
       "0                1. Kas ir mediji, ko no tiem sagaidīt            n-n\n",
       "1                1. Kas ir mediji, ko no tiem sagaidīt            p-p\n",
       "2                1. Kas ir mediji, ko no tiem sagaidīt            p-p\n",
       "3                1. Kas ir mediji, ko no tiem sagaidīt            p-p\n",
       "4                1. Kas ir mediji, ko no tiem sagaidīt            p-p\n",
       "..                                                 ...            ...\n",
       "133  6. Loģikas kļūdas: nepatiesais cēlonis un atsa...            p-p\n",
       "134  6. Loģikas kļūdas: nepatiesais cēlonis un atsa...            n-p\n",
       "135  6. Loģikas kļūdas: nepatiesais cēlonis un atsa...            n-n\n",
       "136  6. Loģikas kļūdas: nepatiesais cēlonis un atsa...            p-p\n",
       "137  6. Loģikas kļūdas: nepatiesais cēlonis un atsa...            p-p\n",
       "\n",
       "[138 rows x 2 columns]"
      ]
     },
     "execution_count": 60,
     "metadata": {},
     "output_type": "execute_result"
    }
   ],
   "source": [
    "# Join 'p' and 'n' results into one column based on 'a' and 'b' questions. Keep section number. Convert to dataframe using to_frame\n",
    "final_df = ab.groupby(by=[ab.index // 2,'section'])['correct_answer'].agg('-'.join).to_frame()\n",
    "# Reset index\n",
    "final_df.reset_index(level=['section'],inplace=True)\n",
    "final_df"
   ]
  },
  {
   "cell_type": "code",
   "execution_count": 61,
   "metadata": {},
   "outputs": [
    {
     "data": {
      "text/plain": [
       "array(['n-n', 'p-p', 'n-p', 'p-n'], dtype=object)"
      ]
     },
     "execution_count": 61,
     "metadata": {},
     "output_type": "execute_result"
    }
   ],
   "source": [
    "final_df['correct_answer'].unique()"
   ]
  },
  {
   "cell_type": "code",
   "execution_count": 62,
   "metadata": {},
   "outputs": [
    {
     "data": {
      "text/html": [
       "<div>\n",
       "<style scoped>\n",
       "    .dataframe tbody tr th:only-of-type {\n",
       "        vertical-align: middle;\n",
       "    }\n",
       "\n",
       "    .dataframe tbody tr th {\n",
       "        vertical-align: top;\n",
       "    }\n",
       "\n",
       "    .dataframe thead th {\n",
       "        text-align: right;\n",
       "    }\n",
       "</style>\n",
       "<table border=\"1\" class=\"dataframe\">\n",
       "  <thead>\n",
       "    <tr style=\"text-align: right;\">\n",
       "      <th>correct_answer</th>\n",
       "      <th>n-n</th>\n",
       "      <th>n-p</th>\n",
       "      <th>p-n</th>\n",
       "      <th>p-p</th>\n",
       "    </tr>\n",
       "    <tr>\n",
       "      <th>section</th>\n",
       "      <th></th>\n",
       "      <th></th>\n",
       "      <th></th>\n",
       "      <th></th>\n",
       "    </tr>\n",
       "  </thead>\n",
       "  <tbody>\n",
       "    <tr>\n",
       "      <th>1. Kas ir mediji, ko no tiem sagaidīt</th>\n",
       "      <td>12</td>\n",
       "      <td>8</td>\n",
       "      <td>9</td>\n",
       "      <td>48</td>\n",
       "    </tr>\n",
       "    <tr>\n",
       "      <th>2. Pierādījumu veidi</th>\n",
       "      <td>0</td>\n",
       "      <td>3</td>\n",
       "      <td>4</td>\n",
       "      <td>29</td>\n",
       "    </tr>\n",
       "    <tr>\n",
       "      <th>3. Viltus ziņas</th>\n",
       "      <td>1</td>\n",
       "      <td>1</td>\n",
       "      <td>2</td>\n",
       "      <td>4</td>\n",
       "    </tr>\n",
       "    <tr>\n",
       "      <th>4. Ievads loģikas kļūdās</th>\n",
       "      <td>0</td>\n",
       "      <td>1</td>\n",
       "      <td>0</td>\n",
       "      <td>5</td>\n",
       "    </tr>\n",
       "    <tr>\n",
       "      <th>5. Loģikas kļūdas: slidenā nogāze un melnbaltā domāšana</th>\n",
       "      <td>0</td>\n",
       "      <td>0</td>\n",
       "      <td>2</td>\n",
       "      <td>3</td>\n",
       "    </tr>\n",
       "    <tr>\n",
       "      <th>6. Loģikas kļūdas: nepatiesais cēlonis un atsaukšanās uz tradīciju</th>\n",
       "      <td>2</td>\n",
       "      <td>1</td>\n",
       "      <td>0</td>\n",
       "      <td>3</td>\n",
       "    </tr>\n",
       "  </tbody>\n",
       "</table>\n",
       "</div>"
      ],
      "text/plain": [
       "correct_answer                                      n-n  n-p  p-n  p-p\n",
       "section                                                               \n",
       "1. Kas ir mediji, ko no tiem sagaidīt                12    8    9   48\n",
       "2. Pierādījumu veidi                                  0    3    4   29\n",
       "3. Viltus ziņas                                       1    1    2    4\n",
       "4. Ievads loģikas kļūdās                              0    1    0    5\n",
       "5. Loģikas kļūdas: slidenā nogāze un melnbaltā ...    0    0    2    3\n",
       "6. Loģikas kļūdas: nepatiesais cēlonis un atsau...    2    1    0    3"
      ]
     },
     "execution_count": 62,
     "metadata": {},
     "output_type": "execute_result"
    }
   ],
   "source": [
    "# Create final dataframe containing sum of all question pairs for each Unit (section)\n",
    "telecides = pd.crosstab(index=final_df['section'], columns=final_df['correct_answer'])\n",
    "telecides"
   ]
  },
  {
   "cell_type": "markdown",
   "metadata": {},
   "source": [
    "Jāpievieno kolonas ar nullēm katram jautājumu pārim"
   ]
  },
  {
   "cell_type": "code",
   "execution_count": 63,
   "metadata": {},
   "outputs": [
    {
     "data": {
      "text/html": [
       "<div>\n",
       "<style scoped>\n",
       "    .dataframe tbody tr th:only-of-type {\n",
       "        vertical-align: middle;\n",
       "    }\n",
       "\n",
       "    .dataframe tbody tr th {\n",
       "        vertical-align: top;\n",
       "    }\n",
       "\n",
       "    .dataframe thead th {\n",
       "        text-align: right;\n",
       "    }\n",
       "</style>\n",
       "<table border=\"1\" class=\"dataframe\">\n",
       "  <thead>\n",
       "    <tr style=\"text-align: right;\">\n",
       "      <th>correct_answer</th>\n",
       "      <th>n-n</th>\n",
       "      <th>n-p</th>\n",
       "      <th>p-n</th>\n",
       "      <th>p-p</th>\n",
       "    </tr>\n",
       "    <tr>\n",
       "      <th>section</th>\n",
       "      <th></th>\n",
       "      <th></th>\n",
       "      <th></th>\n",
       "      <th></th>\n",
       "    </tr>\n",
       "  </thead>\n",
       "  <tbody>\n",
       "    <tr>\n",
       "      <th>1. Kas ir mediji, ko no tiem sagaidīt</th>\n",
       "      <td>12</td>\n",
       "      <td>8</td>\n",
       "      <td>9</td>\n",
       "      <td>48</td>\n",
       "    </tr>\n",
       "    <tr>\n",
       "      <th>2. Pierādījumu veidi</th>\n",
       "      <td>0</td>\n",
       "      <td>3</td>\n",
       "      <td>4</td>\n",
       "      <td>29</td>\n",
       "    </tr>\n",
       "    <tr>\n",
       "      <th>3. Viltus ziņas</th>\n",
       "      <td>1</td>\n",
       "      <td>1</td>\n",
       "      <td>2</td>\n",
       "      <td>4</td>\n",
       "    </tr>\n",
       "    <tr>\n",
       "      <th>4. Ievads loģikas kļūdās</th>\n",
       "      <td>0</td>\n",
       "      <td>1</td>\n",
       "      <td>0</td>\n",
       "      <td>5</td>\n",
       "    </tr>\n",
       "    <tr>\n",
       "      <th>5. Loģikas kļūdas: slidenā nogāze un melnbaltā domāšana</th>\n",
       "      <td>0</td>\n",
       "      <td>0</td>\n",
       "      <td>2</td>\n",
       "      <td>3</td>\n",
       "    </tr>\n",
       "    <tr>\n",
       "      <th>6. Loģikas kļūdas: nepatiesais cēlonis un atsaukšanās uz tradīciju</th>\n",
       "      <td>2</td>\n",
       "      <td>1</td>\n",
       "      <td>0</td>\n",
       "      <td>3</td>\n",
       "    </tr>\n",
       "  </tbody>\n",
       "</table>\n",
       "</div>"
      ],
      "text/plain": [
       "correct_answer                                      n-n  n-p  p-n  p-p\n",
       "section                                                               \n",
       "1. Kas ir mediji, ko no tiem sagaidīt                12    8    9   48\n",
       "2. Pierādījumu veidi                                  0    3    4   29\n",
       "3. Viltus ziņas                                       1    1    2    4\n",
       "4. Ievads loģikas kļūdās                              0    1    0    5\n",
       "5. Loģikas kļūdas: slidenā nogāze un melnbaltā ...    0    0    2    3\n",
       "6. Loģikas kļūdas: nepatiesais cēlonis un atsau...    2    1    0    3"
      ]
     },
     "execution_count": 63,
     "metadata": {},
     "output_type": "execute_result"
    }
   ],
   "source": [
    "# Create necessary column if they do not exist\n",
    "if 'n-n' not in telecides.columns:\n",
    "    telecides['n-n'] = 0\n",
    "if 'n-p' not in telecides.columns:\n",
    "    telecides['n-p'] = 0\n",
    "if 'p-p' not in telecides.columns:\n",
    "    telecides['p-p'] = 0\n",
    "if 'p-n' not in telecides.columns:\n",
    "    telecides['p-n'] = 0\n",
    "telecides"
   ]
  },
  {
   "cell_type": "code",
   "execution_count": 64,
   "metadata": {},
   "outputs": [
    {
     "data": {
      "text/html": [
       "<div>\n",
       "<style scoped>\n",
       "    .dataframe tbody tr th:only-of-type {\n",
       "        vertical-align: middle;\n",
       "    }\n",
       "\n",
       "    .dataframe tbody tr th {\n",
       "        vertical-align: top;\n",
       "    }\n",
       "\n",
       "    .dataframe thead th {\n",
       "        text-align: right;\n",
       "    }\n",
       "</style>\n",
       "<table border=\"1\" class=\"dataframe\">\n",
       "  <thead>\n",
       "    <tr style=\"text-align: right;\">\n",
       "      <th>correct_answer</th>\n",
       "      <th>n-p</th>\n",
       "      <th>p-p</th>\n",
       "      <th>x-n</th>\n",
       "      <th>sum</th>\n",
       "    </tr>\n",
       "    <tr>\n",
       "      <th>section</th>\n",
       "      <th></th>\n",
       "      <th></th>\n",
       "      <th></th>\n",
       "      <th></th>\n",
       "    </tr>\n",
       "  </thead>\n",
       "  <tbody>\n",
       "    <tr>\n",
       "      <th>1. Kas ir mediji, ko no tiem sagaidīt</th>\n",
       "      <td>8</td>\n",
       "      <td>48</td>\n",
       "      <td>21</td>\n",
       "      <td>77</td>\n",
       "    </tr>\n",
       "    <tr>\n",
       "      <th>2. Pierādījumu veidi</th>\n",
       "      <td>3</td>\n",
       "      <td>29</td>\n",
       "      <td>4</td>\n",
       "      <td>36</td>\n",
       "    </tr>\n",
       "    <tr>\n",
       "      <th>3. Viltus ziņas</th>\n",
       "      <td>1</td>\n",
       "      <td>4</td>\n",
       "      <td>3</td>\n",
       "      <td>8</td>\n",
       "    </tr>\n",
       "    <tr>\n",
       "      <th>4. Ievads loģikas kļūdās</th>\n",
       "      <td>1</td>\n",
       "      <td>5</td>\n",
       "      <td>0</td>\n",
       "      <td>6</td>\n",
       "    </tr>\n",
       "    <tr>\n",
       "      <th>5. Loģikas kļūdas: slidenā nogāze un melnbaltā domāšana</th>\n",
       "      <td>0</td>\n",
       "      <td>3</td>\n",
       "      <td>2</td>\n",
       "      <td>5</td>\n",
       "    </tr>\n",
       "    <tr>\n",
       "      <th>6. Loģikas kļūdas: nepatiesais cēlonis un atsaukšanās uz tradīciju</th>\n",
       "      <td>1</td>\n",
       "      <td>3</td>\n",
       "      <td>2</td>\n",
       "      <td>6</td>\n",
       "    </tr>\n",
       "  </tbody>\n",
       "</table>\n",
       "</div>"
      ],
      "text/plain": [
       "correct_answer                                      n-p  p-p  x-n  sum\n",
       "section                                                               \n",
       "1. Kas ir mediji, ko no tiem sagaidīt                 8   48   21   77\n",
       "2. Pierādījumu veidi                                  3   29    4   36\n",
       "3. Viltus ziņas                                       1    4    3    8\n",
       "4. Ievads loģikas kļūdās                              1    5    0    6\n",
       "5. Loģikas kļūdas: slidenā nogāze un melnbaltā ...    0    3    2    5\n",
       "6. Loģikas kļūdas: nepatiesais cēlonis un atsau...    1    3    2    6"
      ]
     },
     "execution_count": 64,
     "metadata": {},
     "output_type": "execute_result"
    }
   ],
   "source": [
    "# Create column 'x-n' that is sum of 'n-n' and 'p-n' columns\n",
    "telecides['x-n'] = telecides['n-n'] + telecides['p-n']\n",
    "telecides.drop(columns=['n-n','p-n'], inplace=True)\n",
    "\n",
    "# Create column sum of all pairs per Unit\n",
    "telecides['sum'] = telecides['n-p'] + telecides['p-p'] + telecides['x-n']\n",
    "telecides"
   ]
  },
  {
   "cell_type": "code",
   "execution_count": 65,
   "metadata": {},
   "outputs": [
    {
     "data": {
      "text/plain": [
       "138"
      ]
     },
     "execution_count": 65,
     "metadata": {},
     "output_type": "execute_result"
    }
   ],
   "source": [
    "# Sum of all question pairs\n",
    "summa = telecides['sum'].sum()\n",
    "summa"
   ]
  },
  {
   "cell_type": "code",
   "execution_count": 66,
   "metadata": {},
   "outputs": [],
   "source": [
    "# Number of units\n",
    "temas = len(telecides.index)"
   ]
  },
  {
   "cell_type": "code",
   "execution_count": 67,
   "metadata": {},
   "outputs": [
    {
     "data": {
      "text/html": [
       "<div>\n",
       "<style scoped>\n",
       "    .dataframe tbody tr th:only-of-type {\n",
       "        vertical-align: middle;\n",
       "    }\n",
       "\n",
       "    .dataframe tbody tr th {\n",
       "        vertical-align: top;\n",
       "    }\n",
       "\n",
       "    .dataframe thead th {\n",
       "        text-align: right;\n",
       "    }\n",
       "</style>\n",
       "<table border=\"1\" class=\"dataframe\">\n",
       "  <thead>\n",
       "    <tr style=\"text-align: right;\">\n",
       "      <th>correct_answer</th>\n",
       "      <th>n-p</th>\n",
       "      <th>p-p</th>\n",
       "      <th>x-n</th>\n",
       "    </tr>\n",
       "    <tr>\n",
       "      <th>section</th>\n",
       "      <th></th>\n",
       "      <th></th>\n",
       "      <th></th>\n",
       "    </tr>\n",
       "  </thead>\n",
       "  <tbody>\n",
       "    <tr>\n",
       "      <th>1. Kas ir mediji, ko no tiem sagaidīt</th>\n",
       "      <td>0.103896</td>\n",
       "      <td>0.623377</td>\n",
       "      <td>0.272727</td>\n",
       "    </tr>\n",
       "    <tr>\n",
       "      <th>2. Pierādījumu veidi</th>\n",
       "      <td>0.083333</td>\n",
       "      <td>0.805556</td>\n",
       "      <td>0.111111</td>\n",
       "    </tr>\n",
       "    <tr>\n",
       "      <th>3. Viltus ziņas</th>\n",
       "      <td>0.125000</td>\n",
       "      <td>0.500000</td>\n",
       "      <td>0.375000</td>\n",
       "    </tr>\n",
       "    <tr>\n",
       "      <th>4. Ievads loģikas kļūdās</th>\n",
       "      <td>0.166667</td>\n",
       "      <td>0.833333</td>\n",
       "      <td>0.000000</td>\n",
       "    </tr>\n",
       "    <tr>\n",
       "      <th>5. Loģikas kļūdas: slidenā nogāze un melnbaltā domāšana</th>\n",
       "      <td>0.000000</td>\n",
       "      <td>0.600000</td>\n",
       "      <td>0.400000</td>\n",
       "    </tr>\n",
       "    <tr>\n",
       "      <th>6. Loģikas kļūdas: nepatiesais cēlonis un atsaukšanās uz tradīciju</th>\n",
       "      <td>0.166667</td>\n",
       "      <td>0.500000</td>\n",
       "      <td>0.333333</td>\n",
       "    </tr>\n",
       "  </tbody>\n",
       "</table>\n",
       "</div>"
      ],
      "text/plain": [
       "correct_answer                                           n-p       p-p  \\\n",
       "section                                                                  \n",
       "1. Kas ir mediji, ko no tiem sagaidīt               0.103896  0.623377   \n",
       "2. Pierādījumu veidi                                0.083333  0.805556   \n",
       "3. Viltus ziņas                                     0.125000  0.500000   \n",
       "4. Ievads loģikas kļūdās                            0.166667  0.833333   \n",
       "5. Loģikas kļūdas: slidenā nogāze un melnbaltā ...  0.000000  0.600000   \n",
       "6. Loģikas kļūdas: nepatiesais cēlonis un atsau...  0.166667  0.500000   \n",
       "\n",
       "correct_answer                                           x-n  \n",
       "section                                                       \n",
       "1. Kas ir mediji, ko no tiem sagaidīt               0.272727  \n",
       "2. Pierādījumu veidi                                0.111111  \n",
       "3. Viltus ziņas                                     0.375000  \n",
       "4. Ievads loģikas kļūdās                            0.000000  \n",
       "5. Loģikas kļūdas: slidenā nogāze un melnbaltā ...  0.400000  \n",
       "6. Loģikas kļūdas: nepatiesais cēlonis un atsau...  0.333333  "
      ]
     },
     "execution_count": 67,
     "metadata": {},
     "output_type": "execute_result"
    }
   ],
   "source": [
    "# Create final values using average probability \n",
    "telecides['n-p'] = telecides['n-p'] / telecides['sum']\n",
    "telecides['p-p'] = telecides['p-p'] / telecides['sum']\n",
    "telecides['x-n'] = telecides['x-n'] / telecides['sum']\n",
    "telecides.drop(columns=['sum'], inplace=True)\n",
    "telecides"
   ]
  },
  {
   "cell_type": "code",
   "execution_count": 68,
   "metadata": {},
   "outputs": [
    {
     "data": {
      "text/plain": [
       "correct_answer\n",
       "n-n    15\n",
       "n-p    14\n",
       "p-n    17\n",
       "p-p    92\n",
       "dtype: int64"
      ]
     },
     "execution_count": 68,
     "metadata": {},
     "output_type": "execute_result"
    }
   ],
   "source": [
    "final_df.groupby(['correct_answer']).size()"
   ]
  },
  {
   "cell_type": "code",
   "execution_count": 69,
   "metadata": {},
   "outputs": [
    {
     "data": {
      "text/html": [
       "<div>\n",
       "<style scoped>\n",
       "    .dataframe tbody tr th:only-of-type {\n",
       "        vertical-align: middle;\n",
       "    }\n",
       "\n",
       "    .dataframe tbody tr th {\n",
       "        vertical-align: top;\n",
       "    }\n",
       "\n",
       "    .dataframe thead th {\n",
       "        text-align: right;\n",
       "    }\n",
       "</style>\n",
       "<table border=\"1\" class=\"dataframe\">\n",
       "  <thead>\n",
       "    <tr style=\"text-align: right;\">\n",
       "      <th>correct_answer</th>\n",
       "      <th>n-p</th>\n",
       "      <th>p-p</th>\n",
       "      <th>x-n</th>\n",
       "    </tr>\n",
       "    <tr>\n",
       "      <th>section</th>\n",
       "      <th></th>\n",
       "      <th></th>\n",
       "      <th></th>\n",
       "    </tr>\n",
       "  </thead>\n",
       "  <tbody>\n",
       "    <tr>\n",
       "      <th>1. Kas ir mediji, ko no tiem sagaidīt</th>\n",
       "      <td>0.103896</td>\n",
       "      <td>0.623377</td>\n",
       "      <td>0.272727</td>\n",
       "    </tr>\n",
       "    <tr>\n",
       "      <th>2. Pierādījumu veidi</th>\n",
       "      <td>0.083333</td>\n",
       "      <td>0.805556</td>\n",
       "      <td>0.111111</td>\n",
       "    </tr>\n",
       "    <tr>\n",
       "      <th>3. Viltus ziņas</th>\n",
       "      <td>0.125000</td>\n",
       "      <td>0.500000</td>\n",
       "      <td>0.375000</td>\n",
       "    </tr>\n",
       "    <tr>\n",
       "      <th>4. Ievads loģikas kļūdās</th>\n",
       "      <td>0.166667</td>\n",
       "      <td>0.833333</td>\n",
       "      <td>0.000000</td>\n",
       "    </tr>\n",
       "    <tr>\n",
       "      <th>5. Loģikas kļūdas: slidenā nogāze un melnbaltā domāšana</th>\n",
       "      <td>0.000000</td>\n",
       "      <td>0.600000</td>\n",
       "      <td>0.400000</td>\n",
       "    </tr>\n",
       "    <tr>\n",
       "      <th>6. Loģikas kļūdas: nepatiesais cēlonis un atsaukšanās uz tradīciju</th>\n",
       "      <td>0.166667</td>\n",
       "      <td>0.500000</td>\n",
       "      <td>0.333333</td>\n",
       "    </tr>\n",
       "  </tbody>\n",
       "</table>\n",
       "</div>"
      ],
      "text/plain": [
       "correct_answer                                           n-p       p-p  \\\n",
       "section                                                                  \n",
       "1. Kas ir mediji, ko no tiem sagaidīt               0.103896  0.623377   \n",
       "2. Pierādījumu veidi                                0.083333  0.805556   \n",
       "3. Viltus ziņas                                     0.125000  0.500000   \n",
       "4. Ievads loģikas kļūdās                            0.166667  0.833333   \n",
       "5. Loģikas kļūdas: slidenā nogāze un melnbaltā ...  0.000000  0.600000   \n",
       "6. Loģikas kļūdas: nepatiesais cēlonis un atsau...  0.166667  0.500000   \n",
       "\n",
       "correct_answer                                           x-n  \n",
       "section                                                       \n",
       "1. Kas ir mediji, ko no tiem sagaidīt               0.272727  \n",
       "2. Pierādījumu veidi                                0.111111  \n",
       "3. Viltus ziņas                                     0.375000  \n",
       "4. Ievads loģikas kļūdās                            0.000000  \n",
       "5. Loģikas kļūdas: slidenā nogāze un melnbaltā ...  0.400000  \n",
       "6. Loģikas kļūdas: nepatiesais cēlonis un atsau...  0.333333  "
      ]
     },
     "execution_count": 69,
     "metadata": {},
     "output_type": "execute_result"
    }
   ],
   "source": [
    "telecides"
   ]
  },
  {
   "cell_type": "code",
   "execution_count": 336,
   "metadata": {},
   "outputs": [
    {
     "data": {
      "application/vnd.plotly.v1+json": {
       "config": {
        "plotlyServerURL": "https://plot.ly"
       },
       "data": [
        {
         "color": "steelblue",
         "hoverinfo": "skip",
         "opacity": 0.3,
         "type": "mesh3d",
         "x": [
          0.222,
          0,
          0.667
         ],
         "y": [
          0.111,
          1,
          0.333
         ],
         "z": [
          0.666,
          0,
          0
         ]
        },
        {
         "hovertemplate": "Piemērots: %{x:.2f}<br>Viegls: %{y:.2f}<br>Nepiemērots: %{z:.2f}<extra>Tēma: %{text}</extra>",
         "marker": {
          "color": "lightseagreen",
          "size": 8,
          "symbol": "circle"
         },
         "mode": "markers",
         "text": [
          "1. Kas ir mediji, ko no tiem sagaidīt",
          "2. Pierādījumu veidi",
          "3. Viltus ziņas",
          "4. Ievads loģikas kļūdās",
          "5. Loģikas kļūdas: slidenā nogāze un melnbaltā domāšana",
          "6. Loģikas kļūdas: nepatiesais cēlonis un atsaukšanās uz tradīciju"
         ],
         "type": "scatter3d",
         "x": [
          0.1038961038961039,
          0.08333333333333333,
          0.125,
          0.16666666666666666,
          0,
          0.16666666666666666
         ],
         "y": [
          0.6233766233766234,
          0.8055555555555556,
          0.5,
          0.8333333333333334,
          0.6,
          0.5
         ],
         "z": [
          0.2727272727272727,
          0.1111111111111111,
          0.375,
          0,
          0.4,
          0.3333333333333333
         ]
        }
       ],
       "layout": {
        "margin": {
         "b": 0,
         "l": 0,
         "r": 0,
         "t": 0
        },
        "scene": {
         "xaxis": {
          "backgroundcolor": "rgb(200, 200, 230)",
          "gridcolor": "white",
          "nticks": 6,
          "range": [
           0,
           1
          ],
          "showbackground": true,
          "showspikes": false,
          "title": {
           "text": "Piemērots"
          },
          "zerolinecolor": "white"
         },
         "yaxis": {
          "backgroundcolor": "rgb(230, 200,230)",
          "gridcolor": "white",
          "nticks": 6,
          "range": [
           0,
           1
          ],
          "showbackground": true,
          "showspikes": false,
          "title": {
           "text": "Viegls"
          },
          "zerolinecolor": "white"
         },
         "zaxis": {
          "backgroundcolor": "rgb(230, 230,200,0.1)",
          "gridcolor": "white",
          "nticks": 6,
          "range": [
           0,
           1
          ],
          "showbackground": true,
          "showspikes": false,
          "title": {
           "text": "Nepiemērots"
          },
          "zerolinecolor": "white"
         }
        },
        "template": {
         "data": {
          "bar": [
           {
            "error_x": {
             "color": "#2a3f5f"
            },
            "error_y": {
             "color": "#2a3f5f"
            },
            "marker": {
             "line": {
              "color": "#E5ECF6",
              "width": 0.5
             }
            },
            "type": "bar"
           }
          ],
          "barpolar": [
           {
            "marker": {
             "line": {
              "color": "#E5ECF6",
              "width": 0.5
             }
            },
            "type": "barpolar"
           }
          ],
          "carpet": [
           {
            "aaxis": {
             "endlinecolor": "#2a3f5f",
             "gridcolor": "white",
             "linecolor": "white",
             "minorgridcolor": "white",
             "startlinecolor": "#2a3f5f"
            },
            "baxis": {
             "endlinecolor": "#2a3f5f",
             "gridcolor": "white",
             "linecolor": "white",
             "minorgridcolor": "white",
             "startlinecolor": "#2a3f5f"
            },
            "type": "carpet"
           }
          ],
          "choropleth": [
           {
            "colorbar": {
             "outlinewidth": 0,
             "ticks": ""
            },
            "type": "choropleth"
           }
          ],
          "contour": [
           {
            "colorbar": {
             "outlinewidth": 0,
             "ticks": ""
            },
            "colorscale": [
             [
              0,
              "#0d0887"
             ],
             [
              0.1111111111111111,
              "#46039f"
             ],
             [
              0.2222222222222222,
              "#7201a8"
             ],
             [
              0.3333333333333333,
              "#9c179e"
             ],
             [
              0.4444444444444444,
              "#bd3786"
             ],
             [
              0.5555555555555556,
              "#d8576b"
             ],
             [
              0.6666666666666666,
              "#ed7953"
             ],
             [
              0.7777777777777778,
              "#fb9f3a"
             ],
             [
              0.8888888888888888,
              "#fdca26"
             ],
             [
              1,
              "#f0f921"
             ]
            ],
            "type": "contour"
           }
          ],
          "contourcarpet": [
           {
            "colorbar": {
             "outlinewidth": 0,
             "ticks": ""
            },
            "type": "contourcarpet"
           }
          ],
          "heatmap": [
           {
            "colorbar": {
             "outlinewidth": 0,
             "ticks": ""
            },
            "colorscale": [
             [
              0,
              "#0d0887"
             ],
             [
              0.1111111111111111,
              "#46039f"
             ],
             [
              0.2222222222222222,
              "#7201a8"
             ],
             [
              0.3333333333333333,
              "#9c179e"
             ],
             [
              0.4444444444444444,
              "#bd3786"
             ],
             [
              0.5555555555555556,
              "#d8576b"
             ],
             [
              0.6666666666666666,
              "#ed7953"
             ],
             [
              0.7777777777777778,
              "#fb9f3a"
             ],
             [
              0.8888888888888888,
              "#fdca26"
             ],
             [
              1,
              "#f0f921"
             ]
            ],
            "type": "heatmap"
           }
          ],
          "heatmapgl": [
           {
            "colorbar": {
             "outlinewidth": 0,
             "ticks": ""
            },
            "colorscale": [
             [
              0,
              "#0d0887"
             ],
             [
              0.1111111111111111,
              "#46039f"
             ],
             [
              0.2222222222222222,
              "#7201a8"
             ],
             [
              0.3333333333333333,
              "#9c179e"
             ],
             [
              0.4444444444444444,
              "#bd3786"
             ],
             [
              0.5555555555555556,
              "#d8576b"
             ],
             [
              0.6666666666666666,
              "#ed7953"
             ],
             [
              0.7777777777777778,
              "#fb9f3a"
             ],
             [
              0.8888888888888888,
              "#fdca26"
             ],
             [
              1,
              "#f0f921"
             ]
            ],
            "type": "heatmapgl"
           }
          ],
          "histogram": [
           {
            "marker": {
             "colorbar": {
              "outlinewidth": 0,
              "ticks": ""
             }
            },
            "type": "histogram"
           }
          ],
          "histogram2d": [
           {
            "colorbar": {
             "outlinewidth": 0,
             "ticks": ""
            },
            "colorscale": [
             [
              0,
              "#0d0887"
             ],
             [
              0.1111111111111111,
              "#46039f"
             ],
             [
              0.2222222222222222,
              "#7201a8"
             ],
             [
              0.3333333333333333,
              "#9c179e"
             ],
             [
              0.4444444444444444,
              "#bd3786"
             ],
             [
              0.5555555555555556,
              "#d8576b"
             ],
             [
              0.6666666666666666,
              "#ed7953"
             ],
             [
              0.7777777777777778,
              "#fb9f3a"
             ],
             [
              0.8888888888888888,
              "#fdca26"
             ],
             [
              1,
              "#f0f921"
             ]
            ],
            "type": "histogram2d"
           }
          ],
          "histogram2dcontour": [
           {
            "colorbar": {
             "outlinewidth": 0,
             "ticks": ""
            },
            "colorscale": [
             [
              0,
              "#0d0887"
             ],
             [
              0.1111111111111111,
              "#46039f"
             ],
             [
              0.2222222222222222,
              "#7201a8"
             ],
             [
              0.3333333333333333,
              "#9c179e"
             ],
             [
              0.4444444444444444,
              "#bd3786"
             ],
             [
              0.5555555555555556,
              "#d8576b"
             ],
             [
              0.6666666666666666,
              "#ed7953"
             ],
             [
              0.7777777777777778,
              "#fb9f3a"
             ],
             [
              0.8888888888888888,
              "#fdca26"
             ],
             [
              1,
              "#f0f921"
             ]
            ],
            "type": "histogram2dcontour"
           }
          ],
          "mesh3d": [
           {
            "colorbar": {
             "outlinewidth": 0,
             "ticks": ""
            },
            "type": "mesh3d"
           }
          ],
          "parcoords": [
           {
            "line": {
             "colorbar": {
              "outlinewidth": 0,
              "ticks": ""
             }
            },
            "type": "parcoords"
           }
          ],
          "pie": [
           {
            "automargin": true,
            "type": "pie"
           }
          ],
          "scatter": [
           {
            "marker": {
             "colorbar": {
              "outlinewidth": 0,
              "ticks": ""
             }
            },
            "type": "scatter"
           }
          ],
          "scatter3d": [
           {
            "line": {
             "colorbar": {
              "outlinewidth": 0,
              "ticks": ""
             }
            },
            "marker": {
             "colorbar": {
              "outlinewidth": 0,
              "ticks": ""
             }
            },
            "type": "scatter3d"
           }
          ],
          "scattercarpet": [
           {
            "marker": {
             "colorbar": {
              "outlinewidth": 0,
              "ticks": ""
             }
            },
            "type": "scattercarpet"
           }
          ],
          "scattergeo": [
           {
            "marker": {
             "colorbar": {
              "outlinewidth": 0,
              "ticks": ""
             }
            },
            "type": "scattergeo"
           }
          ],
          "scattergl": [
           {
            "marker": {
             "colorbar": {
              "outlinewidth": 0,
              "ticks": ""
             }
            },
            "type": "scattergl"
           }
          ],
          "scattermapbox": [
           {
            "marker": {
             "colorbar": {
              "outlinewidth": 0,
              "ticks": ""
             }
            },
            "type": "scattermapbox"
           }
          ],
          "scatterpolar": [
           {
            "marker": {
             "colorbar": {
              "outlinewidth": 0,
              "ticks": ""
             }
            },
            "type": "scatterpolar"
           }
          ],
          "scatterpolargl": [
           {
            "marker": {
             "colorbar": {
              "outlinewidth": 0,
              "ticks": ""
             }
            },
            "type": "scatterpolargl"
           }
          ],
          "scatterternary": [
           {
            "marker": {
             "colorbar": {
              "outlinewidth": 0,
              "ticks": ""
             }
            },
            "type": "scatterternary"
           }
          ],
          "surface": [
           {
            "colorbar": {
             "outlinewidth": 0,
             "ticks": ""
            },
            "colorscale": [
             [
              0,
              "#0d0887"
             ],
             [
              0.1111111111111111,
              "#46039f"
             ],
             [
              0.2222222222222222,
              "#7201a8"
             ],
             [
              0.3333333333333333,
              "#9c179e"
             ],
             [
              0.4444444444444444,
              "#bd3786"
             ],
             [
              0.5555555555555556,
              "#d8576b"
             ],
             [
              0.6666666666666666,
              "#ed7953"
             ],
             [
              0.7777777777777778,
              "#fb9f3a"
             ],
             [
              0.8888888888888888,
              "#fdca26"
             ],
             [
              1,
              "#f0f921"
             ]
            ],
            "type": "surface"
           }
          ],
          "table": [
           {
            "cells": {
             "fill": {
              "color": "#EBF0F8"
             },
             "line": {
              "color": "white"
             }
            },
            "header": {
             "fill": {
              "color": "#C8D4E3"
             },
             "line": {
              "color": "white"
             }
            },
            "type": "table"
           }
          ]
         },
         "layout": {
          "annotationdefaults": {
           "arrowcolor": "#2a3f5f",
           "arrowhead": 0,
           "arrowwidth": 1
          },
          "coloraxis": {
           "colorbar": {
            "outlinewidth": 0,
            "ticks": ""
           }
          },
          "colorscale": {
           "diverging": [
            [
             0,
             "#8e0152"
            ],
            [
             0.1,
             "#c51b7d"
            ],
            [
             0.2,
             "#de77ae"
            ],
            [
             0.3,
             "#f1b6da"
            ],
            [
             0.4,
             "#fde0ef"
            ],
            [
             0.5,
             "#f7f7f7"
            ],
            [
             0.6,
             "#e6f5d0"
            ],
            [
             0.7,
             "#b8e186"
            ],
            [
             0.8,
             "#7fbc41"
            ],
            [
             0.9,
             "#4d9221"
            ],
            [
             1,
             "#276419"
            ]
           ],
           "sequential": [
            [
             0,
             "#0d0887"
            ],
            [
             0.1111111111111111,
             "#46039f"
            ],
            [
             0.2222222222222222,
             "#7201a8"
            ],
            [
             0.3333333333333333,
             "#9c179e"
            ],
            [
             0.4444444444444444,
             "#bd3786"
            ],
            [
             0.5555555555555556,
             "#d8576b"
            ],
            [
             0.6666666666666666,
             "#ed7953"
            ],
            [
             0.7777777777777778,
             "#fb9f3a"
            ],
            [
             0.8888888888888888,
             "#fdca26"
            ],
            [
             1,
             "#f0f921"
            ]
           ],
           "sequentialminus": [
            [
             0,
             "#0d0887"
            ],
            [
             0.1111111111111111,
             "#46039f"
            ],
            [
             0.2222222222222222,
             "#7201a8"
            ],
            [
             0.3333333333333333,
             "#9c179e"
            ],
            [
             0.4444444444444444,
             "#bd3786"
            ],
            [
             0.5555555555555556,
             "#d8576b"
            ],
            [
             0.6666666666666666,
             "#ed7953"
            ],
            [
             0.7777777777777778,
             "#fb9f3a"
            ],
            [
             0.8888888888888888,
             "#fdca26"
            ],
            [
             1,
             "#f0f921"
            ]
           ]
          },
          "colorway": [
           "#636efa",
           "#EF553B",
           "#00cc96",
           "#ab63fa",
           "#FFA15A",
           "#19d3f3",
           "#FF6692",
           "#B6E880",
           "#FF97FF",
           "#FECB52"
          ],
          "font": {
           "color": "#2a3f5f"
          },
          "geo": {
           "bgcolor": "white",
           "lakecolor": "white",
           "landcolor": "#E5ECF6",
           "showlakes": true,
           "showland": true,
           "subunitcolor": "white"
          },
          "hoverlabel": {
           "align": "left"
          },
          "hovermode": "closest",
          "mapbox": {
           "style": "light"
          },
          "paper_bgcolor": "white",
          "plot_bgcolor": "#E5ECF6",
          "polar": {
           "angularaxis": {
            "gridcolor": "white",
            "linecolor": "white",
            "ticks": ""
           },
           "bgcolor": "#E5ECF6",
           "radialaxis": {
            "gridcolor": "white",
            "linecolor": "white",
            "ticks": ""
           }
          },
          "scene": {
           "xaxis": {
            "backgroundcolor": "#E5ECF6",
            "gridcolor": "white",
            "gridwidth": 2,
            "linecolor": "white",
            "showbackground": true,
            "ticks": "",
            "zerolinecolor": "white"
           },
           "yaxis": {
            "backgroundcolor": "#E5ECF6",
            "gridcolor": "white",
            "gridwidth": 2,
            "linecolor": "white",
            "showbackground": true,
            "ticks": "",
            "zerolinecolor": "white"
           },
           "zaxis": {
            "backgroundcolor": "#E5ECF6",
            "gridcolor": "white",
            "gridwidth": 2,
            "linecolor": "white",
            "showbackground": true,
            "ticks": "",
            "zerolinecolor": "white"
           }
          },
          "shapedefaults": {
           "line": {
            "color": "#2a3f5f"
           }
          },
          "ternary": {
           "aaxis": {
            "gridcolor": "white",
            "linecolor": "white",
            "ticks": ""
           },
           "baxis": {
            "gridcolor": "white",
            "linecolor": "white",
            "ticks": ""
           },
           "bgcolor": "#E5ECF6",
           "caxis": {
            "gridcolor": "white",
            "linecolor": "white",
            "ticks": ""
           }
          },
          "title": {
           "x": 0.05
          },
          "xaxis": {
           "automargin": true,
           "gridcolor": "white",
           "linecolor": "white",
           "ticks": "",
           "title": {
            "standoff": 15
           },
           "zerolinecolor": "white",
           "zerolinewidth": 2
          },
          "yaxis": {
           "automargin": true,
           "gridcolor": "white",
           "linecolor": "white",
           "ticks": "",
           "title": {
            "standoff": 15
           },
           "zerolinecolor": "white",
           "zerolinewidth": 2
          }
         }
        }
       }
      },
      "text/html": [
       "<div>                            <div id=\"60c1afb4-829b-4dc5-912d-f718775c853f\" class=\"plotly-graph-div\" style=\"height:525px; width:100%;\"></div>            <script type=\"text/javascript\">                require([\"plotly\"], function(Plotly) {                    window.PLOTLYENV=window.PLOTLYENV || {};                                    if (document.getElementById(\"60c1afb4-829b-4dc5-912d-f718775c853f\")) {                    Plotly.newPlot(                        \"60c1afb4-829b-4dc5-912d-f718775c853f\",                        [{\"color\": \"steelblue\", \"hoverinfo\": \"skip\", \"opacity\": 0.3, \"type\": \"mesh3d\", \"x\": [0.222, 0.0, 0.667], \"y\": [0.111, 1.0, 0.333], \"z\": [0.666, 0.0, 0.0]}, {\"hovertemplate\": \"Piem\\u0113rots: %{x:.2f}<br>Viegls: %{y:.2f}<br>Nepiem\\u0113rots: %{z:.2f}<extra>T\\u0113ma: %{text}</extra>\", \"marker\": {\"color\": \"lightseagreen\", \"size\": 8, \"symbol\": \"circle\"}, \"mode\": \"markers\", \"text\": [\"1. Kas ir mediji, ko no tiem sagaid\\u012bt\", \"2. Pier\\u0101d\\u012bjumu veidi\", \"3. Viltus zi\\u0146as\", \"4. Ievads lo\\u0123ikas k\\u013c\\u016bd\\u0101s\", \"5. Lo\\u0123ikas k\\u013c\\u016bdas: sliden\\u0101 nog\\u0101ze un melnbalt\\u0101 dom\\u0101\\u0161ana\", \"6. Lo\\u0123ikas k\\u013c\\u016bdas: nepatiesais c\\u0113lonis un atsauk\\u0161an\\u0101s uz trad\\u012bciju\"], \"type\": \"scatter3d\", \"x\": [0.1038961038961039, 0.08333333333333333, 0.125, 0.16666666666666666, 0.0, 0.16666666666666666], \"y\": [0.6233766233766234, 0.8055555555555556, 0.5, 0.8333333333333334, 0.6, 0.5], \"z\": [0.2727272727272727, 0.1111111111111111, 0.375, 0.0, 0.4, 0.3333333333333333]}],                        {\"margin\": {\"b\": 0, \"l\": 0, \"r\": 0, \"t\": 0}, \"scene\": {\"xaxis\": {\"backgroundcolor\": \"rgb(200, 200, 230)\", \"gridcolor\": \"white\", \"nticks\": 6, \"range\": [0, 1], \"showbackground\": true, \"showspikes\": false, \"title\": {\"text\": \"Piem\\u0113rots\"}, \"zerolinecolor\": \"white\"}, \"yaxis\": {\"backgroundcolor\": \"rgb(230, 200,230)\", \"gridcolor\": \"white\", \"nticks\": 6, \"range\": [0, 1], \"showbackground\": true, \"showspikes\": false, \"title\": {\"text\": \"Viegls\"}, \"zerolinecolor\": \"white\"}, \"zaxis\": {\"backgroundcolor\": \"rgb(230, 230,200,0.1)\", \"gridcolor\": \"white\", \"nticks\": 6, \"range\": [0, 1], \"showbackground\": true, \"showspikes\": false, \"title\": {\"text\": \"Nepiem\\u0113rots\"}, \"zerolinecolor\": \"white\"}}, \"template\": {\"data\": {\"bar\": [{\"error_x\": {\"color\": \"#2a3f5f\"}, \"error_y\": {\"color\": \"#2a3f5f\"}, \"marker\": {\"line\": {\"color\": \"#E5ECF6\", \"width\": 0.5}}, \"type\": \"bar\"}], \"barpolar\": [{\"marker\": {\"line\": {\"color\": \"#E5ECF6\", \"width\": 0.5}}, \"type\": \"barpolar\"}], \"carpet\": [{\"aaxis\": {\"endlinecolor\": \"#2a3f5f\", \"gridcolor\": \"white\", \"linecolor\": \"white\", \"minorgridcolor\": \"white\", \"startlinecolor\": \"#2a3f5f\"}, \"baxis\": {\"endlinecolor\": \"#2a3f5f\", \"gridcolor\": \"white\", \"linecolor\": \"white\", \"minorgridcolor\": \"white\", \"startlinecolor\": \"#2a3f5f\"}, \"type\": \"carpet\"}], \"choropleth\": [{\"colorbar\": {\"outlinewidth\": 0, \"ticks\": \"\"}, \"type\": \"choropleth\"}], \"contour\": [{\"colorbar\": {\"outlinewidth\": 0, \"ticks\": \"\"}, \"colorscale\": [[0.0, \"#0d0887\"], [0.1111111111111111, \"#46039f\"], [0.2222222222222222, \"#7201a8\"], [0.3333333333333333, \"#9c179e\"], [0.4444444444444444, \"#bd3786\"], [0.5555555555555556, \"#d8576b\"], [0.6666666666666666, \"#ed7953\"], [0.7777777777777778, \"#fb9f3a\"], [0.8888888888888888, \"#fdca26\"], [1.0, \"#f0f921\"]], \"type\": \"contour\"}], \"contourcarpet\": [{\"colorbar\": {\"outlinewidth\": 0, \"ticks\": \"\"}, \"type\": \"contourcarpet\"}], \"heatmap\": [{\"colorbar\": {\"outlinewidth\": 0, \"ticks\": \"\"}, \"colorscale\": [[0.0, \"#0d0887\"], [0.1111111111111111, \"#46039f\"], [0.2222222222222222, \"#7201a8\"], [0.3333333333333333, \"#9c179e\"], [0.4444444444444444, \"#bd3786\"], [0.5555555555555556, \"#d8576b\"], [0.6666666666666666, \"#ed7953\"], [0.7777777777777778, \"#fb9f3a\"], [0.8888888888888888, \"#fdca26\"], [1.0, \"#f0f921\"]], \"type\": \"heatmap\"}], \"heatmapgl\": [{\"colorbar\": {\"outlinewidth\": 0, \"ticks\": \"\"}, \"colorscale\": [[0.0, \"#0d0887\"], [0.1111111111111111, \"#46039f\"], [0.2222222222222222, \"#7201a8\"], [0.3333333333333333, \"#9c179e\"], [0.4444444444444444, \"#bd3786\"], [0.5555555555555556, \"#d8576b\"], [0.6666666666666666, \"#ed7953\"], [0.7777777777777778, \"#fb9f3a\"], [0.8888888888888888, \"#fdca26\"], [1.0, \"#f0f921\"]], \"type\": \"heatmapgl\"}], \"histogram\": [{\"marker\": {\"colorbar\": {\"outlinewidth\": 0, \"ticks\": \"\"}}, \"type\": \"histogram\"}], \"histogram2d\": [{\"colorbar\": {\"outlinewidth\": 0, \"ticks\": \"\"}, \"colorscale\": [[0.0, \"#0d0887\"], [0.1111111111111111, \"#46039f\"], [0.2222222222222222, \"#7201a8\"], [0.3333333333333333, \"#9c179e\"], [0.4444444444444444, \"#bd3786\"], [0.5555555555555556, \"#d8576b\"], [0.6666666666666666, \"#ed7953\"], [0.7777777777777778, \"#fb9f3a\"], [0.8888888888888888, \"#fdca26\"], [1.0, \"#f0f921\"]], \"type\": \"histogram2d\"}], \"histogram2dcontour\": [{\"colorbar\": {\"outlinewidth\": 0, \"ticks\": \"\"}, \"colorscale\": [[0.0, \"#0d0887\"], [0.1111111111111111, \"#46039f\"], [0.2222222222222222, \"#7201a8\"], [0.3333333333333333, \"#9c179e\"], [0.4444444444444444, \"#bd3786\"], [0.5555555555555556, \"#d8576b\"], [0.6666666666666666, \"#ed7953\"], [0.7777777777777778, \"#fb9f3a\"], [0.8888888888888888, \"#fdca26\"], [1.0, \"#f0f921\"]], \"type\": \"histogram2dcontour\"}], \"mesh3d\": [{\"colorbar\": {\"outlinewidth\": 0, \"ticks\": \"\"}, \"type\": \"mesh3d\"}], \"parcoords\": [{\"line\": {\"colorbar\": {\"outlinewidth\": 0, \"ticks\": \"\"}}, \"type\": \"parcoords\"}], \"pie\": [{\"automargin\": true, \"type\": \"pie\"}], \"scatter\": [{\"marker\": {\"colorbar\": {\"outlinewidth\": 0, \"ticks\": \"\"}}, \"type\": \"scatter\"}], \"scatter3d\": [{\"line\": {\"colorbar\": {\"outlinewidth\": 0, \"ticks\": \"\"}}, \"marker\": {\"colorbar\": {\"outlinewidth\": 0, \"ticks\": \"\"}}, \"type\": \"scatter3d\"}], \"scattercarpet\": [{\"marker\": {\"colorbar\": {\"outlinewidth\": 0, \"ticks\": \"\"}}, \"type\": \"scattercarpet\"}], \"scattergeo\": [{\"marker\": {\"colorbar\": {\"outlinewidth\": 0, \"ticks\": \"\"}}, \"type\": \"scattergeo\"}], \"scattergl\": [{\"marker\": {\"colorbar\": {\"outlinewidth\": 0, \"ticks\": \"\"}}, \"type\": \"scattergl\"}], \"scattermapbox\": [{\"marker\": {\"colorbar\": {\"outlinewidth\": 0, \"ticks\": \"\"}}, \"type\": \"scattermapbox\"}], \"scatterpolar\": [{\"marker\": {\"colorbar\": {\"outlinewidth\": 0, \"ticks\": \"\"}}, \"type\": \"scatterpolar\"}], \"scatterpolargl\": [{\"marker\": {\"colorbar\": {\"outlinewidth\": 0, \"ticks\": \"\"}}, \"type\": \"scatterpolargl\"}], \"scatterternary\": [{\"marker\": {\"colorbar\": {\"outlinewidth\": 0, \"ticks\": \"\"}}, \"type\": \"scatterternary\"}], \"surface\": [{\"colorbar\": {\"outlinewidth\": 0, \"ticks\": \"\"}, \"colorscale\": [[0.0, \"#0d0887\"], [0.1111111111111111, \"#46039f\"], [0.2222222222222222, \"#7201a8\"], [0.3333333333333333, \"#9c179e\"], [0.4444444444444444, \"#bd3786\"], [0.5555555555555556, \"#d8576b\"], [0.6666666666666666, \"#ed7953\"], [0.7777777777777778, \"#fb9f3a\"], [0.8888888888888888, \"#fdca26\"], [1.0, \"#f0f921\"]], \"type\": \"surface\"}], \"table\": [{\"cells\": {\"fill\": {\"color\": \"#EBF0F8\"}, \"line\": {\"color\": \"white\"}}, \"header\": {\"fill\": {\"color\": \"#C8D4E3\"}, \"line\": {\"color\": \"white\"}}, \"type\": \"table\"}]}, \"layout\": {\"annotationdefaults\": {\"arrowcolor\": \"#2a3f5f\", \"arrowhead\": 0, \"arrowwidth\": 1}, \"coloraxis\": {\"colorbar\": {\"outlinewidth\": 0, \"ticks\": \"\"}}, \"colorscale\": {\"diverging\": [[0, \"#8e0152\"], [0.1, \"#c51b7d\"], [0.2, \"#de77ae\"], [0.3, \"#f1b6da\"], [0.4, \"#fde0ef\"], [0.5, \"#f7f7f7\"], [0.6, \"#e6f5d0\"], [0.7, \"#b8e186\"], [0.8, \"#7fbc41\"], [0.9, \"#4d9221\"], [1, \"#276419\"]], \"sequential\": [[0.0, \"#0d0887\"], [0.1111111111111111, \"#46039f\"], [0.2222222222222222, \"#7201a8\"], [0.3333333333333333, \"#9c179e\"], [0.4444444444444444, \"#bd3786\"], [0.5555555555555556, \"#d8576b\"], [0.6666666666666666, \"#ed7953\"], [0.7777777777777778, \"#fb9f3a\"], [0.8888888888888888, \"#fdca26\"], [1.0, \"#f0f921\"]], \"sequentialminus\": [[0.0, \"#0d0887\"], [0.1111111111111111, \"#46039f\"], [0.2222222222222222, \"#7201a8\"], [0.3333333333333333, \"#9c179e\"], [0.4444444444444444, \"#bd3786\"], [0.5555555555555556, \"#d8576b\"], [0.6666666666666666, \"#ed7953\"], [0.7777777777777778, \"#fb9f3a\"], [0.8888888888888888, \"#fdca26\"], [1.0, \"#f0f921\"]]}, \"colorway\": [\"#636efa\", \"#EF553B\", \"#00cc96\", \"#ab63fa\", \"#FFA15A\", \"#19d3f3\", \"#FF6692\", \"#B6E880\", \"#FF97FF\", \"#FECB52\"], \"font\": {\"color\": \"#2a3f5f\"}, \"geo\": {\"bgcolor\": \"white\", \"lakecolor\": \"white\", \"landcolor\": \"#E5ECF6\", \"showlakes\": true, \"showland\": true, \"subunitcolor\": \"white\"}, \"hoverlabel\": {\"align\": \"left\"}, \"hovermode\": \"closest\", \"mapbox\": {\"style\": \"light\"}, \"paper_bgcolor\": \"white\", \"plot_bgcolor\": \"#E5ECF6\", \"polar\": {\"angularaxis\": {\"gridcolor\": \"white\", \"linecolor\": \"white\", \"ticks\": \"\"}, \"bgcolor\": \"#E5ECF6\", \"radialaxis\": {\"gridcolor\": \"white\", \"linecolor\": \"white\", \"ticks\": \"\"}}, \"scene\": {\"xaxis\": {\"backgroundcolor\": \"#E5ECF6\", \"gridcolor\": \"white\", \"gridwidth\": 2, \"linecolor\": \"white\", \"showbackground\": true, \"ticks\": \"\", \"zerolinecolor\": \"white\"}, \"yaxis\": {\"backgroundcolor\": \"#E5ECF6\", \"gridcolor\": \"white\", \"gridwidth\": 2, \"linecolor\": \"white\", \"showbackground\": true, \"ticks\": \"\", \"zerolinecolor\": \"white\"}, \"zaxis\": {\"backgroundcolor\": \"#E5ECF6\", \"gridcolor\": \"white\", \"gridwidth\": 2, \"linecolor\": \"white\", \"showbackground\": true, \"ticks\": \"\", \"zerolinecolor\": \"white\"}}, \"shapedefaults\": {\"line\": {\"color\": \"#2a3f5f\"}}, \"ternary\": {\"aaxis\": {\"gridcolor\": \"white\", \"linecolor\": \"white\", \"ticks\": \"\"}, \"baxis\": {\"gridcolor\": \"white\", \"linecolor\": \"white\", \"ticks\": \"\"}, \"bgcolor\": \"#E5ECF6\", \"caxis\": {\"gridcolor\": \"white\", \"linecolor\": \"white\", \"ticks\": \"\"}}, \"title\": {\"x\": 0.05}, \"xaxis\": {\"automargin\": true, \"gridcolor\": \"white\", \"linecolor\": \"white\", \"ticks\": \"\", \"title\": {\"standoff\": 15}, \"zerolinecolor\": \"white\", \"zerolinewidth\": 2}, \"yaxis\": {\"automargin\": true, \"gridcolor\": \"white\", \"linecolor\": \"white\", \"ticks\": \"\", \"title\": {\"standoff\": 15}, \"zerolinecolor\": \"white\", \"zerolinewidth\": 2}}}},                        {\"responsive\": true}                    ).then(function(){\n",
       "                            \n",
       "var gd = document.getElementById('60c1afb4-829b-4dc5-912d-f718775c853f');\n",
       "var x = new MutationObserver(function (mutations, observer) {{\n",
       "        var display = window.getComputedStyle(gd).display;\n",
       "        if (!display || display === 'none') {{\n",
       "            console.log([gd, 'removed!']);\n",
       "            Plotly.purge(gd);\n",
       "            observer.disconnect();\n",
       "        }}\n",
       "}});\n",
       "\n",
       "// Listen for the removal of the full notebook cells\n",
       "var notebookContainer = gd.closest('#notebook-container');\n",
       "if (notebookContainer) {{\n",
       "    x.observe(notebookContainer, {childList: true});\n",
       "}}\n",
       "\n",
       "// Listen for the clearing of the current output cell\n",
       "var outputEl = gd.closest('.output');\n",
       "if (outputEl) {{\n",
       "    x.observe(outputEl, {childList: true});\n",
       "}}\n",
       "\n",
       "                        })                };                });            </script>        </div>"
      ]
     },
     "metadata": {},
     "output_type": "display_data"
    }
   ],
   "source": [
    "fig = go.Figure(data=[\n",
    "    go.Mesh3d(\n",
    "        x=df_tele['N-P'],\n",
    "        y=df_tele['P-P'],\n",
    "        z=df_tele['X-N'],\n",
    "        color='steelblue',\n",
    "        opacity=0.3,\n",
    "        hoverinfo='skip',\n",
    "    ),\n",
    "#     hovertemplate https://plotly.com/python/reference/scatter3d/\n",
    "    go.Scatter3d(\n",
    "        x=telecides['n-p'], \n",
    "        y=telecides['p-p'], \n",
    "        z=telecides['x-n'],\n",
    "#         mode=\"markers+text\",\n",
    "        mode=\"markers\",\n",
    "        text=telecides.index,\n",
    "        hovertemplate='Piemērots: %{x:.2f}<br>Viegls: %{y:.2f}<br>Nepiemērots: %{z:.2f}<extra>Tēma: %{text}</extra>',\n",
    "        marker=dict(size=8, symbol=\"circle\", color='lightseagreen') # color=telecides.index, colorscale='balance'\n",
    "    ),\n",
    "])\n",
    "\n",
    "fig.update_layout(\n",
    "#             template='ggplot2',\n",
    "            scene = dict(\n",
    "                xaxis_title=\"Piemērots\",\n",
    "                yaxis_title=\"Viegls\",\n",
    "                zaxis_title=\"Nepiemērots\",\n",
    "                xaxis = dict(\n",
    "                     nticks=6, range=[0,1],\n",
    "                     backgroundcolor=\"rgb(200, 200, 230)\",\n",
    "                     gridcolor=\"white\",\n",
    "                     showbackground=True,\n",
    "                     zerolinecolor=\"white\",\n",
    "                     showspikes=False),\n",
    "                yaxis = dict(\n",
    "                    nticks=6, range=[0,1],\n",
    "                    backgroundcolor=\"rgb(230, 200,230)\",\n",
    "                    gridcolor=\"white\",\n",
    "                    showbackground=True,\n",
    "                    zerolinecolor=\"white\",\n",
    "                    showspikes=False),\n",
    "                zaxis = dict(\n",
    "                    nticks=6, range=[0,1],\n",
    "                    backgroundcolor=\"rgb(230, 230,200,0.1)\",\n",
    "                    gridcolor=\"white\",\n",
    "                    showbackground=True,\n",
    "                    zerolinecolor=\"white\",\n",
    "                    showspikes=False),\n",
    "            ),\n",
    "            margin=dict(\n",
    "                r=0, l=0,\n",
    "                b=0, t=0),\n",
    ")\n",
    "fig.show()"
   ]
  },
  {
   "cell_type": "markdown",
   "metadata": {},
   "source": [
    "## Aggregation and visualisation function\n",
    "**Requires to enter one of three parameter (`'section'`|`'lessonid'`|`'user_id'`)**"
   ]
  },
  {
   "cell_type": "code",
   "execution_count": 329,
   "metadata": {},
   "outputs": [],
   "source": [
    "# Function for formatting each annotation\n",
    "def annotation(x,y,z,text,anchor,color):\n",
    "    return dict(\n",
    "        showarrow=False,\n",
    "        x=x,\n",
    "        y=y,\n",
    "        z=z,\n",
    "        text=text,\n",
    "        xanchor=anchor,\n",
    "        xshift=-2,\n",
    "        yshift=10,\n",
    "        opacity=1,\n",
    "        font=dict(\n",
    "            color=color,\n",
    "            size=14\n",
    "        ),\n",
    "    )"
   ]
  },
  {
   "cell_type": "code",
   "execution_count": 337,
   "metadata": {},
   "outputs": [],
   "source": [
    "# Function for formatting each axis\n",
    "def axis(backgroundcolor):\n",
    "    return dict(\n",
    "        nticks=6, range=[0,1],\n",
    "        backgroundcolor=backgroundcolor,\n",
    "        gridcolor=\"white\",\n",
    "        showbackground=True,\n",
    "        zerolinecolor=\"white\",\n",
    "        showspikes=False)"
   ]
  },
  {
   "cell_type": "code",
   "execution_count": 347,
   "metadata": {},
   "outputs": [],
   "source": [
    "def final_aggregation(col):\n",
    "    # Join 'p' and 'n' results into one column based on 'a' and 'b' questions. Keep lessonid number. Convert to dataframe using to_frame\n",
    "    x_df = ab.groupby(by=[ab.index // 2,col])['correct_answer'].agg('-'.join).to_frame()\n",
    "    # Reset index\n",
    "    x_df.reset_index(level=[col],inplace=True)\n",
    "    \n",
    "    if col == 'sectionid':\n",
    "        section_filter = df['type'].isin(['result'])\n",
    "        result_df = df[['section', 'sectionid', 'type']]\n",
    "        result_df = result_df[section_filter].drop_duplicates(subset=['sectionid']).drop(['type'], axis=1).copy()\n",
    "        # create dictionary of section titles with corresponding contentid\n",
    "        section_di = pd.Series(result_df.section.values, index=result_df.sectionid).to_dict()\n",
    "        krasa = 'mediumslateblue'\n",
    "        x_df.replace({'sectionid': section_di}, inplace=True)\n",
    "    \n",
    "    if col == 'lessonid':\n",
    "        content_filter = df['type'].isin(['content'])\n",
    "        content_df = df[['section', 'lessonid', 'title', 'type']]\n",
    "        content_df = content_df[content_filter].drop_duplicates(subset=['lessonid']).drop(['type'], axis=1).copy()\n",
    "        # create dictionary of lesson titles with corresponding lessonid\n",
    "        lesson_di = pd.Series(content_df.title.values,index=content_df.lessonid).to_dict()\n",
    "        krasa = 'dodgerblue'\n",
    "        x_df.replace({'lessonid': lesson_di}, inplace=True)\n",
    "        \n",
    "    if col == 'user_id':\n",
    "        krasa = 'lightcoral'\n",
    "\n",
    "    # Create final dataframe containing sum of all question pairs for each Unit (section)\n",
    "    x_df = pd.crosstab(index=x_df[col], columns=x_df['correct_answer'])\n",
    "\n",
    "    # Create necessary column if they do not exist\n",
    "    if 'n-n' not in x_df.columns:\n",
    "        x_df['n-n'] = 0\n",
    "    if 'n-p' not in x_df.columns:\n",
    "        x_df['n-p'] = 0\n",
    "    if 'p-p' not in x_df.columns:\n",
    "        x_df['p-p'] = 0\n",
    "    if 'p-n' not in x_df.columns:\n",
    "        x_df['p-n'] = 0\n",
    "\n",
    "    # Create column 'x-n' that is sum of 'n-n' and 'p-n' columns\n",
    "    x_df['x-n'] = x_df['n-n'] + x_df['p-n']\n",
    "    x_df.drop(columns=['n-n','p-n'], inplace=True)\n",
    "\n",
    "    # Create column sum of all pairs per Unit\n",
    "    x_df['sum'] = x_df['n-p'] + x_df['p-p'] + x_df['x-n']\n",
    "\n",
    "    # Create final values using average probability \n",
    "    x_df['n-p'] = x_df['n-p'] / x_df['sum']\n",
    "    x_df['p-p'] = x_df['p-p'] / x_df['sum']\n",
    "    x_df['x-n'] = x_df['x-n'] / x_df['sum']\n",
    "    x_df.drop(columns=['sum'], inplace=True)\n",
    "    \n",
    "    fig = go.Figure(data=[\n",
    "        go.Mesh3d(\n",
    "            x=df_tele['N-P'],\n",
    "            y=df_tele['P-P'],\n",
    "            z=df_tele['X-N'],\n",
    "            color='steelblue',\n",
    "            opacity=0.3,\n",
    "            hoverinfo='none',\n",
    "        ),\n",
    "        go.Scatter3d(\n",
    "            x=x_df['n-p'], \n",
    "            y=x_df['p-p'], \n",
    "            z=x_df['x-n'],\n",
    "            mode=\"markers\",\n",
    "            text=x_df.index,\n",
    "            hovertemplate='Piemērots: %{x:.2f}<br>Viegls: %{y:.2f}<br>Nepiemērots: %{z:.2f}<extra>%{text}</extra>',\n",
    "            marker=dict(size=8, symbol=\"circle\", color=krasa) # color=student_df, colorscale='balance'\n",
    "        ),\n",
    "    ])\n",
    "\n",
    "    fig.update_layout(\n",
    "    #             template='seaborn',\n",
    "                scene = dict(\n",
    "                    xaxis_title=\"Piemērots\",\n",
    "                    yaxis_title=\"Viegls\",\n",
    "                    zaxis_title=\"Nepiemērots\",\n",
    "                    xaxis = axis(\"rgb(200, 200, 230)\"),\n",
    "                    yaxis = axis(\"rgb(230, 200,230)\"),\n",
    "                    zaxis = axis(\"rgb(230, 230,200)\"),\n",
    "                    annotations=[\n",
    "                        annotation(0.222, 0.111, 0.666, '<b>Nepiemērots</b>', 'center', 'indianred'),\n",
    "                        annotation(0.667, 0.333, 0, '<b>Piemērots</b>', 'right', 'mediumseagreen'),\n",
    "                        annotation(0, 1, 0, '<b>Viegls</b>', 'left', 'royalblue')\n",
    "                    ],\n",
    "                ),\n",
    "                margin=dict(\n",
    "                    r=0, l=0,\n",
    "                    b=0, t=0),\n",
    "    )    \n",
    "    return fig"
   ]
  },
  {
   "cell_type": "markdown",
   "metadata": {},
   "source": [
    "## Telecides of unit\n",
    "Visualisation of each unit"
   ]
  },
  {
   "cell_type": "code",
   "execution_count": 348,
   "metadata": {},
   "outputs": [
    {
     "data": {
      "application/vnd.plotly.v1+json": {
       "config": {
        "plotlyServerURL": "https://plot.ly"
       },
       "data": [
        {
         "color": "steelblue",
         "hoverinfo": "none",
         "opacity": 0.3,
         "type": "mesh3d",
         "x": [
          0.222,
          0,
          0.667
         ],
         "y": [
          0.111,
          1,
          0.333
         ],
         "z": [
          0.666,
          0,
          0
         ]
        },
        {
         "hovertemplate": "Piemērots: %{x:.2f}<br>Viegls: %{y:.2f}<br>Nepiemērots: %{z:.2f}<extra>%{text}</extra>",
         "marker": {
          "color": "mediumslateblue",
          "size": 8,
          "symbol": "circle"
         },
         "mode": "markers",
         "text": [
          "1. Kas ir mediji, ko no tiem sagaidīt",
          "2. Pierādījumu veidi",
          "3. Viltus ziņas",
          "4. Ievads loģikas kļūdās",
          "5. Loģikas kļūdas: slidenā nogāze un melnbaltā domāšana",
          "6. Loģikas kļūdas: nepatiesais cēlonis un atsaukšanās uz tradīciju"
         ],
         "type": "scatter3d",
         "x": [
          0.1038961038961039,
          0.08333333333333333,
          0.125,
          0.16666666666666666,
          0,
          0.16666666666666666
         ],
         "y": [
          0.6233766233766234,
          0.8055555555555556,
          0.5,
          0.8333333333333334,
          0.6,
          0.5
         ],
         "z": [
          0.2727272727272727,
          0.1111111111111111,
          0.375,
          0,
          0.4,
          0.3333333333333333
         ]
        }
       ],
       "layout": {
        "margin": {
         "b": 0,
         "l": 0,
         "r": 0,
         "t": 0
        },
        "scene": {
         "annotations": [
          {
           "font": {
            "color": "indianred",
            "size": 14
           },
           "opacity": 1,
           "showarrow": false,
           "text": "<b>Nepiemērots</b>",
           "x": 0.222,
           "xanchor": "center",
           "xshift": -2,
           "y": 0.111,
           "yshift": 10,
           "z": 0.666
          },
          {
           "font": {
            "color": "mediumseagreen",
            "size": 14
           },
           "opacity": 1,
           "showarrow": false,
           "text": "<b>Piemērots</b>",
           "x": 0.667,
           "xanchor": "right",
           "xshift": -2,
           "y": 0.333,
           "yshift": 10,
           "z": 0
          },
          {
           "font": {
            "color": "royalblue",
            "size": 14
           },
           "opacity": 1,
           "showarrow": false,
           "text": "<b>Viegls</b>",
           "x": 0,
           "xanchor": "left",
           "xshift": -2,
           "y": 1,
           "yshift": 10,
           "z": 0
          }
         ],
         "xaxis": {
          "backgroundcolor": "rgb(200, 200, 230)",
          "gridcolor": "white",
          "nticks": 6,
          "range": [
           0,
           1
          ],
          "showbackground": true,
          "showspikes": false,
          "title": {
           "text": "Piemērots"
          },
          "zerolinecolor": "white"
         },
         "yaxis": {
          "backgroundcolor": "rgb(230, 200,230)",
          "gridcolor": "white",
          "nticks": 6,
          "range": [
           0,
           1
          ],
          "showbackground": true,
          "showspikes": false,
          "title": {
           "text": "Viegls"
          },
          "zerolinecolor": "white"
         },
         "zaxis": {
          "backgroundcolor": "rgb(230, 230,200)",
          "gridcolor": "white",
          "nticks": 6,
          "range": [
           0,
           1
          ],
          "showbackground": true,
          "showspikes": false,
          "title": {
           "text": "Nepiemērots"
          },
          "zerolinecolor": "white"
         }
        },
        "template": {
         "data": {
          "bar": [
           {
            "error_x": {
             "color": "#2a3f5f"
            },
            "error_y": {
             "color": "#2a3f5f"
            },
            "marker": {
             "line": {
              "color": "#E5ECF6",
              "width": 0.5
             }
            },
            "type": "bar"
           }
          ],
          "barpolar": [
           {
            "marker": {
             "line": {
              "color": "#E5ECF6",
              "width": 0.5
             }
            },
            "type": "barpolar"
           }
          ],
          "carpet": [
           {
            "aaxis": {
             "endlinecolor": "#2a3f5f",
             "gridcolor": "white",
             "linecolor": "white",
             "minorgridcolor": "white",
             "startlinecolor": "#2a3f5f"
            },
            "baxis": {
             "endlinecolor": "#2a3f5f",
             "gridcolor": "white",
             "linecolor": "white",
             "minorgridcolor": "white",
             "startlinecolor": "#2a3f5f"
            },
            "type": "carpet"
           }
          ],
          "choropleth": [
           {
            "colorbar": {
             "outlinewidth": 0,
             "ticks": ""
            },
            "type": "choropleth"
           }
          ],
          "contour": [
           {
            "colorbar": {
             "outlinewidth": 0,
             "ticks": ""
            },
            "colorscale": [
             [
              0,
              "#0d0887"
             ],
             [
              0.1111111111111111,
              "#46039f"
             ],
             [
              0.2222222222222222,
              "#7201a8"
             ],
             [
              0.3333333333333333,
              "#9c179e"
             ],
             [
              0.4444444444444444,
              "#bd3786"
             ],
             [
              0.5555555555555556,
              "#d8576b"
             ],
             [
              0.6666666666666666,
              "#ed7953"
             ],
             [
              0.7777777777777778,
              "#fb9f3a"
             ],
             [
              0.8888888888888888,
              "#fdca26"
             ],
             [
              1,
              "#f0f921"
             ]
            ],
            "type": "contour"
           }
          ],
          "contourcarpet": [
           {
            "colorbar": {
             "outlinewidth": 0,
             "ticks": ""
            },
            "type": "contourcarpet"
           }
          ],
          "heatmap": [
           {
            "colorbar": {
             "outlinewidth": 0,
             "ticks": ""
            },
            "colorscale": [
             [
              0,
              "#0d0887"
             ],
             [
              0.1111111111111111,
              "#46039f"
             ],
             [
              0.2222222222222222,
              "#7201a8"
             ],
             [
              0.3333333333333333,
              "#9c179e"
             ],
             [
              0.4444444444444444,
              "#bd3786"
             ],
             [
              0.5555555555555556,
              "#d8576b"
             ],
             [
              0.6666666666666666,
              "#ed7953"
             ],
             [
              0.7777777777777778,
              "#fb9f3a"
             ],
             [
              0.8888888888888888,
              "#fdca26"
             ],
             [
              1,
              "#f0f921"
             ]
            ],
            "type": "heatmap"
           }
          ],
          "heatmapgl": [
           {
            "colorbar": {
             "outlinewidth": 0,
             "ticks": ""
            },
            "colorscale": [
             [
              0,
              "#0d0887"
             ],
             [
              0.1111111111111111,
              "#46039f"
             ],
             [
              0.2222222222222222,
              "#7201a8"
             ],
             [
              0.3333333333333333,
              "#9c179e"
             ],
             [
              0.4444444444444444,
              "#bd3786"
             ],
             [
              0.5555555555555556,
              "#d8576b"
             ],
             [
              0.6666666666666666,
              "#ed7953"
             ],
             [
              0.7777777777777778,
              "#fb9f3a"
             ],
             [
              0.8888888888888888,
              "#fdca26"
             ],
             [
              1,
              "#f0f921"
             ]
            ],
            "type": "heatmapgl"
           }
          ],
          "histogram": [
           {
            "marker": {
             "colorbar": {
              "outlinewidth": 0,
              "ticks": ""
             }
            },
            "type": "histogram"
           }
          ],
          "histogram2d": [
           {
            "colorbar": {
             "outlinewidth": 0,
             "ticks": ""
            },
            "colorscale": [
             [
              0,
              "#0d0887"
             ],
             [
              0.1111111111111111,
              "#46039f"
             ],
             [
              0.2222222222222222,
              "#7201a8"
             ],
             [
              0.3333333333333333,
              "#9c179e"
             ],
             [
              0.4444444444444444,
              "#bd3786"
             ],
             [
              0.5555555555555556,
              "#d8576b"
             ],
             [
              0.6666666666666666,
              "#ed7953"
             ],
             [
              0.7777777777777778,
              "#fb9f3a"
             ],
             [
              0.8888888888888888,
              "#fdca26"
             ],
             [
              1,
              "#f0f921"
             ]
            ],
            "type": "histogram2d"
           }
          ],
          "histogram2dcontour": [
           {
            "colorbar": {
             "outlinewidth": 0,
             "ticks": ""
            },
            "colorscale": [
             [
              0,
              "#0d0887"
             ],
             [
              0.1111111111111111,
              "#46039f"
             ],
             [
              0.2222222222222222,
              "#7201a8"
             ],
             [
              0.3333333333333333,
              "#9c179e"
             ],
             [
              0.4444444444444444,
              "#bd3786"
             ],
             [
              0.5555555555555556,
              "#d8576b"
             ],
             [
              0.6666666666666666,
              "#ed7953"
             ],
             [
              0.7777777777777778,
              "#fb9f3a"
             ],
             [
              0.8888888888888888,
              "#fdca26"
             ],
             [
              1,
              "#f0f921"
             ]
            ],
            "type": "histogram2dcontour"
           }
          ],
          "mesh3d": [
           {
            "colorbar": {
             "outlinewidth": 0,
             "ticks": ""
            },
            "type": "mesh3d"
           }
          ],
          "parcoords": [
           {
            "line": {
             "colorbar": {
              "outlinewidth": 0,
              "ticks": ""
             }
            },
            "type": "parcoords"
           }
          ],
          "pie": [
           {
            "automargin": true,
            "type": "pie"
           }
          ],
          "scatter": [
           {
            "marker": {
             "colorbar": {
              "outlinewidth": 0,
              "ticks": ""
             }
            },
            "type": "scatter"
           }
          ],
          "scatter3d": [
           {
            "line": {
             "colorbar": {
              "outlinewidth": 0,
              "ticks": ""
             }
            },
            "marker": {
             "colorbar": {
              "outlinewidth": 0,
              "ticks": ""
             }
            },
            "type": "scatter3d"
           }
          ],
          "scattercarpet": [
           {
            "marker": {
             "colorbar": {
              "outlinewidth": 0,
              "ticks": ""
             }
            },
            "type": "scattercarpet"
           }
          ],
          "scattergeo": [
           {
            "marker": {
             "colorbar": {
              "outlinewidth": 0,
              "ticks": ""
             }
            },
            "type": "scattergeo"
           }
          ],
          "scattergl": [
           {
            "marker": {
             "colorbar": {
              "outlinewidth": 0,
              "ticks": ""
             }
            },
            "type": "scattergl"
           }
          ],
          "scattermapbox": [
           {
            "marker": {
             "colorbar": {
              "outlinewidth": 0,
              "ticks": ""
             }
            },
            "type": "scattermapbox"
           }
          ],
          "scatterpolar": [
           {
            "marker": {
             "colorbar": {
              "outlinewidth": 0,
              "ticks": ""
             }
            },
            "type": "scatterpolar"
           }
          ],
          "scatterpolargl": [
           {
            "marker": {
             "colorbar": {
              "outlinewidth": 0,
              "ticks": ""
             }
            },
            "type": "scatterpolargl"
           }
          ],
          "scatterternary": [
           {
            "marker": {
             "colorbar": {
              "outlinewidth": 0,
              "ticks": ""
             }
            },
            "type": "scatterternary"
           }
          ],
          "surface": [
           {
            "colorbar": {
             "outlinewidth": 0,
             "ticks": ""
            },
            "colorscale": [
             [
              0,
              "#0d0887"
             ],
             [
              0.1111111111111111,
              "#46039f"
             ],
             [
              0.2222222222222222,
              "#7201a8"
             ],
             [
              0.3333333333333333,
              "#9c179e"
             ],
             [
              0.4444444444444444,
              "#bd3786"
             ],
             [
              0.5555555555555556,
              "#d8576b"
             ],
             [
              0.6666666666666666,
              "#ed7953"
             ],
             [
              0.7777777777777778,
              "#fb9f3a"
             ],
             [
              0.8888888888888888,
              "#fdca26"
             ],
             [
              1,
              "#f0f921"
             ]
            ],
            "type": "surface"
           }
          ],
          "table": [
           {
            "cells": {
             "fill": {
              "color": "#EBF0F8"
             },
             "line": {
              "color": "white"
             }
            },
            "header": {
             "fill": {
              "color": "#C8D4E3"
             },
             "line": {
              "color": "white"
             }
            },
            "type": "table"
           }
          ]
         },
         "layout": {
          "annotationdefaults": {
           "arrowcolor": "#2a3f5f",
           "arrowhead": 0,
           "arrowwidth": 1
          },
          "coloraxis": {
           "colorbar": {
            "outlinewidth": 0,
            "ticks": ""
           }
          },
          "colorscale": {
           "diverging": [
            [
             0,
             "#8e0152"
            ],
            [
             0.1,
             "#c51b7d"
            ],
            [
             0.2,
             "#de77ae"
            ],
            [
             0.3,
             "#f1b6da"
            ],
            [
             0.4,
             "#fde0ef"
            ],
            [
             0.5,
             "#f7f7f7"
            ],
            [
             0.6,
             "#e6f5d0"
            ],
            [
             0.7,
             "#b8e186"
            ],
            [
             0.8,
             "#7fbc41"
            ],
            [
             0.9,
             "#4d9221"
            ],
            [
             1,
             "#276419"
            ]
           ],
           "sequential": [
            [
             0,
             "#0d0887"
            ],
            [
             0.1111111111111111,
             "#46039f"
            ],
            [
             0.2222222222222222,
             "#7201a8"
            ],
            [
             0.3333333333333333,
             "#9c179e"
            ],
            [
             0.4444444444444444,
             "#bd3786"
            ],
            [
             0.5555555555555556,
             "#d8576b"
            ],
            [
             0.6666666666666666,
             "#ed7953"
            ],
            [
             0.7777777777777778,
             "#fb9f3a"
            ],
            [
             0.8888888888888888,
             "#fdca26"
            ],
            [
             1,
             "#f0f921"
            ]
           ],
           "sequentialminus": [
            [
             0,
             "#0d0887"
            ],
            [
             0.1111111111111111,
             "#46039f"
            ],
            [
             0.2222222222222222,
             "#7201a8"
            ],
            [
             0.3333333333333333,
             "#9c179e"
            ],
            [
             0.4444444444444444,
             "#bd3786"
            ],
            [
             0.5555555555555556,
             "#d8576b"
            ],
            [
             0.6666666666666666,
             "#ed7953"
            ],
            [
             0.7777777777777778,
             "#fb9f3a"
            ],
            [
             0.8888888888888888,
             "#fdca26"
            ],
            [
             1,
             "#f0f921"
            ]
           ]
          },
          "colorway": [
           "#636efa",
           "#EF553B",
           "#00cc96",
           "#ab63fa",
           "#FFA15A",
           "#19d3f3",
           "#FF6692",
           "#B6E880",
           "#FF97FF",
           "#FECB52"
          ],
          "font": {
           "color": "#2a3f5f"
          },
          "geo": {
           "bgcolor": "white",
           "lakecolor": "white",
           "landcolor": "#E5ECF6",
           "showlakes": true,
           "showland": true,
           "subunitcolor": "white"
          },
          "hoverlabel": {
           "align": "left"
          },
          "hovermode": "closest",
          "mapbox": {
           "style": "light"
          },
          "paper_bgcolor": "white",
          "plot_bgcolor": "#E5ECF6",
          "polar": {
           "angularaxis": {
            "gridcolor": "white",
            "linecolor": "white",
            "ticks": ""
           },
           "bgcolor": "#E5ECF6",
           "radialaxis": {
            "gridcolor": "white",
            "linecolor": "white",
            "ticks": ""
           }
          },
          "scene": {
           "xaxis": {
            "backgroundcolor": "#E5ECF6",
            "gridcolor": "white",
            "gridwidth": 2,
            "linecolor": "white",
            "showbackground": true,
            "ticks": "",
            "zerolinecolor": "white"
           },
           "yaxis": {
            "backgroundcolor": "#E5ECF6",
            "gridcolor": "white",
            "gridwidth": 2,
            "linecolor": "white",
            "showbackground": true,
            "ticks": "",
            "zerolinecolor": "white"
           },
           "zaxis": {
            "backgroundcolor": "#E5ECF6",
            "gridcolor": "white",
            "gridwidth": 2,
            "linecolor": "white",
            "showbackground": true,
            "ticks": "",
            "zerolinecolor": "white"
           }
          },
          "shapedefaults": {
           "line": {
            "color": "#2a3f5f"
           }
          },
          "ternary": {
           "aaxis": {
            "gridcolor": "white",
            "linecolor": "white",
            "ticks": ""
           },
           "baxis": {
            "gridcolor": "white",
            "linecolor": "white",
            "ticks": ""
           },
           "bgcolor": "#E5ECF6",
           "caxis": {
            "gridcolor": "white",
            "linecolor": "white",
            "ticks": ""
           }
          },
          "title": {
           "x": 0.05
          },
          "xaxis": {
           "automargin": true,
           "gridcolor": "white",
           "linecolor": "white",
           "ticks": "",
           "title": {
            "standoff": 15
           },
           "zerolinecolor": "white",
           "zerolinewidth": 2
          },
          "yaxis": {
           "automargin": true,
           "gridcolor": "white",
           "linecolor": "white",
           "ticks": "",
           "title": {
            "standoff": 15
           },
           "zerolinecolor": "white",
           "zerolinewidth": 2
          }
         }
        }
       }
      },
      "text/html": [
       "<div>                            <div id=\"6df30449-3ad2-422c-9fe1-6a2a49b72461\" class=\"plotly-graph-div\" style=\"height:525px; width:100%;\"></div>            <script type=\"text/javascript\">                require([\"plotly\"], function(Plotly) {                    window.PLOTLYENV=window.PLOTLYENV || {};                                    if (document.getElementById(\"6df30449-3ad2-422c-9fe1-6a2a49b72461\")) {                    Plotly.newPlot(                        \"6df30449-3ad2-422c-9fe1-6a2a49b72461\",                        [{\"color\": \"steelblue\", \"hoverinfo\": \"none\", \"opacity\": 0.3, \"type\": \"mesh3d\", \"x\": [0.222, 0.0, 0.667], \"y\": [0.111, 1.0, 0.333], \"z\": [0.666, 0.0, 0.0]}, {\"hovertemplate\": \"Piem\\u0113rots: %{x:.2f}<br>Viegls: %{y:.2f}<br>Nepiem\\u0113rots: %{z:.2f}<extra>%{text}</extra>\", \"marker\": {\"color\": \"mediumslateblue\", \"size\": 8, \"symbol\": \"circle\"}, \"mode\": \"markers\", \"text\": [\"1. Kas ir mediji, ko no tiem sagaid\\u012bt\", \"2. Pier\\u0101d\\u012bjumu veidi\", \"3. Viltus zi\\u0146as\", \"4. Ievads lo\\u0123ikas k\\u013c\\u016bd\\u0101s\", \"5. Lo\\u0123ikas k\\u013c\\u016bdas: sliden\\u0101 nog\\u0101ze un melnbalt\\u0101 dom\\u0101\\u0161ana\", \"6. Lo\\u0123ikas k\\u013c\\u016bdas: nepatiesais c\\u0113lonis un atsauk\\u0161an\\u0101s uz trad\\u012bciju\"], \"type\": \"scatter3d\", \"x\": [0.1038961038961039, 0.08333333333333333, 0.125, 0.16666666666666666, 0.0, 0.16666666666666666], \"y\": [0.6233766233766234, 0.8055555555555556, 0.5, 0.8333333333333334, 0.6, 0.5], \"z\": [0.2727272727272727, 0.1111111111111111, 0.375, 0.0, 0.4, 0.3333333333333333]}],                        {\"margin\": {\"b\": 0, \"l\": 0, \"r\": 0, \"t\": 0}, \"scene\": {\"annotations\": [{\"font\": {\"color\": \"indianred\", \"size\": 14}, \"opacity\": 1, \"showarrow\": false, \"text\": \"<b>Nepiem\\u0113rots</b>\", \"x\": 0.222, \"xanchor\": \"center\", \"xshift\": -2, \"y\": 0.111, \"yshift\": 10, \"z\": 0.666}, {\"font\": {\"color\": \"mediumseagreen\", \"size\": 14}, \"opacity\": 1, \"showarrow\": false, \"text\": \"<b>Piem\\u0113rots</b>\", \"x\": 0.667, \"xanchor\": \"right\", \"xshift\": -2, \"y\": 0.333, \"yshift\": 10, \"z\": 0}, {\"font\": {\"color\": \"royalblue\", \"size\": 14}, \"opacity\": 1, \"showarrow\": false, \"text\": \"<b>Viegls</b>\", \"x\": 0, \"xanchor\": \"left\", \"xshift\": -2, \"y\": 1, \"yshift\": 10, \"z\": 0}], \"xaxis\": {\"backgroundcolor\": \"rgb(200, 200, 230)\", \"gridcolor\": \"white\", \"nticks\": 6, \"range\": [0, 1], \"showbackground\": true, \"showspikes\": false, \"title\": {\"text\": \"Piem\\u0113rots\"}, \"zerolinecolor\": \"white\"}, \"yaxis\": {\"backgroundcolor\": \"rgb(230, 200,230)\", \"gridcolor\": \"white\", \"nticks\": 6, \"range\": [0, 1], \"showbackground\": true, \"showspikes\": false, \"title\": {\"text\": \"Viegls\"}, \"zerolinecolor\": \"white\"}, \"zaxis\": {\"backgroundcolor\": \"rgb(230, 230,200)\", \"gridcolor\": \"white\", \"nticks\": 6, \"range\": [0, 1], \"showbackground\": true, \"showspikes\": false, \"title\": {\"text\": \"Nepiem\\u0113rots\"}, \"zerolinecolor\": \"white\"}}, \"template\": {\"data\": {\"bar\": [{\"error_x\": {\"color\": \"#2a3f5f\"}, \"error_y\": {\"color\": \"#2a3f5f\"}, \"marker\": {\"line\": {\"color\": \"#E5ECF6\", \"width\": 0.5}}, \"type\": \"bar\"}], \"barpolar\": [{\"marker\": {\"line\": {\"color\": \"#E5ECF6\", \"width\": 0.5}}, \"type\": \"barpolar\"}], \"carpet\": [{\"aaxis\": {\"endlinecolor\": \"#2a3f5f\", \"gridcolor\": \"white\", \"linecolor\": \"white\", \"minorgridcolor\": \"white\", \"startlinecolor\": \"#2a3f5f\"}, \"baxis\": {\"endlinecolor\": \"#2a3f5f\", \"gridcolor\": \"white\", \"linecolor\": \"white\", \"minorgridcolor\": \"white\", \"startlinecolor\": \"#2a3f5f\"}, \"type\": \"carpet\"}], \"choropleth\": [{\"colorbar\": {\"outlinewidth\": 0, \"ticks\": \"\"}, \"type\": \"choropleth\"}], \"contour\": [{\"colorbar\": {\"outlinewidth\": 0, \"ticks\": \"\"}, \"colorscale\": [[0.0, \"#0d0887\"], [0.1111111111111111, \"#46039f\"], [0.2222222222222222, \"#7201a8\"], [0.3333333333333333, \"#9c179e\"], [0.4444444444444444, \"#bd3786\"], [0.5555555555555556, \"#d8576b\"], [0.6666666666666666, \"#ed7953\"], [0.7777777777777778, \"#fb9f3a\"], [0.8888888888888888, \"#fdca26\"], [1.0, \"#f0f921\"]], \"type\": \"contour\"}], \"contourcarpet\": [{\"colorbar\": {\"outlinewidth\": 0, \"ticks\": \"\"}, \"type\": \"contourcarpet\"}], \"heatmap\": [{\"colorbar\": {\"outlinewidth\": 0, \"ticks\": \"\"}, \"colorscale\": [[0.0, \"#0d0887\"], [0.1111111111111111, \"#46039f\"], [0.2222222222222222, \"#7201a8\"], [0.3333333333333333, \"#9c179e\"], [0.4444444444444444, \"#bd3786\"], [0.5555555555555556, \"#d8576b\"], [0.6666666666666666, \"#ed7953\"], [0.7777777777777778, \"#fb9f3a\"], [0.8888888888888888, \"#fdca26\"], [1.0, \"#f0f921\"]], \"type\": \"heatmap\"}], \"heatmapgl\": [{\"colorbar\": {\"outlinewidth\": 0, \"ticks\": \"\"}, \"colorscale\": [[0.0, \"#0d0887\"], [0.1111111111111111, \"#46039f\"], [0.2222222222222222, \"#7201a8\"], [0.3333333333333333, \"#9c179e\"], [0.4444444444444444, \"#bd3786\"], [0.5555555555555556, \"#d8576b\"], [0.6666666666666666, \"#ed7953\"], [0.7777777777777778, \"#fb9f3a\"], [0.8888888888888888, \"#fdca26\"], [1.0, \"#f0f921\"]], \"type\": \"heatmapgl\"}], \"histogram\": [{\"marker\": {\"colorbar\": {\"outlinewidth\": 0, \"ticks\": \"\"}}, \"type\": \"histogram\"}], \"histogram2d\": [{\"colorbar\": {\"outlinewidth\": 0, \"ticks\": \"\"}, \"colorscale\": [[0.0, \"#0d0887\"], [0.1111111111111111, \"#46039f\"], [0.2222222222222222, \"#7201a8\"], [0.3333333333333333, \"#9c179e\"], [0.4444444444444444, \"#bd3786\"], [0.5555555555555556, \"#d8576b\"], [0.6666666666666666, \"#ed7953\"], [0.7777777777777778, \"#fb9f3a\"], [0.8888888888888888, \"#fdca26\"], [1.0, \"#f0f921\"]], \"type\": \"histogram2d\"}], \"histogram2dcontour\": [{\"colorbar\": {\"outlinewidth\": 0, \"ticks\": \"\"}, \"colorscale\": [[0.0, \"#0d0887\"], [0.1111111111111111, \"#46039f\"], [0.2222222222222222, \"#7201a8\"], [0.3333333333333333, \"#9c179e\"], [0.4444444444444444, \"#bd3786\"], [0.5555555555555556, \"#d8576b\"], [0.6666666666666666, \"#ed7953\"], [0.7777777777777778, \"#fb9f3a\"], [0.8888888888888888, \"#fdca26\"], [1.0, \"#f0f921\"]], \"type\": \"histogram2dcontour\"}], \"mesh3d\": [{\"colorbar\": {\"outlinewidth\": 0, \"ticks\": \"\"}, \"type\": \"mesh3d\"}], \"parcoords\": [{\"line\": {\"colorbar\": {\"outlinewidth\": 0, \"ticks\": \"\"}}, \"type\": \"parcoords\"}], \"pie\": [{\"automargin\": true, \"type\": \"pie\"}], \"scatter\": [{\"marker\": {\"colorbar\": {\"outlinewidth\": 0, \"ticks\": \"\"}}, \"type\": \"scatter\"}], \"scatter3d\": [{\"line\": {\"colorbar\": {\"outlinewidth\": 0, \"ticks\": \"\"}}, \"marker\": {\"colorbar\": {\"outlinewidth\": 0, \"ticks\": \"\"}}, \"type\": \"scatter3d\"}], \"scattercarpet\": [{\"marker\": {\"colorbar\": {\"outlinewidth\": 0, \"ticks\": \"\"}}, \"type\": \"scattercarpet\"}], \"scattergeo\": [{\"marker\": {\"colorbar\": {\"outlinewidth\": 0, \"ticks\": \"\"}}, \"type\": \"scattergeo\"}], \"scattergl\": [{\"marker\": {\"colorbar\": {\"outlinewidth\": 0, \"ticks\": \"\"}}, \"type\": \"scattergl\"}], \"scattermapbox\": [{\"marker\": {\"colorbar\": {\"outlinewidth\": 0, \"ticks\": \"\"}}, \"type\": \"scattermapbox\"}], \"scatterpolar\": [{\"marker\": {\"colorbar\": {\"outlinewidth\": 0, \"ticks\": \"\"}}, \"type\": \"scatterpolar\"}], \"scatterpolargl\": [{\"marker\": {\"colorbar\": {\"outlinewidth\": 0, \"ticks\": \"\"}}, \"type\": \"scatterpolargl\"}], \"scatterternary\": [{\"marker\": {\"colorbar\": {\"outlinewidth\": 0, \"ticks\": \"\"}}, \"type\": \"scatterternary\"}], \"surface\": [{\"colorbar\": {\"outlinewidth\": 0, \"ticks\": \"\"}, \"colorscale\": [[0.0, \"#0d0887\"], [0.1111111111111111, \"#46039f\"], [0.2222222222222222, \"#7201a8\"], [0.3333333333333333, \"#9c179e\"], [0.4444444444444444, \"#bd3786\"], [0.5555555555555556, \"#d8576b\"], [0.6666666666666666, \"#ed7953\"], [0.7777777777777778, \"#fb9f3a\"], [0.8888888888888888, \"#fdca26\"], [1.0, \"#f0f921\"]], \"type\": \"surface\"}], \"table\": [{\"cells\": {\"fill\": {\"color\": \"#EBF0F8\"}, \"line\": {\"color\": \"white\"}}, \"header\": {\"fill\": {\"color\": \"#C8D4E3\"}, \"line\": {\"color\": \"white\"}}, \"type\": \"table\"}]}, \"layout\": {\"annotationdefaults\": {\"arrowcolor\": \"#2a3f5f\", \"arrowhead\": 0, \"arrowwidth\": 1}, \"coloraxis\": {\"colorbar\": {\"outlinewidth\": 0, \"ticks\": \"\"}}, \"colorscale\": {\"diverging\": [[0, \"#8e0152\"], [0.1, \"#c51b7d\"], [0.2, \"#de77ae\"], [0.3, \"#f1b6da\"], [0.4, \"#fde0ef\"], [0.5, \"#f7f7f7\"], [0.6, \"#e6f5d0\"], [0.7, \"#b8e186\"], [0.8, \"#7fbc41\"], [0.9, \"#4d9221\"], [1, \"#276419\"]], \"sequential\": [[0.0, \"#0d0887\"], [0.1111111111111111, \"#46039f\"], [0.2222222222222222, \"#7201a8\"], [0.3333333333333333, \"#9c179e\"], [0.4444444444444444, \"#bd3786\"], [0.5555555555555556, \"#d8576b\"], [0.6666666666666666, \"#ed7953\"], [0.7777777777777778, \"#fb9f3a\"], [0.8888888888888888, \"#fdca26\"], [1.0, \"#f0f921\"]], \"sequentialminus\": [[0.0, \"#0d0887\"], [0.1111111111111111, \"#46039f\"], [0.2222222222222222, \"#7201a8\"], [0.3333333333333333, \"#9c179e\"], [0.4444444444444444, \"#bd3786\"], [0.5555555555555556, \"#d8576b\"], [0.6666666666666666, \"#ed7953\"], [0.7777777777777778, \"#fb9f3a\"], [0.8888888888888888, \"#fdca26\"], [1.0, \"#f0f921\"]]}, \"colorway\": [\"#636efa\", \"#EF553B\", \"#00cc96\", \"#ab63fa\", \"#FFA15A\", \"#19d3f3\", \"#FF6692\", \"#B6E880\", \"#FF97FF\", \"#FECB52\"], \"font\": {\"color\": \"#2a3f5f\"}, \"geo\": {\"bgcolor\": \"white\", \"lakecolor\": \"white\", \"landcolor\": \"#E5ECF6\", \"showlakes\": true, \"showland\": true, \"subunitcolor\": \"white\"}, \"hoverlabel\": {\"align\": \"left\"}, \"hovermode\": \"closest\", \"mapbox\": {\"style\": \"light\"}, \"paper_bgcolor\": \"white\", \"plot_bgcolor\": \"#E5ECF6\", \"polar\": {\"angularaxis\": {\"gridcolor\": \"white\", \"linecolor\": \"white\", \"ticks\": \"\"}, \"bgcolor\": \"#E5ECF6\", \"radialaxis\": {\"gridcolor\": \"white\", \"linecolor\": \"white\", \"ticks\": \"\"}}, \"scene\": {\"xaxis\": {\"backgroundcolor\": \"#E5ECF6\", \"gridcolor\": \"white\", \"gridwidth\": 2, \"linecolor\": \"white\", \"showbackground\": true, \"ticks\": \"\", \"zerolinecolor\": \"white\"}, \"yaxis\": {\"backgroundcolor\": \"#E5ECF6\", \"gridcolor\": \"white\", \"gridwidth\": 2, \"linecolor\": \"white\", \"showbackground\": true, \"ticks\": \"\", \"zerolinecolor\": \"white\"}, \"zaxis\": {\"backgroundcolor\": \"#E5ECF6\", \"gridcolor\": \"white\", \"gridwidth\": 2, \"linecolor\": \"white\", \"showbackground\": true, \"ticks\": \"\", \"zerolinecolor\": \"white\"}}, \"shapedefaults\": {\"line\": {\"color\": \"#2a3f5f\"}}, \"ternary\": {\"aaxis\": {\"gridcolor\": \"white\", \"linecolor\": \"white\", \"ticks\": \"\"}, \"baxis\": {\"gridcolor\": \"white\", \"linecolor\": \"white\", \"ticks\": \"\"}, \"bgcolor\": \"#E5ECF6\", \"caxis\": {\"gridcolor\": \"white\", \"linecolor\": \"white\", \"ticks\": \"\"}}, \"title\": {\"x\": 0.05}, \"xaxis\": {\"automargin\": true, \"gridcolor\": \"white\", \"linecolor\": \"white\", \"ticks\": \"\", \"title\": {\"standoff\": 15}, \"zerolinecolor\": \"white\", \"zerolinewidth\": 2}, \"yaxis\": {\"automargin\": true, \"gridcolor\": \"white\", \"linecolor\": \"white\", \"ticks\": \"\", \"title\": {\"standoff\": 15}, \"zerolinecolor\": \"white\", \"zerolinewidth\": 2}}}},                        {\"responsive\": true}                    ).then(function(){\n",
       "                            \n",
       "var gd = document.getElementById('6df30449-3ad2-422c-9fe1-6a2a49b72461');\n",
       "var x = new MutationObserver(function (mutations, observer) {{\n",
       "        var display = window.getComputedStyle(gd).display;\n",
       "        if (!display || display === 'none') {{\n",
       "            console.log([gd, 'removed!']);\n",
       "            Plotly.purge(gd);\n",
       "            observer.disconnect();\n",
       "        }}\n",
       "}});\n",
       "\n",
       "// Listen for the removal of the full notebook cells\n",
       "var notebookContainer = gd.closest('#notebook-container');\n",
       "if (notebookContainer) {{\n",
       "    x.observe(notebookContainer, {childList: true});\n",
       "}}\n",
       "\n",
       "// Listen for the clearing of the current output cell\n",
       "var outputEl = gd.closest('.output');\n",
       "if (outputEl) {{\n",
       "    x.observe(outputEl, {childList: true});\n",
       "}}\n",
       "\n",
       "                        })                };                });            </script>        </div>"
      ]
     },
     "metadata": {},
     "output_type": "display_data"
    }
   ],
   "source": [
    "final_aggregation('sectionid').show()"
   ]
  },
  {
   "cell_type": "markdown",
   "metadata": {},
   "source": [
    "## Telecides of sub-unit\n",
    "Visualisation of each sub-unit"
   ]
  },
  {
   "cell_type": "code",
   "execution_count": 73,
   "metadata": {},
   "outputs": [
    {
     "data": {
      "application/vnd.plotly.v1+json": {
       "config": {
        "plotlyServerURL": "https://plot.ly"
       },
       "data": [
        {
         "color": "steelblue",
         "hoverinfo": "none",
         "opacity": 0.3,
         "type": "mesh3d",
         "x": [
          0.222,
          0,
          0.667
         ],
         "y": [
          0.111,
          1,
          0.333
         ],
         "z": [
          0.666,
          0,
          0
         ]
        },
        {
         "hovertemplate": "Piemērots: %{x:.2f}<br>Viegls: %{y:.2f}<br>Nepiemērots: %{z:.2f}<extra>%{text}</extra>",
         "marker": {
          "color": "dodgerblue",
          "size": 8,
          "symbol": "circle"
         },
         "mode": "markers",
         "text": [
          "Anekdotisks piemērs",
          "Atsaukšanās uz tradīcijām",
          "Eksperti",
          "Ekspertu viedoklis",
          "Es domāju, ka.... (3.19)",
          "Es dzirdēju, ka.... (4.15)",
          "Es lasīju, ka....",
          "Ievas un Alises piemērs",
          "Informācijas avots",
          "Kas ir loģikas kļūda",
          "Kas ir mediji?",
          "Kas ir medijpratība",
          "Kopsavilkums un mājas darbs",
          "Kā atpazīt labo no sliktās informācijas",
          "Kā atpazīt viltus ziņu II",
          "Kā atpazīt viltus ziņu III",
          "Kā atpazīt viltus ziņu.",
          "Kā izplatās viltus ziņas",
          "Kā izvairīties no loģikas kļūdām",
          "Kāpēc tiek pieļautas loģikas kļūdas",
          "Loģikas kļūda - melnbaltā domāšana",
          "Loģikas kļūda - slidenā nogāze",
          "Loģikas kļūda - slidenā nogāze. Piemērs.",
          "Loģikas kļūdas",
          "Mediju biznesa modelis",
          "Negodīgs uzbrukums un viltus ziņas",
          "Nepatiesais cēlonis",
          "Nepatiesais cēlonis - piemērs",
          "Piemērs vidēji labam pierādījumam",
          "Pierādījuma neesamība (5.48))",
          "Pierādījumu veidi",
          "Pūļveida domāšana",
          "Reklāmas nozīme",
          "Vai TikTok ir labs?",
          "Viltus ziņas",
          "Viltus ziņu nozīme"
         ],
         "type": "scatter3d",
         "x": [
          0.5,
          0,
          0,
          0,
          0.2,
          0,
          0,
          0,
          0,
          0,
          0.15384615384615385,
          0,
          0.2,
          0,
          0,
          0,
          0,
          0,
          0,
          0,
          0,
          0,
          0,
          0,
          0,
          0,
          0,
          0.5,
          0,
          0.25,
          0.2,
          0,
          0.2727272727272727,
          0.1,
          0.5,
          0
         ],
         "y": [
          0.5,
          1,
          1,
          0.8,
          0.4,
          1,
          0.75,
          1,
          0.4444444444444444,
          1,
          0.6923076923076923,
          0.75,
          0.7,
          0.3333333333333333,
          1,
          0,
          1,
          0,
          1,
          1,
          0,
          1,
          0,
          1,
          0.7777777777777778,
          1,
          0.5,
          0,
          1,
          0.75,
          0.8,
          1,
          0.36363636363636365,
          0.7,
          0.5,
          0.5
         ],
         "z": [
          0,
          0,
          0,
          0.2,
          0.4,
          0,
          0.25,
          0,
          0.5555555555555556,
          0,
          0.15384615384615385,
          0.25,
          0.1,
          0.6666666666666666,
          0,
          1,
          0,
          1,
          0,
          0,
          1,
          0,
          1,
          0,
          0.2222222222222222,
          0,
          0.5,
          0.5,
          0,
          0,
          0,
          0,
          0.36363636363636365,
          0.2,
          0,
          0.5
         ]
        }
       ],
       "layout": {
        "margin": {
         "b": 0,
         "l": 0,
         "r": 0,
         "t": 0
        },
        "scene": {
         "xaxis": {
          "backgroundcolor": "rgb(200, 200, 230)",
          "gridcolor": "white",
          "nticks": 6,
          "range": [
           0,
           1
          ],
          "showbackground": true,
          "showspikes": false,
          "title": {
           "text": "Piemērots"
          },
          "zerolinecolor": "white"
         },
         "yaxis": {
          "backgroundcolor": "rgb(230, 200,230)",
          "gridcolor": "white",
          "nticks": 6,
          "range": [
           0,
           1
          ],
          "showbackground": true,
          "showspikes": false,
          "title": {
           "text": "Viegls"
          },
          "zerolinecolor": "white"
         },
         "zaxis": {
          "backgroundcolor": "rgb(230, 230,200)",
          "gridcolor": "white",
          "nticks": 6,
          "range": [
           0,
           1
          ],
          "showbackground": true,
          "showspikes": true,
          "title": {
           "text": "Nepiemērots"
          },
          "zerolinecolor": "white"
         }
        },
        "template": {
         "data": {
          "bar": [
           {
            "error_x": {
             "color": "#2a3f5f"
            },
            "error_y": {
             "color": "#2a3f5f"
            },
            "marker": {
             "line": {
              "color": "#E5ECF6",
              "width": 0.5
             }
            },
            "type": "bar"
           }
          ],
          "barpolar": [
           {
            "marker": {
             "line": {
              "color": "#E5ECF6",
              "width": 0.5
             }
            },
            "type": "barpolar"
           }
          ],
          "carpet": [
           {
            "aaxis": {
             "endlinecolor": "#2a3f5f",
             "gridcolor": "white",
             "linecolor": "white",
             "minorgridcolor": "white",
             "startlinecolor": "#2a3f5f"
            },
            "baxis": {
             "endlinecolor": "#2a3f5f",
             "gridcolor": "white",
             "linecolor": "white",
             "minorgridcolor": "white",
             "startlinecolor": "#2a3f5f"
            },
            "type": "carpet"
           }
          ],
          "choropleth": [
           {
            "colorbar": {
             "outlinewidth": 0,
             "ticks": ""
            },
            "type": "choropleth"
           }
          ],
          "contour": [
           {
            "colorbar": {
             "outlinewidth": 0,
             "ticks": ""
            },
            "colorscale": [
             [
              0,
              "#0d0887"
             ],
             [
              0.1111111111111111,
              "#46039f"
             ],
             [
              0.2222222222222222,
              "#7201a8"
             ],
             [
              0.3333333333333333,
              "#9c179e"
             ],
             [
              0.4444444444444444,
              "#bd3786"
             ],
             [
              0.5555555555555556,
              "#d8576b"
             ],
             [
              0.6666666666666666,
              "#ed7953"
             ],
             [
              0.7777777777777778,
              "#fb9f3a"
             ],
             [
              0.8888888888888888,
              "#fdca26"
             ],
             [
              1,
              "#f0f921"
             ]
            ],
            "type": "contour"
           }
          ],
          "contourcarpet": [
           {
            "colorbar": {
             "outlinewidth": 0,
             "ticks": ""
            },
            "type": "contourcarpet"
           }
          ],
          "heatmap": [
           {
            "colorbar": {
             "outlinewidth": 0,
             "ticks": ""
            },
            "colorscale": [
             [
              0,
              "#0d0887"
             ],
             [
              0.1111111111111111,
              "#46039f"
             ],
             [
              0.2222222222222222,
              "#7201a8"
             ],
             [
              0.3333333333333333,
              "#9c179e"
             ],
             [
              0.4444444444444444,
              "#bd3786"
             ],
             [
              0.5555555555555556,
              "#d8576b"
             ],
             [
              0.6666666666666666,
              "#ed7953"
             ],
             [
              0.7777777777777778,
              "#fb9f3a"
             ],
             [
              0.8888888888888888,
              "#fdca26"
             ],
             [
              1,
              "#f0f921"
             ]
            ],
            "type": "heatmap"
           }
          ],
          "heatmapgl": [
           {
            "colorbar": {
             "outlinewidth": 0,
             "ticks": ""
            },
            "colorscale": [
             [
              0,
              "#0d0887"
             ],
             [
              0.1111111111111111,
              "#46039f"
             ],
             [
              0.2222222222222222,
              "#7201a8"
             ],
             [
              0.3333333333333333,
              "#9c179e"
             ],
             [
              0.4444444444444444,
              "#bd3786"
             ],
             [
              0.5555555555555556,
              "#d8576b"
             ],
             [
              0.6666666666666666,
              "#ed7953"
             ],
             [
              0.7777777777777778,
              "#fb9f3a"
             ],
             [
              0.8888888888888888,
              "#fdca26"
             ],
             [
              1,
              "#f0f921"
             ]
            ],
            "type": "heatmapgl"
           }
          ],
          "histogram": [
           {
            "marker": {
             "colorbar": {
              "outlinewidth": 0,
              "ticks": ""
             }
            },
            "type": "histogram"
           }
          ],
          "histogram2d": [
           {
            "colorbar": {
             "outlinewidth": 0,
             "ticks": ""
            },
            "colorscale": [
             [
              0,
              "#0d0887"
             ],
             [
              0.1111111111111111,
              "#46039f"
             ],
             [
              0.2222222222222222,
              "#7201a8"
             ],
             [
              0.3333333333333333,
              "#9c179e"
             ],
             [
              0.4444444444444444,
              "#bd3786"
             ],
             [
              0.5555555555555556,
              "#d8576b"
             ],
             [
              0.6666666666666666,
              "#ed7953"
             ],
             [
              0.7777777777777778,
              "#fb9f3a"
             ],
             [
              0.8888888888888888,
              "#fdca26"
             ],
             [
              1,
              "#f0f921"
             ]
            ],
            "type": "histogram2d"
           }
          ],
          "histogram2dcontour": [
           {
            "colorbar": {
             "outlinewidth": 0,
             "ticks": ""
            },
            "colorscale": [
             [
              0,
              "#0d0887"
             ],
             [
              0.1111111111111111,
              "#46039f"
             ],
             [
              0.2222222222222222,
              "#7201a8"
             ],
             [
              0.3333333333333333,
              "#9c179e"
             ],
             [
              0.4444444444444444,
              "#bd3786"
             ],
             [
              0.5555555555555556,
              "#d8576b"
             ],
             [
              0.6666666666666666,
              "#ed7953"
             ],
             [
              0.7777777777777778,
              "#fb9f3a"
             ],
             [
              0.8888888888888888,
              "#fdca26"
             ],
             [
              1,
              "#f0f921"
             ]
            ],
            "type": "histogram2dcontour"
           }
          ],
          "mesh3d": [
           {
            "colorbar": {
             "outlinewidth": 0,
             "ticks": ""
            },
            "type": "mesh3d"
           }
          ],
          "parcoords": [
           {
            "line": {
             "colorbar": {
              "outlinewidth": 0,
              "ticks": ""
             }
            },
            "type": "parcoords"
           }
          ],
          "pie": [
           {
            "automargin": true,
            "type": "pie"
           }
          ],
          "scatter": [
           {
            "marker": {
             "colorbar": {
              "outlinewidth": 0,
              "ticks": ""
             }
            },
            "type": "scatter"
           }
          ],
          "scatter3d": [
           {
            "line": {
             "colorbar": {
              "outlinewidth": 0,
              "ticks": ""
             }
            },
            "marker": {
             "colorbar": {
              "outlinewidth": 0,
              "ticks": ""
             }
            },
            "type": "scatter3d"
           }
          ],
          "scattercarpet": [
           {
            "marker": {
             "colorbar": {
              "outlinewidth": 0,
              "ticks": ""
             }
            },
            "type": "scattercarpet"
           }
          ],
          "scattergeo": [
           {
            "marker": {
             "colorbar": {
              "outlinewidth": 0,
              "ticks": ""
             }
            },
            "type": "scattergeo"
           }
          ],
          "scattergl": [
           {
            "marker": {
             "colorbar": {
              "outlinewidth": 0,
              "ticks": ""
             }
            },
            "type": "scattergl"
           }
          ],
          "scattermapbox": [
           {
            "marker": {
             "colorbar": {
              "outlinewidth": 0,
              "ticks": ""
             }
            },
            "type": "scattermapbox"
           }
          ],
          "scatterpolar": [
           {
            "marker": {
             "colorbar": {
              "outlinewidth": 0,
              "ticks": ""
             }
            },
            "type": "scatterpolar"
           }
          ],
          "scatterpolargl": [
           {
            "marker": {
             "colorbar": {
              "outlinewidth": 0,
              "ticks": ""
             }
            },
            "type": "scatterpolargl"
           }
          ],
          "scatterternary": [
           {
            "marker": {
             "colorbar": {
              "outlinewidth": 0,
              "ticks": ""
             }
            },
            "type": "scatterternary"
           }
          ],
          "surface": [
           {
            "colorbar": {
             "outlinewidth": 0,
             "ticks": ""
            },
            "colorscale": [
             [
              0,
              "#0d0887"
             ],
             [
              0.1111111111111111,
              "#46039f"
             ],
             [
              0.2222222222222222,
              "#7201a8"
             ],
             [
              0.3333333333333333,
              "#9c179e"
             ],
             [
              0.4444444444444444,
              "#bd3786"
             ],
             [
              0.5555555555555556,
              "#d8576b"
             ],
             [
              0.6666666666666666,
              "#ed7953"
             ],
             [
              0.7777777777777778,
              "#fb9f3a"
             ],
             [
              0.8888888888888888,
              "#fdca26"
             ],
             [
              1,
              "#f0f921"
             ]
            ],
            "type": "surface"
           }
          ],
          "table": [
           {
            "cells": {
             "fill": {
              "color": "#EBF0F8"
             },
             "line": {
              "color": "white"
             }
            },
            "header": {
             "fill": {
              "color": "#C8D4E3"
             },
             "line": {
              "color": "white"
             }
            },
            "type": "table"
           }
          ]
         },
         "layout": {
          "annotationdefaults": {
           "arrowcolor": "#2a3f5f",
           "arrowhead": 0,
           "arrowwidth": 1
          },
          "coloraxis": {
           "colorbar": {
            "outlinewidth": 0,
            "ticks": ""
           }
          },
          "colorscale": {
           "diverging": [
            [
             0,
             "#8e0152"
            ],
            [
             0.1,
             "#c51b7d"
            ],
            [
             0.2,
             "#de77ae"
            ],
            [
             0.3,
             "#f1b6da"
            ],
            [
             0.4,
             "#fde0ef"
            ],
            [
             0.5,
             "#f7f7f7"
            ],
            [
             0.6,
             "#e6f5d0"
            ],
            [
             0.7,
             "#b8e186"
            ],
            [
             0.8,
             "#7fbc41"
            ],
            [
             0.9,
             "#4d9221"
            ],
            [
             1,
             "#276419"
            ]
           ],
           "sequential": [
            [
             0,
             "#0d0887"
            ],
            [
             0.1111111111111111,
             "#46039f"
            ],
            [
             0.2222222222222222,
             "#7201a8"
            ],
            [
             0.3333333333333333,
             "#9c179e"
            ],
            [
             0.4444444444444444,
             "#bd3786"
            ],
            [
             0.5555555555555556,
             "#d8576b"
            ],
            [
             0.6666666666666666,
             "#ed7953"
            ],
            [
             0.7777777777777778,
             "#fb9f3a"
            ],
            [
             0.8888888888888888,
             "#fdca26"
            ],
            [
             1,
             "#f0f921"
            ]
           ],
           "sequentialminus": [
            [
             0,
             "#0d0887"
            ],
            [
             0.1111111111111111,
             "#46039f"
            ],
            [
             0.2222222222222222,
             "#7201a8"
            ],
            [
             0.3333333333333333,
             "#9c179e"
            ],
            [
             0.4444444444444444,
             "#bd3786"
            ],
            [
             0.5555555555555556,
             "#d8576b"
            ],
            [
             0.6666666666666666,
             "#ed7953"
            ],
            [
             0.7777777777777778,
             "#fb9f3a"
            ],
            [
             0.8888888888888888,
             "#fdca26"
            ],
            [
             1,
             "#f0f921"
            ]
           ]
          },
          "colorway": [
           "#636efa",
           "#EF553B",
           "#00cc96",
           "#ab63fa",
           "#FFA15A",
           "#19d3f3",
           "#FF6692",
           "#B6E880",
           "#FF97FF",
           "#FECB52"
          ],
          "font": {
           "color": "#2a3f5f"
          },
          "geo": {
           "bgcolor": "white",
           "lakecolor": "white",
           "landcolor": "#E5ECF6",
           "showlakes": true,
           "showland": true,
           "subunitcolor": "white"
          },
          "hoverlabel": {
           "align": "left"
          },
          "hovermode": "closest",
          "mapbox": {
           "style": "light"
          },
          "paper_bgcolor": "white",
          "plot_bgcolor": "#E5ECF6",
          "polar": {
           "angularaxis": {
            "gridcolor": "white",
            "linecolor": "white",
            "ticks": ""
           },
           "bgcolor": "#E5ECF6",
           "radialaxis": {
            "gridcolor": "white",
            "linecolor": "white",
            "ticks": ""
           }
          },
          "scene": {
           "xaxis": {
            "backgroundcolor": "#E5ECF6",
            "gridcolor": "white",
            "gridwidth": 2,
            "linecolor": "white",
            "showbackground": true,
            "ticks": "",
            "zerolinecolor": "white"
           },
           "yaxis": {
            "backgroundcolor": "#E5ECF6",
            "gridcolor": "white",
            "gridwidth": 2,
            "linecolor": "white",
            "showbackground": true,
            "ticks": "",
            "zerolinecolor": "white"
           },
           "zaxis": {
            "backgroundcolor": "#E5ECF6",
            "gridcolor": "white",
            "gridwidth": 2,
            "linecolor": "white",
            "showbackground": true,
            "ticks": "",
            "zerolinecolor": "white"
           }
          },
          "shapedefaults": {
           "line": {
            "color": "#2a3f5f"
           }
          },
          "ternary": {
           "aaxis": {
            "gridcolor": "white",
            "linecolor": "white",
            "ticks": ""
           },
           "baxis": {
            "gridcolor": "white",
            "linecolor": "white",
            "ticks": ""
           },
           "bgcolor": "#E5ECF6",
           "caxis": {
            "gridcolor": "white",
            "linecolor": "white",
            "ticks": ""
           }
          },
          "title": {
           "x": 0.05
          },
          "xaxis": {
           "automargin": true,
           "gridcolor": "white",
           "linecolor": "white",
           "ticks": "",
           "title": {
            "standoff": 15
           },
           "zerolinecolor": "white",
           "zerolinewidth": 2
          },
          "yaxis": {
           "automargin": true,
           "gridcolor": "white",
           "linecolor": "white",
           "ticks": "",
           "title": {
            "standoff": 15
           },
           "zerolinecolor": "white",
           "zerolinewidth": 2
          }
         }
        }
       }
      },
      "text/html": [
       "<div>                            <div id=\"9a83fa6b-b421-4044-89dd-036f6443a2cc\" class=\"plotly-graph-div\" style=\"height:525px; width:100%;\"></div>            <script type=\"text/javascript\">                require([\"plotly\"], function(Plotly) {                    window.PLOTLYENV=window.PLOTLYENV || {};                                    if (document.getElementById(\"9a83fa6b-b421-4044-89dd-036f6443a2cc\")) {                    Plotly.newPlot(                        \"9a83fa6b-b421-4044-89dd-036f6443a2cc\",                        [{\"color\": \"steelblue\", \"hoverinfo\": \"none\", \"opacity\": 0.3, \"type\": \"mesh3d\", \"x\": [0.222, 0.0, 0.667], \"y\": [0.111, 1.0, 0.333], \"z\": [0.666, 0.0, 0.0]}, {\"hovertemplate\": \"Piem\\u0113rots: %{x:.2f}<br>Viegls: %{y:.2f}<br>Nepiem\\u0113rots: %{z:.2f}<extra>%{text}</extra>\", \"marker\": {\"color\": \"dodgerblue\", \"size\": 8, \"symbol\": \"circle\"}, \"mode\": \"markers\", \"text\": [\"Anekdotisks piem\\u0113rs\", \"Atsauk\\u0161an\\u0101s uz trad\\u012bcij\\u0101m\", \"Eksperti\", \"Ekspertu viedoklis\", \"Es dom\\u0101ju, ka.... (3.19)\", \"Es dzird\\u0113ju, ka.... (4.15)\", \"Es las\\u012bju, ka....\", \"Ievas un Alises piem\\u0113rs\", \"Inform\\u0101cijas avots\", \"Kas ir lo\\u0123ikas k\\u013c\\u016bda\", \"Kas ir mediji?\", \"Kas ir medijprat\\u012bba\", \"Kopsavilkums un m\\u0101jas darbs\", \"K\\u0101 atpaz\\u012bt labo no slikt\\u0101s inform\\u0101cijas\", \"K\\u0101 atpaz\\u012bt viltus zi\\u0146u II\", \"K\\u0101 atpaz\\u012bt viltus zi\\u0146u III\", \"K\\u0101 atpaz\\u012bt viltus zi\\u0146u.\", \"K\\u0101 izplat\\u0101s viltus zi\\u0146as\", \"K\\u0101 izvair\\u012bties no lo\\u0123ikas k\\u013c\\u016bd\\u0101m\", \"K\\u0101p\\u0113c tiek pie\\u013cautas lo\\u0123ikas k\\u013c\\u016bdas\", \"Lo\\u0123ikas k\\u013c\\u016bda - melnbalt\\u0101 dom\\u0101\\u0161ana\", \"Lo\\u0123ikas k\\u013c\\u016bda - sliden\\u0101 nog\\u0101ze\", \"Lo\\u0123ikas k\\u013c\\u016bda - sliden\\u0101 nog\\u0101ze. Piem\\u0113rs.\", \"Lo\\u0123ikas k\\u013c\\u016bdas\", \"Mediju biznesa modelis\", \"Negod\\u012bgs uzbrukums un viltus zi\\u0146as\", \"Nepatiesais c\\u0113lonis\", \"Nepatiesais c\\u0113lonis - piem\\u0113rs\", \"Piem\\u0113rs vid\\u0113ji labam pier\\u0101d\\u012bjumam\", \"Pier\\u0101d\\u012bjuma neesam\\u012bba (5.48))\", \"Pier\\u0101d\\u012bjumu veidi\", \"P\\u016b\\u013cveida dom\\u0101\\u0161ana\", \"Rekl\\u0101mas noz\\u012bme\", \"Vai TikTok ir labs?\", \"Viltus zi\\u0146as\", \"Viltus zi\\u0146u noz\\u012bme\"], \"type\": \"scatter3d\", \"x\": [0.5, 0.0, 0.0, 0.0, 0.2, 0.0, 0.0, 0.0, 0.0, 0.0, 0.15384615384615385, 0.0, 0.2, 0.0, 0.0, 0.0, 0.0, 0.0, 0.0, 0.0, 0.0, 0.0, 0.0, 0.0, 0.0, 0.0, 0.0, 0.5, 0.0, 0.25, 0.2, 0.0, 0.2727272727272727, 0.1, 0.5, 0.0], \"y\": [0.5, 1.0, 1.0, 0.8, 0.4, 1.0, 0.75, 1.0, 0.4444444444444444, 1.0, 0.6923076923076923, 0.75, 0.7, 0.3333333333333333, 1.0, 0.0, 1.0, 0.0, 1.0, 1.0, 0.0, 1.0, 0.0, 1.0, 0.7777777777777778, 1.0, 0.5, 0.0, 1.0, 0.75, 0.8, 1.0, 0.36363636363636365, 0.7, 0.5, 0.5], \"z\": [0.0, 0.0, 0.0, 0.2, 0.4, 0.0, 0.25, 0.0, 0.5555555555555556, 0.0, 0.15384615384615385, 0.25, 0.1, 0.6666666666666666, 0.0, 1.0, 0.0, 1.0, 0.0, 0.0, 1.0, 0.0, 1.0, 0.0, 0.2222222222222222, 0.0, 0.5, 0.5, 0.0, 0.0, 0.0, 0.0, 0.36363636363636365, 0.2, 0.0, 0.5]}],                        {\"margin\": {\"b\": 0, \"l\": 0, \"r\": 0, \"t\": 0}, \"scene\": {\"xaxis\": {\"backgroundcolor\": \"rgb(200, 200, 230)\", \"gridcolor\": \"white\", \"nticks\": 6, \"range\": [0, 1], \"showbackground\": true, \"showspikes\": false, \"title\": {\"text\": \"Piem\\u0113rots\"}, \"zerolinecolor\": \"white\"}, \"yaxis\": {\"backgroundcolor\": \"rgb(230, 200,230)\", \"gridcolor\": \"white\", \"nticks\": 6, \"range\": [0, 1], \"showbackground\": true, \"showspikes\": false, \"title\": {\"text\": \"Viegls\"}, \"zerolinecolor\": \"white\"}, \"zaxis\": {\"backgroundcolor\": \"rgb(230, 230,200)\", \"gridcolor\": \"white\", \"nticks\": 6, \"range\": [0, 1], \"showbackground\": true, \"showspikes\": true, \"title\": {\"text\": \"Nepiem\\u0113rots\"}, \"zerolinecolor\": \"white\"}}, \"template\": {\"data\": {\"bar\": [{\"error_x\": {\"color\": \"#2a3f5f\"}, \"error_y\": {\"color\": \"#2a3f5f\"}, \"marker\": {\"line\": {\"color\": \"#E5ECF6\", \"width\": 0.5}}, \"type\": \"bar\"}], \"barpolar\": [{\"marker\": {\"line\": {\"color\": \"#E5ECF6\", \"width\": 0.5}}, \"type\": \"barpolar\"}], \"carpet\": [{\"aaxis\": {\"endlinecolor\": \"#2a3f5f\", \"gridcolor\": \"white\", \"linecolor\": \"white\", \"minorgridcolor\": \"white\", \"startlinecolor\": \"#2a3f5f\"}, \"baxis\": {\"endlinecolor\": \"#2a3f5f\", \"gridcolor\": \"white\", \"linecolor\": \"white\", \"minorgridcolor\": \"white\", \"startlinecolor\": \"#2a3f5f\"}, \"type\": \"carpet\"}], \"choropleth\": [{\"colorbar\": {\"outlinewidth\": 0, \"ticks\": \"\"}, \"type\": \"choropleth\"}], \"contour\": [{\"colorbar\": {\"outlinewidth\": 0, \"ticks\": \"\"}, \"colorscale\": [[0.0, \"#0d0887\"], [0.1111111111111111, \"#46039f\"], [0.2222222222222222, \"#7201a8\"], [0.3333333333333333, \"#9c179e\"], [0.4444444444444444, \"#bd3786\"], [0.5555555555555556, \"#d8576b\"], [0.6666666666666666, \"#ed7953\"], [0.7777777777777778, \"#fb9f3a\"], [0.8888888888888888, \"#fdca26\"], [1.0, \"#f0f921\"]], \"type\": \"contour\"}], \"contourcarpet\": [{\"colorbar\": {\"outlinewidth\": 0, \"ticks\": \"\"}, \"type\": \"contourcarpet\"}], \"heatmap\": [{\"colorbar\": {\"outlinewidth\": 0, \"ticks\": \"\"}, \"colorscale\": [[0.0, \"#0d0887\"], [0.1111111111111111, \"#46039f\"], [0.2222222222222222, \"#7201a8\"], [0.3333333333333333, \"#9c179e\"], [0.4444444444444444, \"#bd3786\"], [0.5555555555555556, \"#d8576b\"], [0.6666666666666666, \"#ed7953\"], [0.7777777777777778, \"#fb9f3a\"], [0.8888888888888888, \"#fdca26\"], [1.0, \"#f0f921\"]], \"type\": \"heatmap\"}], \"heatmapgl\": [{\"colorbar\": {\"outlinewidth\": 0, \"ticks\": \"\"}, \"colorscale\": [[0.0, \"#0d0887\"], [0.1111111111111111, \"#46039f\"], [0.2222222222222222, \"#7201a8\"], [0.3333333333333333, \"#9c179e\"], [0.4444444444444444, \"#bd3786\"], [0.5555555555555556, \"#d8576b\"], [0.6666666666666666, \"#ed7953\"], [0.7777777777777778, \"#fb9f3a\"], [0.8888888888888888, \"#fdca26\"], [1.0, \"#f0f921\"]], \"type\": \"heatmapgl\"}], \"histogram\": [{\"marker\": {\"colorbar\": {\"outlinewidth\": 0, \"ticks\": \"\"}}, \"type\": \"histogram\"}], \"histogram2d\": [{\"colorbar\": {\"outlinewidth\": 0, \"ticks\": \"\"}, \"colorscale\": [[0.0, \"#0d0887\"], [0.1111111111111111, \"#46039f\"], [0.2222222222222222, \"#7201a8\"], [0.3333333333333333, \"#9c179e\"], [0.4444444444444444, \"#bd3786\"], [0.5555555555555556, \"#d8576b\"], [0.6666666666666666, \"#ed7953\"], [0.7777777777777778, \"#fb9f3a\"], [0.8888888888888888, \"#fdca26\"], [1.0, \"#f0f921\"]], \"type\": \"histogram2d\"}], \"histogram2dcontour\": [{\"colorbar\": {\"outlinewidth\": 0, \"ticks\": \"\"}, \"colorscale\": [[0.0, \"#0d0887\"], [0.1111111111111111, \"#46039f\"], [0.2222222222222222, \"#7201a8\"], [0.3333333333333333, \"#9c179e\"], [0.4444444444444444, \"#bd3786\"], [0.5555555555555556, \"#d8576b\"], [0.6666666666666666, \"#ed7953\"], [0.7777777777777778, \"#fb9f3a\"], [0.8888888888888888, \"#fdca26\"], [1.0, \"#f0f921\"]], \"type\": \"histogram2dcontour\"}], \"mesh3d\": [{\"colorbar\": {\"outlinewidth\": 0, \"ticks\": \"\"}, \"type\": \"mesh3d\"}], \"parcoords\": [{\"line\": {\"colorbar\": {\"outlinewidth\": 0, \"ticks\": \"\"}}, \"type\": \"parcoords\"}], \"pie\": [{\"automargin\": true, \"type\": \"pie\"}], \"scatter\": [{\"marker\": {\"colorbar\": {\"outlinewidth\": 0, \"ticks\": \"\"}}, \"type\": \"scatter\"}], \"scatter3d\": [{\"line\": {\"colorbar\": {\"outlinewidth\": 0, \"ticks\": \"\"}}, \"marker\": {\"colorbar\": {\"outlinewidth\": 0, \"ticks\": \"\"}}, \"type\": \"scatter3d\"}], \"scattercarpet\": [{\"marker\": {\"colorbar\": {\"outlinewidth\": 0, \"ticks\": \"\"}}, \"type\": \"scattercarpet\"}], \"scattergeo\": [{\"marker\": {\"colorbar\": {\"outlinewidth\": 0, \"ticks\": \"\"}}, \"type\": \"scattergeo\"}], \"scattergl\": [{\"marker\": {\"colorbar\": {\"outlinewidth\": 0, \"ticks\": \"\"}}, \"type\": \"scattergl\"}], \"scattermapbox\": [{\"marker\": {\"colorbar\": {\"outlinewidth\": 0, \"ticks\": \"\"}}, \"type\": \"scattermapbox\"}], \"scatterpolar\": [{\"marker\": {\"colorbar\": {\"outlinewidth\": 0, \"ticks\": \"\"}}, \"type\": \"scatterpolar\"}], \"scatterpolargl\": [{\"marker\": {\"colorbar\": {\"outlinewidth\": 0, \"ticks\": \"\"}}, \"type\": \"scatterpolargl\"}], \"scatterternary\": [{\"marker\": {\"colorbar\": {\"outlinewidth\": 0, \"ticks\": \"\"}}, \"type\": \"scatterternary\"}], \"surface\": [{\"colorbar\": {\"outlinewidth\": 0, \"ticks\": \"\"}, \"colorscale\": [[0.0, \"#0d0887\"], [0.1111111111111111, \"#46039f\"], [0.2222222222222222, \"#7201a8\"], [0.3333333333333333, \"#9c179e\"], [0.4444444444444444, \"#bd3786\"], [0.5555555555555556, \"#d8576b\"], [0.6666666666666666, \"#ed7953\"], [0.7777777777777778, \"#fb9f3a\"], [0.8888888888888888, \"#fdca26\"], [1.0, \"#f0f921\"]], \"type\": \"surface\"}], \"table\": [{\"cells\": {\"fill\": {\"color\": \"#EBF0F8\"}, \"line\": {\"color\": \"white\"}}, \"header\": {\"fill\": {\"color\": \"#C8D4E3\"}, \"line\": {\"color\": \"white\"}}, \"type\": \"table\"}]}, \"layout\": {\"annotationdefaults\": {\"arrowcolor\": \"#2a3f5f\", \"arrowhead\": 0, \"arrowwidth\": 1}, \"coloraxis\": {\"colorbar\": {\"outlinewidth\": 0, \"ticks\": \"\"}}, \"colorscale\": {\"diverging\": [[0, \"#8e0152\"], [0.1, \"#c51b7d\"], [0.2, \"#de77ae\"], [0.3, \"#f1b6da\"], [0.4, \"#fde0ef\"], [0.5, \"#f7f7f7\"], [0.6, \"#e6f5d0\"], [0.7, \"#b8e186\"], [0.8, \"#7fbc41\"], [0.9, \"#4d9221\"], [1, \"#276419\"]], \"sequential\": [[0.0, \"#0d0887\"], [0.1111111111111111, \"#46039f\"], [0.2222222222222222, \"#7201a8\"], [0.3333333333333333, \"#9c179e\"], [0.4444444444444444, \"#bd3786\"], [0.5555555555555556, \"#d8576b\"], [0.6666666666666666, \"#ed7953\"], [0.7777777777777778, \"#fb9f3a\"], [0.8888888888888888, \"#fdca26\"], [1.0, \"#f0f921\"]], \"sequentialminus\": [[0.0, \"#0d0887\"], [0.1111111111111111, \"#46039f\"], [0.2222222222222222, \"#7201a8\"], [0.3333333333333333, \"#9c179e\"], [0.4444444444444444, \"#bd3786\"], [0.5555555555555556, \"#d8576b\"], [0.6666666666666666, \"#ed7953\"], [0.7777777777777778, \"#fb9f3a\"], [0.8888888888888888, \"#fdca26\"], [1.0, \"#f0f921\"]]}, \"colorway\": [\"#636efa\", \"#EF553B\", \"#00cc96\", \"#ab63fa\", \"#FFA15A\", \"#19d3f3\", \"#FF6692\", \"#B6E880\", \"#FF97FF\", \"#FECB52\"], \"font\": {\"color\": \"#2a3f5f\"}, \"geo\": {\"bgcolor\": \"white\", \"lakecolor\": \"white\", \"landcolor\": \"#E5ECF6\", \"showlakes\": true, \"showland\": true, \"subunitcolor\": \"white\"}, \"hoverlabel\": {\"align\": \"left\"}, \"hovermode\": \"closest\", \"mapbox\": {\"style\": \"light\"}, \"paper_bgcolor\": \"white\", \"plot_bgcolor\": \"#E5ECF6\", \"polar\": {\"angularaxis\": {\"gridcolor\": \"white\", \"linecolor\": \"white\", \"ticks\": \"\"}, \"bgcolor\": \"#E5ECF6\", \"radialaxis\": {\"gridcolor\": \"white\", \"linecolor\": \"white\", \"ticks\": \"\"}}, \"scene\": {\"xaxis\": {\"backgroundcolor\": \"#E5ECF6\", \"gridcolor\": \"white\", \"gridwidth\": 2, \"linecolor\": \"white\", \"showbackground\": true, \"ticks\": \"\", \"zerolinecolor\": \"white\"}, \"yaxis\": {\"backgroundcolor\": \"#E5ECF6\", \"gridcolor\": \"white\", \"gridwidth\": 2, \"linecolor\": \"white\", \"showbackground\": true, \"ticks\": \"\", \"zerolinecolor\": \"white\"}, \"zaxis\": {\"backgroundcolor\": \"#E5ECF6\", \"gridcolor\": \"white\", \"gridwidth\": 2, \"linecolor\": \"white\", \"showbackground\": true, \"ticks\": \"\", \"zerolinecolor\": \"white\"}}, \"shapedefaults\": {\"line\": {\"color\": \"#2a3f5f\"}}, \"ternary\": {\"aaxis\": {\"gridcolor\": \"white\", \"linecolor\": \"white\", \"ticks\": \"\"}, \"baxis\": {\"gridcolor\": \"white\", \"linecolor\": \"white\", \"ticks\": \"\"}, \"bgcolor\": \"#E5ECF6\", \"caxis\": {\"gridcolor\": \"white\", \"linecolor\": \"white\", \"ticks\": \"\"}}, \"title\": {\"x\": 0.05}, \"xaxis\": {\"automargin\": true, \"gridcolor\": \"white\", \"linecolor\": \"white\", \"ticks\": \"\", \"title\": {\"standoff\": 15}, \"zerolinecolor\": \"white\", \"zerolinewidth\": 2}, \"yaxis\": {\"automargin\": true, \"gridcolor\": \"white\", \"linecolor\": \"white\", \"ticks\": \"\", \"title\": {\"standoff\": 15}, \"zerolinecolor\": \"white\", \"zerolinewidth\": 2}}}},                        {\"responsive\": true}                    ).then(function(){\n",
       "                            \n",
       "var gd = document.getElementById('9a83fa6b-b421-4044-89dd-036f6443a2cc');\n",
       "var x = new MutationObserver(function (mutations, observer) {{\n",
       "        var display = window.getComputedStyle(gd).display;\n",
       "        if (!display || display === 'none') {{\n",
       "            console.log([gd, 'removed!']);\n",
       "            Plotly.purge(gd);\n",
       "            observer.disconnect();\n",
       "        }}\n",
       "}});\n",
       "\n",
       "// Listen for the removal of the full notebook cells\n",
       "var notebookContainer = gd.closest('#notebook-container');\n",
       "if (notebookContainer) {{\n",
       "    x.observe(notebookContainer, {childList: true});\n",
       "}}\n",
       "\n",
       "// Listen for the clearing of the current output cell\n",
       "var outputEl = gd.closest('.output');\n",
       "if (outputEl) {{\n",
       "    x.observe(outputEl, {childList: true});\n",
       "}}\n",
       "\n",
       "                        })                };                });            </script>        </div>"
      ]
     },
     "metadata": {},
     "output_type": "display_data"
    }
   ],
   "source": [
    "final_aggregation('lessonid').show()"
   ]
  },
  {
   "cell_type": "markdown",
   "metadata": {},
   "source": [
    "## Telecides of students\n",
    "Visualisation of each student"
   ]
  },
  {
   "cell_type": "code",
   "execution_count": 74,
   "metadata": {},
   "outputs": [
    {
     "data": {
      "application/vnd.plotly.v1+json": {
       "config": {
        "plotlyServerURL": "https://plot.ly"
       },
       "data": [
        {
         "color": "steelblue",
         "hoverinfo": "none",
         "opacity": 0.3,
         "type": "mesh3d",
         "x": [
          0.222,
          0,
          0.667
         ],
         "y": [
          0.111,
          1,
          0.333
         ],
         "z": [
          0.666,
          0,
          0
         ]
        },
        {
         "hovertemplate": "Piemērots: %{x:.2f}<br>Viegls: %{y:.2f}<br>Nepiemērots: %{z:.2f}<extra>%{text}</extra>",
         "marker": {
          "color": "lightcoral",
          "size": 8,
          "symbol": "circle"
         },
         "mode": "markers",
         "text": [
          15,
          44,
          53,
          54,
          55,
          68,
          70,
          77,
          87,
          90,
          95,
          96,
          119,
          125
         ],
         "type": "scatter3d",
         "x": [
          0.2,
          0.3333333333333333,
          0.25,
          0.13157894736842105,
          0.2857142857142857,
          0,
          0,
          0,
          0.06666666666666667,
          0,
          0,
          0,
          0,
          0.125
         ],
         "y": [
          0,
          0.3333333333333333,
          0.4166666666666667,
          0.6578947368421053,
          0.7142857142857143,
          0.9333333333333333,
          0.9333333333333333,
          0.5,
          0.7333333333333333,
          1,
          1,
          0.8,
          0.5,
          0
         ],
         "z": [
          0.8,
          0.3333333333333333,
          0.3333333333333333,
          0.21052631578947367,
          0,
          0.06666666666666667,
          0.06666666666666667,
          0.5,
          0.2,
          0,
          0,
          0.2,
          0.5,
          0.875
         ]
        }
       ],
       "layout": {
        "margin": {
         "b": 0,
         "l": 0,
         "r": 0,
         "t": 0
        },
        "scene": {
         "xaxis": {
          "backgroundcolor": "rgb(200, 200, 230)",
          "gridcolor": "white",
          "nticks": 6,
          "range": [
           0,
           1
          ],
          "showbackground": true,
          "showspikes": false,
          "title": {
           "text": "Piemērots"
          },
          "zerolinecolor": "white"
         },
         "yaxis": {
          "backgroundcolor": "rgb(230, 200,230)",
          "gridcolor": "white",
          "nticks": 6,
          "range": [
           0,
           1
          ],
          "showbackground": true,
          "showspikes": false,
          "title": {
           "text": "Viegls"
          },
          "zerolinecolor": "white"
         },
         "zaxis": {
          "backgroundcolor": "rgb(230, 230,200)",
          "gridcolor": "white",
          "nticks": 6,
          "range": [
           0,
           1
          ],
          "showbackground": true,
          "showspikes": true,
          "title": {
           "text": "Nepiemērots"
          },
          "zerolinecolor": "white"
         }
        },
        "template": {
         "data": {
          "bar": [
           {
            "error_x": {
             "color": "#2a3f5f"
            },
            "error_y": {
             "color": "#2a3f5f"
            },
            "marker": {
             "line": {
              "color": "#E5ECF6",
              "width": 0.5
             }
            },
            "type": "bar"
           }
          ],
          "barpolar": [
           {
            "marker": {
             "line": {
              "color": "#E5ECF6",
              "width": 0.5
             }
            },
            "type": "barpolar"
           }
          ],
          "carpet": [
           {
            "aaxis": {
             "endlinecolor": "#2a3f5f",
             "gridcolor": "white",
             "linecolor": "white",
             "minorgridcolor": "white",
             "startlinecolor": "#2a3f5f"
            },
            "baxis": {
             "endlinecolor": "#2a3f5f",
             "gridcolor": "white",
             "linecolor": "white",
             "minorgridcolor": "white",
             "startlinecolor": "#2a3f5f"
            },
            "type": "carpet"
           }
          ],
          "choropleth": [
           {
            "colorbar": {
             "outlinewidth": 0,
             "ticks": ""
            },
            "type": "choropleth"
           }
          ],
          "contour": [
           {
            "colorbar": {
             "outlinewidth": 0,
             "ticks": ""
            },
            "colorscale": [
             [
              0,
              "#0d0887"
             ],
             [
              0.1111111111111111,
              "#46039f"
             ],
             [
              0.2222222222222222,
              "#7201a8"
             ],
             [
              0.3333333333333333,
              "#9c179e"
             ],
             [
              0.4444444444444444,
              "#bd3786"
             ],
             [
              0.5555555555555556,
              "#d8576b"
             ],
             [
              0.6666666666666666,
              "#ed7953"
             ],
             [
              0.7777777777777778,
              "#fb9f3a"
             ],
             [
              0.8888888888888888,
              "#fdca26"
             ],
             [
              1,
              "#f0f921"
             ]
            ],
            "type": "contour"
           }
          ],
          "contourcarpet": [
           {
            "colorbar": {
             "outlinewidth": 0,
             "ticks": ""
            },
            "type": "contourcarpet"
           }
          ],
          "heatmap": [
           {
            "colorbar": {
             "outlinewidth": 0,
             "ticks": ""
            },
            "colorscale": [
             [
              0,
              "#0d0887"
             ],
             [
              0.1111111111111111,
              "#46039f"
             ],
             [
              0.2222222222222222,
              "#7201a8"
             ],
             [
              0.3333333333333333,
              "#9c179e"
             ],
             [
              0.4444444444444444,
              "#bd3786"
             ],
             [
              0.5555555555555556,
              "#d8576b"
             ],
             [
              0.6666666666666666,
              "#ed7953"
             ],
             [
              0.7777777777777778,
              "#fb9f3a"
             ],
             [
              0.8888888888888888,
              "#fdca26"
             ],
             [
              1,
              "#f0f921"
             ]
            ],
            "type": "heatmap"
           }
          ],
          "heatmapgl": [
           {
            "colorbar": {
             "outlinewidth": 0,
             "ticks": ""
            },
            "colorscale": [
             [
              0,
              "#0d0887"
             ],
             [
              0.1111111111111111,
              "#46039f"
             ],
             [
              0.2222222222222222,
              "#7201a8"
             ],
             [
              0.3333333333333333,
              "#9c179e"
             ],
             [
              0.4444444444444444,
              "#bd3786"
             ],
             [
              0.5555555555555556,
              "#d8576b"
             ],
             [
              0.6666666666666666,
              "#ed7953"
             ],
             [
              0.7777777777777778,
              "#fb9f3a"
             ],
             [
              0.8888888888888888,
              "#fdca26"
             ],
             [
              1,
              "#f0f921"
             ]
            ],
            "type": "heatmapgl"
           }
          ],
          "histogram": [
           {
            "marker": {
             "colorbar": {
              "outlinewidth": 0,
              "ticks": ""
             }
            },
            "type": "histogram"
           }
          ],
          "histogram2d": [
           {
            "colorbar": {
             "outlinewidth": 0,
             "ticks": ""
            },
            "colorscale": [
             [
              0,
              "#0d0887"
             ],
             [
              0.1111111111111111,
              "#46039f"
             ],
             [
              0.2222222222222222,
              "#7201a8"
             ],
             [
              0.3333333333333333,
              "#9c179e"
             ],
             [
              0.4444444444444444,
              "#bd3786"
             ],
             [
              0.5555555555555556,
              "#d8576b"
             ],
             [
              0.6666666666666666,
              "#ed7953"
             ],
             [
              0.7777777777777778,
              "#fb9f3a"
             ],
             [
              0.8888888888888888,
              "#fdca26"
             ],
             [
              1,
              "#f0f921"
             ]
            ],
            "type": "histogram2d"
           }
          ],
          "histogram2dcontour": [
           {
            "colorbar": {
             "outlinewidth": 0,
             "ticks": ""
            },
            "colorscale": [
             [
              0,
              "#0d0887"
             ],
             [
              0.1111111111111111,
              "#46039f"
             ],
             [
              0.2222222222222222,
              "#7201a8"
             ],
             [
              0.3333333333333333,
              "#9c179e"
             ],
             [
              0.4444444444444444,
              "#bd3786"
             ],
             [
              0.5555555555555556,
              "#d8576b"
             ],
             [
              0.6666666666666666,
              "#ed7953"
             ],
             [
              0.7777777777777778,
              "#fb9f3a"
             ],
             [
              0.8888888888888888,
              "#fdca26"
             ],
             [
              1,
              "#f0f921"
             ]
            ],
            "type": "histogram2dcontour"
           }
          ],
          "mesh3d": [
           {
            "colorbar": {
             "outlinewidth": 0,
             "ticks": ""
            },
            "type": "mesh3d"
           }
          ],
          "parcoords": [
           {
            "line": {
             "colorbar": {
              "outlinewidth": 0,
              "ticks": ""
             }
            },
            "type": "parcoords"
           }
          ],
          "pie": [
           {
            "automargin": true,
            "type": "pie"
           }
          ],
          "scatter": [
           {
            "marker": {
             "colorbar": {
              "outlinewidth": 0,
              "ticks": ""
             }
            },
            "type": "scatter"
           }
          ],
          "scatter3d": [
           {
            "line": {
             "colorbar": {
              "outlinewidth": 0,
              "ticks": ""
             }
            },
            "marker": {
             "colorbar": {
              "outlinewidth": 0,
              "ticks": ""
             }
            },
            "type": "scatter3d"
           }
          ],
          "scattercarpet": [
           {
            "marker": {
             "colorbar": {
              "outlinewidth": 0,
              "ticks": ""
             }
            },
            "type": "scattercarpet"
           }
          ],
          "scattergeo": [
           {
            "marker": {
             "colorbar": {
              "outlinewidth": 0,
              "ticks": ""
             }
            },
            "type": "scattergeo"
           }
          ],
          "scattergl": [
           {
            "marker": {
             "colorbar": {
              "outlinewidth": 0,
              "ticks": ""
             }
            },
            "type": "scattergl"
           }
          ],
          "scattermapbox": [
           {
            "marker": {
             "colorbar": {
              "outlinewidth": 0,
              "ticks": ""
             }
            },
            "type": "scattermapbox"
           }
          ],
          "scatterpolar": [
           {
            "marker": {
             "colorbar": {
              "outlinewidth": 0,
              "ticks": ""
             }
            },
            "type": "scatterpolar"
           }
          ],
          "scatterpolargl": [
           {
            "marker": {
             "colorbar": {
              "outlinewidth": 0,
              "ticks": ""
             }
            },
            "type": "scatterpolargl"
           }
          ],
          "scatterternary": [
           {
            "marker": {
             "colorbar": {
              "outlinewidth": 0,
              "ticks": ""
             }
            },
            "type": "scatterternary"
           }
          ],
          "surface": [
           {
            "colorbar": {
             "outlinewidth": 0,
             "ticks": ""
            },
            "colorscale": [
             [
              0,
              "#0d0887"
             ],
             [
              0.1111111111111111,
              "#46039f"
             ],
             [
              0.2222222222222222,
              "#7201a8"
             ],
             [
              0.3333333333333333,
              "#9c179e"
             ],
             [
              0.4444444444444444,
              "#bd3786"
             ],
             [
              0.5555555555555556,
              "#d8576b"
             ],
             [
              0.6666666666666666,
              "#ed7953"
             ],
             [
              0.7777777777777778,
              "#fb9f3a"
             ],
             [
              0.8888888888888888,
              "#fdca26"
             ],
             [
              1,
              "#f0f921"
             ]
            ],
            "type": "surface"
           }
          ],
          "table": [
           {
            "cells": {
             "fill": {
              "color": "#EBF0F8"
             },
             "line": {
              "color": "white"
             }
            },
            "header": {
             "fill": {
              "color": "#C8D4E3"
             },
             "line": {
              "color": "white"
             }
            },
            "type": "table"
           }
          ]
         },
         "layout": {
          "annotationdefaults": {
           "arrowcolor": "#2a3f5f",
           "arrowhead": 0,
           "arrowwidth": 1
          },
          "coloraxis": {
           "colorbar": {
            "outlinewidth": 0,
            "ticks": ""
           }
          },
          "colorscale": {
           "diverging": [
            [
             0,
             "#8e0152"
            ],
            [
             0.1,
             "#c51b7d"
            ],
            [
             0.2,
             "#de77ae"
            ],
            [
             0.3,
             "#f1b6da"
            ],
            [
             0.4,
             "#fde0ef"
            ],
            [
             0.5,
             "#f7f7f7"
            ],
            [
             0.6,
             "#e6f5d0"
            ],
            [
             0.7,
             "#b8e186"
            ],
            [
             0.8,
             "#7fbc41"
            ],
            [
             0.9,
             "#4d9221"
            ],
            [
             1,
             "#276419"
            ]
           ],
           "sequential": [
            [
             0,
             "#0d0887"
            ],
            [
             0.1111111111111111,
             "#46039f"
            ],
            [
             0.2222222222222222,
             "#7201a8"
            ],
            [
             0.3333333333333333,
             "#9c179e"
            ],
            [
             0.4444444444444444,
             "#bd3786"
            ],
            [
             0.5555555555555556,
             "#d8576b"
            ],
            [
             0.6666666666666666,
             "#ed7953"
            ],
            [
             0.7777777777777778,
             "#fb9f3a"
            ],
            [
             0.8888888888888888,
             "#fdca26"
            ],
            [
             1,
             "#f0f921"
            ]
           ],
           "sequentialminus": [
            [
             0,
             "#0d0887"
            ],
            [
             0.1111111111111111,
             "#46039f"
            ],
            [
             0.2222222222222222,
             "#7201a8"
            ],
            [
             0.3333333333333333,
             "#9c179e"
            ],
            [
             0.4444444444444444,
             "#bd3786"
            ],
            [
             0.5555555555555556,
             "#d8576b"
            ],
            [
             0.6666666666666666,
             "#ed7953"
            ],
            [
             0.7777777777777778,
             "#fb9f3a"
            ],
            [
             0.8888888888888888,
             "#fdca26"
            ],
            [
             1,
             "#f0f921"
            ]
           ]
          },
          "colorway": [
           "#636efa",
           "#EF553B",
           "#00cc96",
           "#ab63fa",
           "#FFA15A",
           "#19d3f3",
           "#FF6692",
           "#B6E880",
           "#FF97FF",
           "#FECB52"
          ],
          "font": {
           "color": "#2a3f5f"
          },
          "geo": {
           "bgcolor": "white",
           "lakecolor": "white",
           "landcolor": "#E5ECF6",
           "showlakes": true,
           "showland": true,
           "subunitcolor": "white"
          },
          "hoverlabel": {
           "align": "left"
          },
          "hovermode": "closest",
          "mapbox": {
           "style": "light"
          },
          "paper_bgcolor": "white",
          "plot_bgcolor": "#E5ECF6",
          "polar": {
           "angularaxis": {
            "gridcolor": "white",
            "linecolor": "white",
            "ticks": ""
           },
           "bgcolor": "#E5ECF6",
           "radialaxis": {
            "gridcolor": "white",
            "linecolor": "white",
            "ticks": ""
           }
          },
          "scene": {
           "xaxis": {
            "backgroundcolor": "#E5ECF6",
            "gridcolor": "white",
            "gridwidth": 2,
            "linecolor": "white",
            "showbackground": true,
            "ticks": "",
            "zerolinecolor": "white"
           },
           "yaxis": {
            "backgroundcolor": "#E5ECF6",
            "gridcolor": "white",
            "gridwidth": 2,
            "linecolor": "white",
            "showbackground": true,
            "ticks": "",
            "zerolinecolor": "white"
           },
           "zaxis": {
            "backgroundcolor": "#E5ECF6",
            "gridcolor": "white",
            "gridwidth": 2,
            "linecolor": "white",
            "showbackground": true,
            "ticks": "",
            "zerolinecolor": "white"
           }
          },
          "shapedefaults": {
           "line": {
            "color": "#2a3f5f"
           }
          },
          "ternary": {
           "aaxis": {
            "gridcolor": "white",
            "linecolor": "white",
            "ticks": ""
           },
           "baxis": {
            "gridcolor": "white",
            "linecolor": "white",
            "ticks": ""
           },
           "bgcolor": "#E5ECF6",
           "caxis": {
            "gridcolor": "white",
            "linecolor": "white",
            "ticks": ""
           }
          },
          "title": {
           "x": 0.05
          },
          "xaxis": {
           "automargin": true,
           "gridcolor": "white",
           "linecolor": "white",
           "ticks": "",
           "title": {
            "standoff": 15
           },
           "zerolinecolor": "white",
           "zerolinewidth": 2
          },
          "yaxis": {
           "automargin": true,
           "gridcolor": "white",
           "linecolor": "white",
           "ticks": "",
           "title": {
            "standoff": 15
           },
           "zerolinecolor": "white",
           "zerolinewidth": 2
          }
         }
        }
       }
      },
      "text/html": [
       "<div>                            <div id=\"10130eb6-4065-494b-88ae-2051d5edcd52\" class=\"plotly-graph-div\" style=\"height:525px; width:100%;\"></div>            <script type=\"text/javascript\">                require([\"plotly\"], function(Plotly) {                    window.PLOTLYENV=window.PLOTLYENV || {};                                    if (document.getElementById(\"10130eb6-4065-494b-88ae-2051d5edcd52\")) {                    Plotly.newPlot(                        \"10130eb6-4065-494b-88ae-2051d5edcd52\",                        [{\"color\": \"steelblue\", \"hoverinfo\": \"none\", \"opacity\": 0.3, \"type\": \"mesh3d\", \"x\": [0.222, 0.0, 0.667], \"y\": [0.111, 1.0, 0.333], \"z\": [0.666, 0.0, 0.0]}, {\"hovertemplate\": \"Piem\\u0113rots: %{x:.2f}<br>Viegls: %{y:.2f}<br>Nepiem\\u0113rots: %{z:.2f}<extra>%{text}</extra>\", \"marker\": {\"color\": \"lightcoral\", \"size\": 8, \"symbol\": \"circle\"}, \"mode\": \"markers\", \"text\": [15.0, 44.0, 53.0, 54.0, 55.0, 68.0, 70.0, 77.0, 87.0, 90.0, 95.0, 96.0, 119.0, 125.0], \"type\": \"scatter3d\", \"x\": [0.2, 0.3333333333333333, 0.25, 0.13157894736842105, 0.2857142857142857, 0.0, 0.0, 0.0, 0.06666666666666667, 0.0, 0.0, 0.0, 0.0, 0.125], \"y\": [0.0, 0.3333333333333333, 0.4166666666666667, 0.6578947368421053, 0.7142857142857143, 0.9333333333333333, 0.9333333333333333, 0.5, 0.7333333333333333, 1.0, 1.0, 0.8, 0.5, 0.0], \"z\": [0.8, 0.3333333333333333, 0.3333333333333333, 0.21052631578947367, 0.0, 0.06666666666666667, 0.06666666666666667, 0.5, 0.2, 0.0, 0.0, 0.2, 0.5, 0.875]}],                        {\"margin\": {\"b\": 0, \"l\": 0, \"r\": 0, \"t\": 0}, \"scene\": {\"xaxis\": {\"backgroundcolor\": \"rgb(200, 200, 230)\", \"gridcolor\": \"white\", \"nticks\": 6, \"range\": [0, 1], \"showbackground\": true, \"showspikes\": false, \"title\": {\"text\": \"Piem\\u0113rots\"}, \"zerolinecolor\": \"white\"}, \"yaxis\": {\"backgroundcolor\": \"rgb(230, 200,230)\", \"gridcolor\": \"white\", \"nticks\": 6, \"range\": [0, 1], \"showbackground\": true, \"showspikes\": false, \"title\": {\"text\": \"Viegls\"}, \"zerolinecolor\": \"white\"}, \"zaxis\": {\"backgroundcolor\": \"rgb(230, 230,200)\", \"gridcolor\": \"white\", \"nticks\": 6, \"range\": [0, 1], \"showbackground\": true, \"showspikes\": true, \"title\": {\"text\": \"Nepiem\\u0113rots\"}, \"zerolinecolor\": \"white\"}}, \"template\": {\"data\": {\"bar\": [{\"error_x\": {\"color\": \"#2a3f5f\"}, \"error_y\": {\"color\": \"#2a3f5f\"}, \"marker\": {\"line\": {\"color\": \"#E5ECF6\", \"width\": 0.5}}, \"type\": \"bar\"}], \"barpolar\": [{\"marker\": {\"line\": {\"color\": \"#E5ECF6\", \"width\": 0.5}}, \"type\": \"barpolar\"}], \"carpet\": [{\"aaxis\": {\"endlinecolor\": \"#2a3f5f\", \"gridcolor\": \"white\", \"linecolor\": \"white\", \"minorgridcolor\": \"white\", \"startlinecolor\": \"#2a3f5f\"}, \"baxis\": {\"endlinecolor\": \"#2a3f5f\", \"gridcolor\": \"white\", \"linecolor\": \"white\", \"minorgridcolor\": \"white\", \"startlinecolor\": \"#2a3f5f\"}, \"type\": \"carpet\"}], \"choropleth\": [{\"colorbar\": {\"outlinewidth\": 0, \"ticks\": \"\"}, \"type\": \"choropleth\"}], \"contour\": [{\"colorbar\": {\"outlinewidth\": 0, \"ticks\": \"\"}, \"colorscale\": [[0.0, \"#0d0887\"], [0.1111111111111111, \"#46039f\"], [0.2222222222222222, \"#7201a8\"], [0.3333333333333333, \"#9c179e\"], [0.4444444444444444, \"#bd3786\"], [0.5555555555555556, \"#d8576b\"], [0.6666666666666666, \"#ed7953\"], [0.7777777777777778, \"#fb9f3a\"], [0.8888888888888888, \"#fdca26\"], [1.0, \"#f0f921\"]], \"type\": \"contour\"}], \"contourcarpet\": [{\"colorbar\": {\"outlinewidth\": 0, \"ticks\": \"\"}, \"type\": \"contourcarpet\"}], \"heatmap\": [{\"colorbar\": {\"outlinewidth\": 0, \"ticks\": \"\"}, \"colorscale\": [[0.0, \"#0d0887\"], [0.1111111111111111, \"#46039f\"], [0.2222222222222222, \"#7201a8\"], [0.3333333333333333, \"#9c179e\"], [0.4444444444444444, \"#bd3786\"], [0.5555555555555556, \"#d8576b\"], [0.6666666666666666, \"#ed7953\"], [0.7777777777777778, \"#fb9f3a\"], [0.8888888888888888, \"#fdca26\"], [1.0, \"#f0f921\"]], \"type\": \"heatmap\"}], \"heatmapgl\": [{\"colorbar\": {\"outlinewidth\": 0, \"ticks\": \"\"}, \"colorscale\": [[0.0, \"#0d0887\"], [0.1111111111111111, \"#46039f\"], [0.2222222222222222, \"#7201a8\"], [0.3333333333333333, \"#9c179e\"], [0.4444444444444444, \"#bd3786\"], [0.5555555555555556, \"#d8576b\"], [0.6666666666666666, \"#ed7953\"], [0.7777777777777778, \"#fb9f3a\"], [0.8888888888888888, \"#fdca26\"], [1.0, \"#f0f921\"]], \"type\": \"heatmapgl\"}], \"histogram\": [{\"marker\": {\"colorbar\": {\"outlinewidth\": 0, \"ticks\": \"\"}}, \"type\": \"histogram\"}], \"histogram2d\": [{\"colorbar\": {\"outlinewidth\": 0, \"ticks\": \"\"}, \"colorscale\": [[0.0, \"#0d0887\"], [0.1111111111111111, \"#46039f\"], [0.2222222222222222, \"#7201a8\"], [0.3333333333333333, \"#9c179e\"], [0.4444444444444444, \"#bd3786\"], [0.5555555555555556, \"#d8576b\"], [0.6666666666666666, \"#ed7953\"], [0.7777777777777778, \"#fb9f3a\"], [0.8888888888888888, \"#fdca26\"], [1.0, \"#f0f921\"]], \"type\": \"histogram2d\"}], \"histogram2dcontour\": [{\"colorbar\": {\"outlinewidth\": 0, \"ticks\": \"\"}, \"colorscale\": [[0.0, \"#0d0887\"], [0.1111111111111111, \"#46039f\"], [0.2222222222222222, \"#7201a8\"], [0.3333333333333333, \"#9c179e\"], [0.4444444444444444, \"#bd3786\"], [0.5555555555555556, \"#d8576b\"], [0.6666666666666666, \"#ed7953\"], [0.7777777777777778, \"#fb9f3a\"], [0.8888888888888888, \"#fdca26\"], [1.0, \"#f0f921\"]], \"type\": \"histogram2dcontour\"}], \"mesh3d\": [{\"colorbar\": {\"outlinewidth\": 0, \"ticks\": \"\"}, \"type\": \"mesh3d\"}], \"parcoords\": [{\"line\": {\"colorbar\": {\"outlinewidth\": 0, \"ticks\": \"\"}}, \"type\": \"parcoords\"}], \"pie\": [{\"automargin\": true, \"type\": \"pie\"}], \"scatter\": [{\"marker\": {\"colorbar\": {\"outlinewidth\": 0, \"ticks\": \"\"}}, \"type\": \"scatter\"}], \"scatter3d\": [{\"line\": {\"colorbar\": {\"outlinewidth\": 0, \"ticks\": \"\"}}, \"marker\": {\"colorbar\": {\"outlinewidth\": 0, \"ticks\": \"\"}}, \"type\": \"scatter3d\"}], \"scattercarpet\": [{\"marker\": {\"colorbar\": {\"outlinewidth\": 0, \"ticks\": \"\"}}, \"type\": \"scattercarpet\"}], \"scattergeo\": [{\"marker\": {\"colorbar\": {\"outlinewidth\": 0, \"ticks\": \"\"}}, \"type\": \"scattergeo\"}], \"scattergl\": [{\"marker\": {\"colorbar\": {\"outlinewidth\": 0, \"ticks\": \"\"}}, \"type\": \"scattergl\"}], \"scattermapbox\": [{\"marker\": {\"colorbar\": {\"outlinewidth\": 0, \"ticks\": \"\"}}, \"type\": \"scattermapbox\"}], \"scatterpolar\": [{\"marker\": {\"colorbar\": {\"outlinewidth\": 0, \"ticks\": \"\"}}, \"type\": \"scatterpolar\"}], \"scatterpolargl\": [{\"marker\": {\"colorbar\": {\"outlinewidth\": 0, \"ticks\": \"\"}}, \"type\": \"scatterpolargl\"}], \"scatterternary\": [{\"marker\": {\"colorbar\": {\"outlinewidth\": 0, \"ticks\": \"\"}}, \"type\": \"scatterternary\"}], \"surface\": [{\"colorbar\": {\"outlinewidth\": 0, \"ticks\": \"\"}, \"colorscale\": [[0.0, \"#0d0887\"], [0.1111111111111111, \"#46039f\"], [0.2222222222222222, \"#7201a8\"], [0.3333333333333333, \"#9c179e\"], [0.4444444444444444, \"#bd3786\"], [0.5555555555555556, \"#d8576b\"], [0.6666666666666666, \"#ed7953\"], [0.7777777777777778, \"#fb9f3a\"], [0.8888888888888888, \"#fdca26\"], [1.0, \"#f0f921\"]], \"type\": \"surface\"}], \"table\": [{\"cells\": {\"fill\": {\"color\": \"#EBF0F8\"}, \"line\": {\"color\": \"white\"}}, \"header\": {\"fill\": {\"color\": \"#C8D4E3\"}, \"line\": {\"color\": \"white\"}}, \"type\": \"table\"}]}, \"layout\": {\"annotationdefaults\": {\"arrowcolor\": \"#2a3f5f\", \"arrowhead\": 0, \"arrowwidth\": 1}, \"coloraxis\": {\"colorbar\": {\"outlinewidth\": 0, \"ticks\": \"\"}}, \"colorscale\": {\"diverging\": [[0, \"#8e0152\"], [0.1, \"#c51b7d\"], [0.2, \"#de77ae\"], [0.3, \"#f1b6da\"], [0.4, \"#fde0ef\"], [0.5, \"#f7f7f7\"], [0.6, \"#e6f5d0\"], [0.7, \"#b8e186\"], [0.8, \"#7fbc41\"], [0.9, \"#4d9221\"], [1, \"#276419\"]], \"sequential\": [[0.0, \"#0d0887\"], [0.1111111111111111, \"#46039f\"], [0.2222222222222222, \"#7201a8\"], [0.3333333333333333, \"#9c179e\"], [0.4444444444444444, \"#bd3786\"], [0.5555555555555556, \"#d8576b\"], [0.6666666666666666, \"#ed7953\"], [0.7777777777777778, \"#fb9f3a\"], [0.8888888888888888, \"#fdca26\"], [1.0, \"#f0f921\"]], \"sequentialminus\": [[0.0, \"#0d0887\"], [0.1111111111111111, \"#46039f\"], [0.2222222222222222, \"#7201a8\"], [0.3333333333333333, \"#9c179e\"], [0.4444444444444444, \"#bd3786\"], [0.5555555555555556, \"#d8576b\"], [0.6666666666666666, \"#ed7953\"], [0.7777777777777778, \"#fb9f3a\"], [0.8888888888888888, \"#fdca26\"], [1.0, \"#f0f921\"]]}, \"colorway\": [\"#636efa\", \"#EF553B\", \"#00cc96\", \"#ab63fa\", \"#FFA15A\", \"#19d3f3\", \"#FF6692\", \"#B6E880\", \"#FF97FF\", \"#FECB52\"], \"font\": {\"color\": \"#2a3f5f\"}, \"geo\": {\"bgcolor\": \"white\", \"lakecolor\": \"white\", \"landcolor\": \"#E5ECF6\", \"showlakes\": true, \"showland\": true, \"subunitcolor\": \"white\"}, \"hoverlabel\": {\"align\": \"left\"}, \"hovermode\": \"closest\", \"mapbox\": {\"style\": \"light\"}, \"paper_bgcolor\": \"white\", \"plot_bgcolor\": \"#E5ECF6\", \"polar\": {\"angularaxis\": {\"gridcolor\": \"white\", \"linecolor\": \"white\", \"ticks\": \"\"}, \"bgcolor\": \"#E5ECF6\", \"radialaxis\": {\"gridcolor\": \"white\", \"linecolor\": \"white\", \"ticks\": \"\"}}, \"scene\": {\"xaxis\": {\"backgroundcolor\": \"#E5ECF6\", \"gridcolor\": \"white\", \"gridwidth\": 2, \"linecolor\": \"white\", \"showbackground\": true, \"ticks\": \"\", \"zerolinecolor\": \"white\"}, \"yaxis\": {\"backgroundcolor\": \"#E5ECF6\", \"gridcolor\": \"white\", \"gridwidth\": 2, \"linecolor\": \"white\", \"showbackground\": true, \"ticks\": \"\", \"zerolinecolor\": \"white\"}, \"zaxis\": {\"backgroundcolor\": \"#E5ECF6\", \"gridcolor\": \"white\", \"gridwidth\": 2, \"linecolor\": \"white\", \"showbackground\": true, \"ticks\": \"\", \"zerolinecolor\": \"white\"}}, \"shapedefaults\": {\"line\": {\"color\": \"#2a3f5f\"}}, \"ternary\": {\"aaxis\": {\"gridcolor\": \"white\", \"linecolor\": \"white\", \"ticks\": \"\"}, \"baxis\": {\"gridcolor\": \"white\", \"linecolor\": \"white\", \"ticks\": \"\"}, \"bgcolor\": \"#E5ECF6\", \"caxis\": {\"gridcolor\": \"white\", \"linecolor\": \"white\", \"ticks\": \"\"}}, \"title\": {\"x\": 0.05}, \"xaxis\": {\"automargin\": true, \"gridcolor\": \"white\", \"linecolor\": \"white\", \"ticks\": \"\", \"title\": {\"standoff\": 15}, \"zerolinecolor\": \"white\", \"zerolinewidth\": 2}, \"yaxis\": {\"automargin\": true, \"gridcolor\": \"white\", \"linecolor\": \"white\", \"ticks\": \"\", \"title\": {\"standoff\": 15}, \"zerolinecolor\": \"white\", \"zerolinewidth\": 2}}}},                        {\"responsive\": true}                    ).then(function(){\n",
       "                            \n",
       "var gd = document.getElementById('10130eb6-4065-494b-88ae-2051d5edcd52');\n",
       "var x = new MutationObserver(function (mutations, observer) {{\n",
       "        var display = window.getComputedStyle(gd).display;\n",
       "        if (!display || display === 'none') {{\n",
       "            console.log([gd, 'removed!']);\n",
       "            Plotly.purge(gd);\n",
       "            observer.disconnect();\n",
       "        }}\n",
       "}});\n",
       "\n",
       "// Listen for the removal of the full notebook cells\n",
       "var notebookContainer = gd.closest('#notebook-container');\n",
       "if (notebookContainer) {{\n",
       "    x.observe(notebookContainer, {childList: true});\n",
       "}}\n",
       "\n",
       "// Listen for the clearing of the current output cell\n",
       "var outputEl = gd.closest('.output');\n",
       "if (outputEl) {{\n",
       "    x.observe(outputEl, {childList: true});\n",
       "}}\n",
       "\n",
       "                        })                };                });            </script>        </div>"
      ]
     },
     "metadata": {},
     "output_type": "display_data"
    }
   ],
   "source": [
    "final_aggregation('user_id').show()"
   ]
  },
  {
   "cell_type": "markdown",
   "metadata": {},
   "source": [
    "## Prototyping\n",
    "Following code is for testing purposes"
   ]
  },
  {
   "cell_type": "markdown",
   "metadata": {},
   "source": [
    "### Graph variations\n",
    "\n",
    "\n",
    "\n",
    "<br>"
   ]
  },
  {
   "cell_type": "code",
   "execution_count": 75,
   "metadata": {
    "scrolled": false
   },
   "outputs": [
    {
     "data": {
      "application/vnd.plotly.v1+json": {
       "config": {
        "plotlyServerURL": "https://plot.ly"
       },
       "data": [
        {
         "hovertemplate": "section=1. Kas ir mediji, ko no tiem sagaidīt<br>p-p=%{x}<br>n-p=%{y}<br>x-n=%{z}<extra></extra>",
         "legendgroup": "1. Kas ir mediji, ko no tiem sagaidīt",
         "marker": {
          "color": "#F8766D",
          "symbol": "circle"
         },
         "mode": "markers",
         "name": "1. Kas ir mediji, ko no tiem sagaidīt",
         "scene": "scene",
         "showlegend": true,
         "type": "scatter3d",
         "x": [
          0.6233766233766234
         ],
         "y": [
          0.1038961038961039
         ],
         "z": [
          0.2727272727272727
         ]
        },
        {
         "hovertemplate": "section=2. Pierādījumu veidi<br>p-p=%{x}<br>n-p=%{y}<br>x-n=%{z}<extra></extra>",
         "legendgroup": "2. Pierādījumu veidi",
         "marker": {
          "color": "#A3A500",
          "symbol": "circle"
         },
         "mode": "markers",
         "name": "2. Pierādījumu veidi",
         "scene": "scene",
         "showlegend": true,
         "type": "scatter3d",
         "x": [
          0.8055555555555556
         ],
         "y": [
          0.08333333333333333
         ],
         "z": [
          0.1111111111111111
         ]
        },
        {
         "hovertemplate": "section=3. Viltus ziņas<br>p-p=%{x}<br>n-p=%{y}<br>x-n=%{z}<extra></extra>",
         "legendgroup": "3. Viltus ziņas",
         "marker": {
          "color": "#00BF7D",
          "symbol": "circle"
         },
         "mode": "markers",
         "name": "3. Viltus ziņas",
         "scene": "scene",
         "showlegend": true,
         "type": "scatter3d",
         "x": [
          0.5
         ],
         "y": [
          0.125
         ],
         "z": [
          0.375
         ]
        },
        {
         "hovertemplate": "section=4. Ievads loģikas kļūdās<br>p-p=%{x}<br>n-p=%{y}<br>x-n=%{z}<extra></extra>",
         "legendgroup": "4. Ievads loģikas kļūdās",
         "marker": {
          "color": "#00B0F6",
          "symbol": "circle"
         },
         "mode": "markers",
         "name": "4. Ievads loģikas kļūdās",
         "scene": "scene",
         "showlegend": true,
         "type": "scatter3d",
         "x": [
          0.8333333333333334
         ],
         "y": [
          0.16666666666666666
         ],
         "z": [
          0
         ]
        },
        {
         "hovertemplate": "section=5. Loģikas kļūdas: slidenā nogāze un melnbaltā domāšana<br>p-p=%{x}<br>n-p=%{y}<br>x-n=%{z}<extra></extra>",
         "legendgroup": "5. Loģikas kļūdas: slidenā nogāze un melnbaltā domāšana",
         "marker": {
          "color": "#E76BF3",
          "symbol": "circle"
         },
         "mode": "markers",
         "name": "5. Loģikas kļūdas: slidenā nogāze un melnbaltā domāšana",
         "scene": "scene",
         "showlegend": true,
         "type": "scatter3d",
         "x": [
          0.6
         ],
         "y": [
          0
         ],
         "z": [
          0.4
         ]
        },
        {
         "hovertemplate": "section=6. Loģikas kļūdas: nepatiesais cēlonis un atsaukšanās uz tradīciju<br>p-p=%{x}<br>n-p=%{y}<br>x-n=%{z}<extra></extra>",
         "legendgroup": "6. Loģikas kļūdas: nepatiesais cēlonis un atsaukšanās uz tradīciju",
         "marker": {
          "color": "#F8766D",
          "symbol": "circle"
         },
         "mode": "markers",
         "name": "6. Loģikas kļūdas: nepatiesais cēlonis un atsaukšanās uz tradīciju",
         "scene": "scene",
         "showlegend": true,
         "type": "scatter3d",
         "x": [
          0.5
         ],
         "y": [
          0.16666666666666666
         ],
         "z": [
          0.3333333333333333
         ]
        }
       ],
       "layout": {
        "font": {
         "color": "RebeccaPurple",
         "family": "Courier New, monospace",
         "size": 14
        },
        "height": 900,
        "legend": {
         "title": {
          "text": "section"
         },
         "tracegroupgap": 0
        },
        "margin": {
         "b": 100,
         "l": 10,
         "r": 10,
         "t": 50
        },
        "scene": {
         "domain": {
          "x": [
           0,
           1
          ],
          "y": [
           0,
           1
          ]
         },
         "xaxis": {
          "backgroundcolor": "rgb(200, 200, 230)",
          "gridcolor": "white",
          "nticks": 6,
          "range": [
           0,
           1
          ],
          "showbackground": true,
          "ticks": "outside",
          "title": {
           "text": "P-P"
          },
          "zerolinecolor": "white"
         },
         "yaxis": {
          "backgroundcolor": "rgb(230, 200,230)",
          "gridcolor": "white",
          "nticks": 6,
          "range": [
           0,
           1
          ],
          "showbackground": true,
          "ticks": "outside",
          "title": {
           "text": "N-P"
          },
          "zerolinecolor": "white"
         },
         "zaxis": {
          "backgroundcolor": "rgb(230, 230,200)",
          "gridcolor": "white",
          "nticks": 6,
          "range": [
           0,
           1
          ],
          "showbackground": true,
          "ticks": "outside",
          "title": {
           "text": "X-N"
          },
          "zerolinecolor": "white"
         }
        },
        "template": {
         "data": {
          "bar": [
           {
            "error_x": {
             "color": "rgb(51,51,51)"
            },
            "error_y": {
             "color": "rgb(51,51,51)"
            },
            "marker": {
             "line": {
              "color": "rgb(237,237,237)",
              "width": 0.5
             }
            },
            "type": "bar"
           }
          ],
          "barpolar": [
           {
            "marker": {
             "line": {
              "color": "rgb(237,237,237)",
              "width": 0.5
             }
            },
            "type": "barpolar"
           }
          ],
          "carpet": [
           {
            "aaxis": {
             "endlinecolor": "rgb(51,51,51)",
             "gridcolor": "white",
             "linecolor": "white",
             "minorgridcolor": "white",
             "startlinecolor": "rgb(51,51,51)"
            },
            "baxis": {
             "endlinecolor": "rgb(51,51,51)",
             "gridcolor": "white",
             "linecolor": "white",
             "minorgridcolor": "white",
             "startlinecolor": "rgb(51,51,51)"
            },
            "type": "carpet"
           }
          ],
          "choropleth": [
           {
            "colorbar": {
             "outlinewidth": 0,
             "tickcolor": "rgb(237,237,237)",
             "ticklen": 6,
             "ticks": "inside"
            },
            "type": "choropleth"
           }
          ],
          "contour": [
           {
            "colorbar": {
             "outlinewidth": 0,
             "tickcolor": "rgb(237,237,237)",
             "ticklen": 6,
             "ticks": "inside"
            },
            "colorscale": [
             [
              0,
              "rgb(20,44,66)"
             ],
             [
              1,
              "rgb(90,179,244)"
             ]
            ],
            "type": "contour"
           }
          ],
          "contourcarpet": [
           {
            "colorbar": {
             "outlinewidth": 0,
             "tickcolor": "rgb(237,237,237)",
             "ticklen": 6,
             "ticks": "inside"
            },
            "type": "contourcarpet"
           }
          ],
          "heatmap": [
           {
            "colorbar": {
             "outlinewidth": 0,
             "tickcolor": "rgb(237,237,237)",
             "ticklen": 6,
             "ticks": "inside"
            },
            "colorscale": [
             [
              0,
              "rgb(20,44,66)"
             ],
             [
              1,
              "rgb(90,179,244)"
             ]
            ],
            "type": "heatmap"
           }
          ],
          "heatmapgl": [
           {
            "colorbar": {
             "outlinewidth": 0,
             "tickcolor": "rgb(237,237,237)",
             "ticklen": 6,
             "ticks": "inside"
            },
            "colorscale": [
             [
              0,
              "rgb(20,44,66)"
             ],
             [
              1,
              "rgb(90,179,244)"
             ]
            ],
            "type": "heatmapgl"
           }
          ],
          "histogram": [
           {
            "marker": {
             "colorbar": {
              "outlinewidth": 0,
              "tickcolor": "rgb(237,237,237)",
              "ticklen": 6,
              "ticks": "inside"
             }
            },
            "type": "histogram"
           }
          ],
          "histogram2d": [
           {
            "colorbar": {
             "outlinewidth": 0,
             "tickcolor": "rgb(237,237,237)",
             "ticklen": 6,
             "ticks": "inside"
            },
            "colorscale": [
             [
              0,
              "rgb(20,44,66)"
             ],
             [
              1,
              "rgb(90,179,244)"
             ]
            ],
            "type": "histogram2d"
           }
          ],
          "histogram2dcontour": [
           {
            "colorbar": {
             "outlinewidth": 0,
             "tickcolor": "rgb(237,237,237)",
             "ticklen": 6,
             "ticks": "inside"
            },
            "colorscale": [
             [
              0,
              "rgb(20,44,66)"
             ],
             [
              1,
              "rgb(90,179,244)"
             ]
            ],
            "type": "histogram2dcontour"
           }
          ],
          "mesh3d": [
           {
            "colorbar": {
             "outlinewidth": 0,
             "tickcolor": "rgb(237,237,237)",
             "ticklen": 6,
             "ticks": "inside"
            },
            "type": "mesh3d"
           }
          ],
          "parcoords": [
           {
            "line": {
             "colorbar": {
              "outlinewidth": 0,
              "tickcolor": "rgb(237,237,237)",
              "ticklen": 6,
              "ticks": "inside"
             }
            },
            "type": "parcoords"
           }
          ],
          "pie": [
           {
            "automargin": true,
            "type": "pie"
           }
          ],
          "scatter": [
           {
            "marker": {
             "colorbar": {
              "outlinewidth": 0,
              "tickcolor": "rgb(237,237,237)",
              "ticklen": 6,
              "ticks": "inside"
             }
            },
            "type": "scatter"
           }
          ],
          "scatter3d": [
           {
            "line": {
             "colorbar": {
              "outlinewidth": 0,
              "tickcolor": "rgb(237,237,237)",
              "ticklen": 6,
              "ticks": "inside"
             }
            },
            "marker": {
             "colorbar": {
              "outlinewidth": 0,
              "tickcolor": "rgb(237,237,237)",
              "ticklen": 6,
              "ticks": "inside"
             }
            },
            "type": "scatter3d"
           }
          ],
          "scattercarpet": [
           {
            "marker": {
             "colorbar": {
              "outlinewidth": 0,
              "tickcolor": "rgb(237,237,237)",
              "ticklen": 6,
              "ticks": "inside"
             }
            },
            "type": "scattercarpet"
           }
          ],
          "scattergeo": [
           {
            "marker": {
             "colorbar": {
              "outlinewidth": 0,
              "tickcolor": "rgb(237,237,237)",
              "ticklen": 6,
              "ticks": "inside"
             }
            },
            "type": "scattergeo"
           }
          ],
          "scattergl": [
           {
            "marker": {
             "colorbar": {
              "outlinewidth": 0,
              "tickcolor": "rgb(237,237,237)",
              "ticklen": 6,
              "ticks": "inside"
             }
            },
            "type": "scattergl"
           }
          ],
          "scattermapbox": [
           {
            "marker": {
             "colorbar": {
              "outlinewidth": 0,
              "tickcolor": "rgb(237,237,237)",
              "ticklen": 6,
              "ticks": "inside"
             }
            },
            "type": "scattermapbox"
           }
          ],
          "scatterpolar": [
           {
            "marker": {
             "colorbar": {
              "outlinewidth": 0,
              "tickcolor": "rgb(237,237,237)",
              "ticklen": 6,
              "ticks": "inside"
             }
            },
            "type": "scatterpolar"
           }
          ],
          "scatterpolargl": [
           {
            "marker": {
             "colorbar": {
              "outlinewidth": 0,
              "tickcolor": "rgb(237,237,237)",
              "ticklen": 6,
              "ticks": "inside"
             }
            },
            "type": "scatterpolargl"
           }
          ],
          "scatterternary": [
           {
            "marker": {
             "colorbar": {
              "outlinewidth": 0,
              "tickcolor": "rgb(237,237,237)",
              "ticklen": 6,
              "ticks": "inside"
             }
            },
            "type": "scatterternary"
           }
          ],
          "surface": [
           {
            "colorbar": {
             "outlinewidth": 0,
             "tickcolor": "rgb(237,237,237)",
             "ticklen": 6,
             "ticks": "inside"
            },
            "colorscale": [
             [
              0,
              "rgb(20,44,66)"
             ],
             [
              1,
              "rgb(90,179,244)"
             ]
            ],
            "type": "surface"
           }
          ],
          "table": [
           {
            "cells": {
             "fill": {
              "color": "rgb(237,237,237)"
             },
             "line": {
              "color": "white"
             }
            },
            "header": {
             "fill": {
              "color": "rgb(217,217,217)"
             },
             "line": {
              "color": "white"
             }
            },
            "type": "table"
           }
          ]
         },
         "layout": {
          "annotationdefaults": {
           "arrowhead": 0,
           "arrowwidth": 1
          },
          "coloraxis": {
           "colorbar": {
            "outlinewidth": 0,
            "tickcolor": "rgb(237,237,237)",
            "ticklen": 6,
            "ticks": "inside"
           }
          },
          "colorscale": {
           "sequential": [
            [
             0,
             "rgb(20,44,66)"
            ],
            [
             1,
             "rgb(90,179,244)"
            ]
           ],
           "sequentialminus": [
            [
             0,
             "rgb(20,44,66)"
            ],
            [
             1,
             "rgb(90,179,244)"
            ]
           ]
          },
          "colorway": [
           "#F8766D",
           "#A3A500",
           "#00BF7D",
           "#00B0F6",
           "#E76BF3"
          ],
          "font": {
           "color": "rgb(51,51,51)"
          },
          "geo": {
           "bgcolor": "white",
           "lakecolor": "white",
           "landcolor": "rgb(237,237,237)",
           "showlakes": true,
           "showland": true,
           "subunitcolor": "white"
          },
          "hoverlabel": {
           "align": "left"
          },
          "hovermode": "closest",
          "paper_bgcolor": "white",
          "plot_bgcolor": "rgb(237,237,237)",
          "polar": {
           "angularaxis": {
            "gridcolor": "white",
            "linecolor": "white",
            "showgrid": true,
            "tickcolor": "rgb(51,51,51)",
            "ticks": "outside"
           },
           "bgcolor": "rgb(237,237,237)",
           "radialaxis": {
            "gridcolor": "white",
            "linecolor": "white",
            "showgrid": true,
            "tickcolor": "rgb(51,51,51)",
            "ticks": "outside"
           }
          },
          "scene": {
           "xaxis": {
            "backgroundcolor": "rgb(237,237,237)",
            "gridcolor": "white",
            "gridwidth": 2,
            "linecolor": "white",
            "showbackground": true,
            "showgrid": true,
            "tickcolor": "rgb(51,51,51)",
            "ticks": "outside",
            "zerolinecolor": "white"
           },
           "yaxis": {
            "backgroundcolor": "rgb(237,237,237)",
            "gridcolor": "white",
            "gridwidth": 2,
            "linecolor": "white",
            "showbackground": true,
            "showgrid": true,
            "tickcolor": "rgb(51,51,51)",
            "ticks": "outside",
            "zerolinecolor": "white"
           },
           "zaxis": {
            "backgroundcolor": "rgb(237,237,237)",
            "gridcolor": "white",
            "gridwidth": 2,
            "linecolor": "white",
            "showbackground": true,
            "showgrid": true,
            "tickcolor": "rgb(51,51,51)",
            "ticks": "outside",
            "zerolinecolor": "white"
           }
          },
          "shapedefaults": {
           "fillcolor": "black",
           "line": {
            "width": 0
           },
           "opacity": 0.3
          },
          "ternary": {
           "aaxis": {
            "gridcolor": "white",
            "linecolor": "white",
            "showgrid": true,
            "tickcolor": "rgb(51,51,51)",
            "ticks": "outside"
           },
           "baxis": {
            "gridcolor": "white",
            "linecolor": "white",
            "showgrid": true,
            "tickcolor": "rgb(51,51,51)",
            "ticks": "outside"
           },
           "bgcolor": "rgb(237,237,237)",
           "caxis": {
            "gridcolor": "white",
            "linecolor": "white",
            "showgrid": true,
            "tickcolor": "rgb(51,51,51)",
            "ticks": "outside"
           }
          },
          "xaxis": {
           "automargin": true,
           "gridcolor": "white",
           "linecolor": "white",
           "showgrid": true,
           "tickcolor": "rgb(51,51,51)",
           "ticks": "outside",
           "title": {
            "standoff": 15
           },
           "zerolinecolor": "white"
          },
          "yaxis": {
           "automargin": true,
           "gridcolor": "white",
           "linecolor": "white",
           "showgrid": true,
           "tickcolor": "rgb(51,51,51)",
           "ticks": "outside",
           "title": {
            "standoff": 15
           },
           "zerolinecolor": "white"
          }
         }
        },
        "title": {
         "text": "Telecīdas"
        },
        "width": 900
       }
      },
      "text/html": [
       "<div>                            <div id=\"01353c70-1741-4200-9b33-7a8890243d30\" class=\"plotly-graph-div\" style=\"height:900px; width:900px;\"></div>            <script type=\"text/javascript\">                require([\"plotly\"], function(Plotly) {                    window.PLOTLYENV=window.PLOTLYENV || {};                                    if (document.getElementById(\"01353c70-1741-4200-9b33-7a8890243d30\")) {                    Plotly.newPlot(                        \"01353c70-1741-4200-9b33-7a8890243d30\",                        [{\"hovertemplate\": \"section=1. Kas ir mediji, ko no tiem sagaid\\u012bt<br>p-p=%{x}<br>n-p=%{y}<br>x-n=%{z}<extra></extra>\", \"legendgroup\": \"1. Kas ir mediji, ko no tiem sagaid\\u012bt\", \"marker\": {\"color\": \"#F8766D\", \"symbol\": \"circle\"}, \"mode\": \"markers\", \"name\": \"1. Kas ir mediji, ko no tiem sagaid\\u012bt\", \"scene\": \"scene\", \"showlegend\": true, \"type\": \"scatter3d\", \"x\": [0.6233766233766234], \"y\": [0.1038961038961039], \"z\": [0.2727272727272727]}, {\"hovertemplate\": \"section=2. Pier\\u0101d\\u012bjumu veidi<br>p-p=%{x}<br>n-p=%{y}<br>x-n=%{z}<extra></extra>\", \"legendgroup\": \"2. Pier\\u0101d\\u012bjumu veidi\", \"marker\": {\"color\": \"#A3A500\", \"symbol\": \"circle\"}, \"mode\": \"markers\", \"name\": \"2. Pier\\u0101d\\u012bjumu veidi\", \"scene\": \"scene\", \"showlegend\": true, \"type\": \"scatter3d\", \"x\": [0.8055555555555556], \"y\": [0.08333333333333333], \"z\": [0.1111111111111111]}, {\"hovertemplate\": \"section=3. Viltus zi\\u0146as<br>p-p=%{x}<br>n-p=%{y}<br>x-n=%{z}<extra></extra>\", \"legendgroup\": \"3. Viltus zi\\u0146as\", \"marker\": {\"color\": \"#00BF7D\", \"symbol\": \"circle\"}, \"mode\": \"markers\", \"name\": \"3. Viltus zi\\u0146as\", \"scene\": \"scene\", \"showlegend\": true, \"type\": \"scatter3d\", \"x\": [0.5], \"y\": [0.125], \"z\": [0.375]}, {\"hovertemplate\": \"section=4. Ievads lo\\u0123ikas k\\u013c\\u016bd\\u0101s<br>p-p=%{x}<br>n-p=%{y}<br>x-n=%{z}<extra></extra>\", \"legendgroup\": \"4. Ievads lo\\u0123ikas k\\u013c\\u016bd\\u0101s\", \"marker\": {\"color\": \"#00B0F6\", \"symbol\": \"circle\"}, \"mode\": \"markers\", \"name\": \"4. Ievads lo\\u0123ikas k\\u013c\\u016bd\\u0101s\", \"scene\": \"scene\", \"showlegend\": true, \"type\": \"scatter3d\", \"x\": [0.8333333333333334], \"y\": [0.16666666666666666], \"z\": [0.0]}, {\"hovertemplate\": \"section=5. Lo\\u0123ikas k\\u013c\\u016bdas: sliden\\u0101 nog\\u0101ze un melnbalt\\u0101 dom\\u0101\\u0161ana<br>p-p=%{x}<br>n-p=%{y}<br>x-n=%{z}<extra></extra>\", \"legendgroup\": \"5. Lo\\u0123ikas k\\u013c\\u016bdas: sliden\\u0101 nog\\u0101ze un melnbalt\\u0101 dom\\u0101\\u0161ana\", \"marker\": {\"color\": \"#E76BF3\", \"symbol\": \"circle\"}, \"mode\": \"markers\", \"name\": \"5. Lo\\u0123ikas k\\u013c\\u016bdas: sliden\\u0101 nog\\u0101ze un melnbalt\\u0101 dom\\u0101\\u0161ana\", \"scene\": \"scene\", \"showlegend\": true, \"type\": \"scatter3d\", \"x\": [0.6], \"y\": [0.0], \"z\": [0.4]}, {\"hovertemplate\": \"section=6. Lo\\u0123ikas k\\u013c\\u016bdas: nepatiesais c\\u0113lonis un atsauk\\u0161an\\u0101s uz trad\\u012bciju<br>p-p=%{x}<br>n-p=%{y}<br>x-n=%{z}<extra></extra>\", \"legendgroup\": \"6. Lo\\u0123ikas k\\u013c\\u016bdas: nepatiesais c\\u0113lonis un atsauk\\u0161an\\u0101s uz trad\\u012bciju\", \"marker\": {\"color\": \"#F8766D\", \"symbol\": \"circle\"}, \"mode\": \"markers\", \"name\": \"6. Lo\\u0123ikas k\\u013c\\u016bdas: nepatiesais c\\u0113lonis un atsauk\\u0161an\\u0101s uz trad\\u012bciju\", \"scene\": \"scene\", \"showlegend\": true, \"type\": \"scatter3d\", \"x\": [0.5], \"y\": [0.16666666666666666], \"z\": [0.3333333333333333]}],                        {\"font\": {\"color\": \"RebeccaPurple\", \"family\": \"Courier New, monospace\", \"size\": 14}, \"height\": 900, \"legend\": {\"title\": {\"text\": \"section\"}, \"tracegroupgap\": 0}, \"margin\": {\"b\": 100, \"l\": 10, \"r\": 10, \"t\": 50}, \"scene\": {\"domain\": {\"x\": [0.0, 1.0], \"y\": [0.0, 1.0]}, \"xaxis\": {\"backgroundcolor\": \"rgb(200, 200, 230)\", \"gridcolor\": \"white\", \"nticks\": 6, \"range\": [0, 1], \"showbackground\": true, \"ticks\": \"outside\", \"title\": {\"text\": \"P-P\"}, \"zerolinecolor\": \"white\"}, \"yaxis\": {\"backgroundcolor\": \"rgb(230, 200,230)\", \"gridcolor\": \"white\", \"nticks\": 6, \"range\": [0, 1], \"showbackground\": true, \"ticks\": \"outside\", \"title\": {\"text\": \"N-P\"}, \"zerolinecolor\": \"white\"}, \"zaxis\": {\"backgroundcolor\": \"rgb(230, 230,200)\", \"gridcolor\": \"white\", \"nticks\": 6, \"range\": [0, 1], \"showbackground\": true, \"ticks\": \"outside\", \"title\": {\"text\": \"X-N\"}, \"zerolinecolor\": \"white\"}}, \"template\": {\"data\": {\"bar\": [{\"error_x\": {\"color\": \"rgb(51,51,51)\"}, \"error_y\": {\"color\": \"rgb(51,51,51)\"}, \"marker\": {\"line\": {\"color\": \"rgb(237,237,237)\", \"width\": 0.5}}, \"type\": \"bar\"}], \"barpolar\": [{\"marker\": {\"line\": {\"color\": \"rgb(237,237,237)\", \"width\": 0.5}}, \"type\": \"barpolar\"}], \"carpet\": [{\"aaxis\": {\"endlinecolor\": \"rgb(51,51,51)\", \"gridcolor\": \"white\", \"linecolor\": \"white\", \"minorgridcolor\": \"white\", \"startlinecolor\": \"rgb(51,51,51)\"}, \"baxis\": {\"endlinecolor\": \"rgb(51,51,51)\", \"gridcolor\": \"white\", \"linecolor\": \"white\", \"minorgridcolor\": \"white\", \"startlinecolor\": \"rgb(51,51,51)\"}, \"type\": \"carpet\"}], \"choropleth\": [{\"colorbar\": {\"outlinewidth\": 0, \"tickcolor\": \"rgb(237,237,237)\", \"ticklen\": 6, \"ticks\": \"inside\"}, \"type\": \"choropleth\"}], \"contour\": [{\"colorbar\": {\"outlinewidth\": 0, \"tickcolor\": \"rgb(237,237,237)\", \"ticklen\": 6, \"ticks\": \"inside\"}, \"colorscale\": [[0, \"rgb(20,44,66)\"], [1, \"rgb(90,179,244)\"]], \"type\": \"contour\"}], \"contourcarpet\": [{\"colorbar\": {\"outlinewidth\": 0, \"tickcolor\": \"rgb(237,237,237)\", \"ticklen\": 6, \"ticks\": \"inside\"}, \"type\": \"contourcarpet\"}], \"heatmap\": [{\"colorbar\": {\"outlinewidth\": 0, \"tickcolor\": \"rgb(237,237,237)\", \"ticklen\": 6, \"ticks\": \"inside\"}, \"colorscale\": [[0, \"rgb(20,44,66)\"], [1, \"rgb(90,179,244)\"]], \"type\": \"heatmap\"}], \"heatmapgl\": [{\"colorbar\": {\"outlinewidth\": 0, \"tickcolor\": \"rgb(237,237,237)\", \"ticklen\": 6, \"ticks\": \"inside\"}, \"colorscale\": [[0, \"rgb(20,44,66)\"], [1, \"rgb(90,179,244)\"]], \"type\": \"heatmapgl\"}], \"histogram\": [{\"marker\": {\"colorbar\": {\"outlinewidth\": 0, \"tickcolor\": \"rgb(237,237,237)\", \"ticklen\": 6, \"ticks\": \"inside\"}}, \"type\": \"histogram\"}], \"histogram2d\": [{\"colorbar\": {\"outlinewidth\": 0, \"tickcolor\": \"rgb(237,237,237)\", \"ticklen\": 6, \"ticks\": \"inside\"}, \"colorscale\": [[0, \"rgb(20,44,66)\"], [1, \"rgb(90,179,244)\"]], \"type\": \"histogram2d\"}], \"histogram2dcontour\": [{\"colorbar\": {\"outlinewidth\": 0, \"tickcolor\": \"rgb(237,237,237)\", \"ticklen\": 6, \"ticks\": \"inside\"}, \"colorscale\": [[0, \"rgb(20,44,66)\"], [1, \"rgb(90,179,244)\"]], \"type\": \"histogram2dcontour\"}], \"mesh3d\": [{\"colorbar\": {\"outlinewidth\": 0, \"tickcolor\": \"rgb(237,237,237)\", \"ticklen\": 6, \"ticks\": \"inside\"}, \"type\": \"mesh3d\"}], \"parcoords\": [{\"line\": {\"colorbar\": {\"outlinewidth\": 0, \"tickcolor\": \"rgb(237,237,237)\", \"ticklen\": 6, \"ticks\": \"inside\"}}, \"type\": \"parcoords\"}], \"pie\": [{\"automargin\": true, \"type\": \"pie\"}], \"scatter\": [{\"marker\": {\"colorbar\": {\"outlinewidth\": 0, \"tickcolor\": \"rgb(237,237,237)\", \"ticklen\": 6, \"ticks\": \"inside\"}}, \"type\": \"scatter\"}], \"scatter3d\": [{\"line\": {\"colorbar\": {\"outlinewidth\": 0, \"tickcolor\": \"rgb(237,237,237)\", \"ticklen\": 6, \"ticks\": \"inside\"}}, \"marker\": {\"colorbar\": {\"outlinewidth\": 0, \"tickcolor\": \"rgb(237,237,237)\", \"ticklen\": 6, \"ticks\": \"inside\"}}, \"type\": \"scatter3d\"}], \"scattercarpet\": [{\"marker\": {\"colorbar\": {\"outlinewidth\": 0, \"tickcolor\": \"rgb(237,237,237)\", \"ticklen\": 6, \"ticks\": \"inside\"}}, \"type\": \"scattercarpet\"}], \"scattergeo\": [{\"marker\": {\"colorbar\": {\"outlinewidth\": 0, \"tickcolor\": \"rgb(237,237,237)\", \"ticklen\": 6, \"ticks\": \"inside\"}}, \"type\": \"scattergeo\"}], \"scattergl\": [{\"marker\": {\"colorbar\": {\"outlinewidth\": 0, \"tickcolor\": \"rgb(237,237,237)\", \"ticklen\": 6, \"ticks\": \"inside\"}}, \"type\": \"scattergl\"}], \"scattermapbox\": [{\"marker\": {\"colorbar\": {\"outlinewidth\": 0, \"tickcolor\": \"rgb(237,237,237)\", \"ticklen\": 6, \"ticks\": \"inside\"}}, \"type\": \"scattermapbox\"}], \"scatterpolar\": [{\"marker\": {\"colorbar\": {\"outlinewidth\": 0, \"tickcolor\": \"rgb(237,237,237)\", \"ticklen\": 6, \"ticks\": \"inside\"}}, \"type\": \"scatterpolar\"}], \"scatterpolargl\": [{\"marker\": {\"colorbar\": {\"outlinewidth\": 0, \"tickcolor\": \"rgb(237,237,237)\", \"ticklen\": 6, \"ticks\": \"inside\"}}, \"type\": \"scatterpolargl\"}], \"scatterternary\": [{\"marker\": {\"colorbar\": {\"outlinewidth\": 0, \"tickcolor\": \"rgb(237,237,237)\", \"ticklen\": 6, \"ticks\": \"inside\"}}, \"type\": \"scatterternary\"}], \"surface\": [{\"colorbar\": {\"outlinewidth\": 0, \"tickcolor\": \"rgb(237,237,237)\", \"ticklen\": 6, \"ticks\": \"inside\"}, \"colorscale\": [[0, \"rgb(20,44,66)\"], [1, \"rgb(90,179,244)\"]], \"type\": \"surface\"}], \"table\": [{\"cells\": {\"fill\": {\"color\": \"rgb(237,237,237)\"}, \"line\": {\"color\": \"white\"}}, \"header\": {\"fill\": {\"color\": \"rgb(217,217,217)\"}, \"line\": {\"color\": \"white\"}}, \"type\": \"table\"}]}, \"layout\": {\"annotationdefaults\": {\"arrowhead\": 0, \"arrowwidth\": 1}, \"coloraxis\": {\"colorbar\": {\"outlinewidth\": 0, \"tickcolor\": \"rgb(237,237,237)\", \"ticklen\": 6, \"ticks\": \"inside\"}}, \"colorscale\": {\"sequential\": [[0, \"rgb(20,44,66)\"], [1, \"rgb(90,179,244)\"]], \"sequentialminus\": [[0, \"rgb(20,44,66)\"], [1, \"rgb(90,179,244)\"]]}, \"colorway\": [\"#F8766D\", \"#A3A500\", \"#00BF7D\", \"#00B0F6\", \"#E76BF3\"], \"font\": {\"color\": \"rgb(51,51,51)\"}, \"geo\": {\"bgcolor\": \"white\", \"lakecolor\": \"white\", \"landcolor\": \"rgb(237,237,237)\", \"showlakes\": true, \"showland\": true, \"subunitcolor\": \"white\"}, \"hoverlabel\": {\"align\": \"left\"}, \"hovermode\": \"closest\", \"paper_bgcolor\": \"white\", \"plot_bgcolor\": \"rgb(237,237,237)\", \"polar\": {\"angularaxis\": {\"gridcolor\": \"white\", \"linecolor\": \"white\", \"showgrid\": true, \"tickcolor\": \"rgb(51,51,51)\", \"ticks\": \"outside\"}, \"bgcolor\": \"rgb(237,237,237)\", \"radialaxis\": {\"gridcolor\": \"white\", \"linecolor\": \"white\", \"showgrid\": true, \"tickcolor\": \"rgb(51,51,51)\", \"ticks\": \"outside\"}}, \"scene\": {\"xaxis\": {\"backgroundcolor\": \"rgb(237,237,237)\", \"gridcolor\": \"white\", \"gridwidth\": 2, \"linecolor\": \"white\", \"showbackground\": true, \"showgrid\": true, \"tickcolor\": \"rgb(51,51,51)\", \"ticks\": \"outside\", \"zerolinecolor\": \"white\"}, \"yaxis\": {\"backgroundcolor\": \"rgb(237,237,237)\", \"gridcolor\": \"white\", \"gridwidth\": 2, \"linecolor\": \"white\", \"showbackground\": true, \"showgrid\": true, \"tickcolor\": \"rgb(51,51,51)\", \"ticks\": \"outside\", \"zerolinecolor\": \"white\"}, \"zaxis\": {\"backgroundcolor\": \"rgb(237,237,237)\", \"gridcolor\": \"white\", \"gridwidth\": 2, \"linecolor\": \"white\", \"showbackground\": true, \"showgrid\": true, \"tickcolor\": \"rgb(51,51,51)\", \"ticks\": \"outside\", \"zerolinecolor\": \"white\"}}, \"shapedefaults\": {\"fillcolor\": \"black\", \"line\": {\"width\": 0}, \"opacity\": 0.3}, \"ternary\": {\"aaxis\": {\"gridcolor\": \"white\", \"linecolor\": \"white\", \"showgrid\": true, \"tickcolor\": \"rgb(51,51,51)\", \"ticks\": \"outside\"}, \"baxis\": {\"gridcolor\": \"white\", \"linecolor\": \"white\", \"showgrid\": true, \"tickcolor\": \"rgb(51,51,51)\", \"ticks\": \"outside\"}, \"bgcolor\": \"rgb(237,237,237)\", \"caxis\": {\"gridcolor\": \"white\", \"linecolor\": \"white\", \"showgrid\": true, \"tickcolor\": \"rgb(51,51,51)\", \"ticks\": \"outside\"}}, \"xaxis\": {\"automargin\": true, \"gridcolor\": \"white\", \"linecolor\": \"white\", \"showgrid\": true, \"tickcolor\": \"rgb(51,51,51)\", \"ticks\": \"outside\", \"title\": {\"standoff\": 15}, \"zerolinecolor\": \"white\"}, \"yaxis\": {\"automargin\": true, \"gridcolor\": \"white\", \"linecolor\": \"white\", \"showgrid\": true, \"tickcolor\": \"rgb(51,51,51)\", \"ticks\": \"outside\", \"title\": {\"standoff\": 15}, \"zerolinecolor\": \"white\"}}}, \"title\": {\"text\": \"Telec\\u012bdas\"}, \"width\": 900},                        {\"responsive\": true}                    ).then(function(){\n",
       "                            \n",
       "var gd = document.getElementById('01353c70-1741-4200-9b33-7a8890243d30');\n",
       "var x = new MutationObserver(function (mutations, observer) {{\n",
       "        var display = window.getComputedStyle(gd).display;\n",
       "        if (!display || display === 'none') {{\n",
       "            console.log([gd, 'removed!']);\n",
       "            Plotly.purge(gd);\n",
       "            observer.disconnect();\n",
       "        }}\n",
       "}});\n",
       "\n",
       "// Listen for the removal of the full notebook cells\n",
       "var notebookContainer = gd.closest('#notebook-container');\n",
       "if (notebookContainer) {{\n",
       "    x.observe(notebookContainer, {childList: true});\n",
       "}}\n",
       "\n",
       "// Listen for the clearing of the current output cell\n",
       "var outputEl = gd.closest('.output');\n",
       "if (outputEl) {{\n",
       "    x.observe(outputEl, {childList: true});\n",
       "}}\n",
       "\n",
       "                        })                };                });            </script>        </div>"
      ]
     },
     "metadata": {},
     "output_type": "display_data"
    }
   ],
   "source": [
    "# Update graph\n",
    "# https://plotly.com/python/styling-plotly-express/\n",
    "\n",
    "fig = px.scatter_3d(telecides, x='p-p', y='n-p', z='x-n', color=telecides.index,\n",
    "                   template='ggplot2',\n",
    "                   labels={'color':'Unit '}\n",
    "                   )\n",
    "fig.update_layout(title_text='Telecīdas',\n",
    "            scene = dict(\n",
    "                xaxis_title=\"P-P\",\n",
    "                yaxis_title=\"N-P\",\n",
    "                zaxis_title=\"X-N\",\n",
    "                xaxis = dict(\n",
    "                     nticks=6, ticks='outside',\n",
    "                     range=[0, 1],\n",
    "                     backgroundcolor=\"rgb(200, 200, 230)\",\n",
    "                     gridcolor=\"white\",\n",
    "                     showbackground=True,\n",
    "                     zerolinecolor=\"white\",),\n",
    "                yaxis = dict(\n",
    "                    nticks=6, ticks='outside',\n",
    "                    range=[0, 1],\n",
    "                    backgroundcolor=\"rgb(230, 200,230)\",\n",
    "                    gridcolor=\"white\",\n",
    "                    showbackground=True,\n",
    "                    zerolinecolor=\"white\"),\n",
    "                zaxis = dict(\n",
    "                    nticks=6, ticks='outside',\n",
    "                    range=[0, 1],\n",
    "                    backgroundcolor=\"rgb(230, 230,200)\",\n",
    "                    gridcolor=\"white\",\n",
    "                    showbackground=True,\n",
    "                    zerolinecolor=\"white\",),\n",
    "            ),\n",
    "            width=900,\n",
    "            height=900,\n",
    "            margin=dict(\n",
    "                r=10, l=10,\n",
    "                b=100, t=50),\n",
    "              font=dict(\n",
    "                family=\"Courier New, monospace\",\n",
    "                size=14,\n",
    "                color=\"RebeccaPurple\"\n",
    "                )\n",
    "                  )\n",
    "fig.show()"
   ]
  },
  {
   "cell_type": "code",
   "execution_count": 76,
   "metadata": {},
   "outputs": [
    {
     "data": {
      "application/vnd.plotly.v1+json": {
       "config": {
        "plotlyServerURL": "https://plot.ly"
       },
       "data": [
        {
         "hoverinfo": "skip",
         "opacity": 0.5,
         "type": "mesh3d",
         "x": [
          0.222,
          0,
          0.667
         ],
         "y": [
          0.111,
          1,
          0.333
         ],
         "z": [
          0.666,
          0,
          0
         ]
        },
        {
         "marker": {
          "color": [
           [
            0.1038961038961039,
            0.6233766233766234,
            0.2727272727272727
           ],
           [
            0.08333333333333333,
            0.8055555555555556,
            0.1111111111111111
           ],
           [
            0.125,
            0.5,
            0.375
           ],
           [
            0.16666666666666666,
            0.8333333333333334,
            0
           ],
           [
            0,
            0.6,
            0.4
           ],
           [
            0.16666666666666666,
            0.5,
            0.3333333333333333
           ]
          ],
          "size": 8
         },
         "mode": "markers",
         "text": [
          "1. Kas ir mediji, ko no tiem sagaidīt",
          "2. Pierādījumu veidi",
          "3. Viltus ziņas",
          "4. Ievads loģikas kļūdās",
          "5. Loģikas kļūdas: slidenā nogāze un melnbaltā domāšana",
          "6. Loģikas kļūdas: nepatiesais cēlonis un atsaukšanās uz tradīciju"
         ],
         "type": "scatter3d",
         "x": [
          0.1038961038961039,
          0.08333333333333333,
          0.125,
          0.16666666666666666,
          0,
          0.16666666666666666
         ],
         "y": [
          0.6233766233766234,
          0.8055555555555556,
          0.5,
          0.8333333333333334,
          0.6,
          0.5
         ],
         "z": [
          0.2727272727272727,
          0.1111111111111111,
          0.375,
          0,
          0.4,
          0.3333333333333333
         ]
        }
       ],
       "layout": {
        "font": {
         "family": "Courier New, monospace",
         "size": 14
        },
        "height": 900,
        "margin": {
         "b": 100,
         "l": 10,
         "r": 10,
         "t": 50
        },
        "scene": {
         "xaxis": {
          "backgroundcolor": "rgb(200, 200, 230)",
          "gridcolor": "white",
          "nticks": 6,
          "range": [
           0,
           1
          ],
          "showbackground": true,
          "title": {
           "text": "N-P"
          },
          "zerolinecolor": "white"
         },
         "yaxis": {
          "backgroundcolor": "rgb(230, 200,230)",
          "gridcolor": "white",
          "nticks": 6,
          "range": [
           0,
           1
          ],
          "showbackground": true,
          "title": {
           "text": "P-P"
          },
          "zerolinecolor": "white"
         },
         "zaxis": {
          "backgroundcolor": "rgb(230, 230,200)",
          "gridcolor": "white",
          "nticks": 6,
          "range": [
           0,
           1
          ],
          "showbackground": true,
          "title": {
           "text": "X-N"
          },
          "zerolinecolor": "white"
         }
        },
        "template": {
         "data": {
          "bar": [
           {
            "error_x": {
             "color": "#2a3f5f"
            },
            "error_y": {
             "color": "#2a3f5f"
            },
            "marker": {
             "line": {
              "color": "#E5ECF6",
              "width": 0.5
             }
            },
            "type": "bar"
           }
          ],
          "barpolar": [
           {
            "marker": {
             "line": {
              "color": "#E5ECF6",
              "width": 0.5
             }
            },
            "type": "barpolar"
           }
          ],
          "carpet": [
           {
            "aaxis": {
             "endlinecolor": "#2a3f5f",
             "gridcolor": "white",
             "linecolor": "white",
             "minorgridcolor": "white",
             "startlinecolor": "#2a3f5f"
            },
            "baxis": {
             "endlinecolor": "#2a3f5f",
             "gridcolor": "white",
             "linecolor": "white",
             "minorgridcolor": "white",
             "startlinecolor": "#2a3f5f"
            },
            "type": "carpet"
           }
          ],
          "choropleth": [
           {
            "colorbar": {
             "outlinewidth": 0,
             "ticks": ""
            },
            "type": "choropleth"
           }
          ],
          "contour": [
           {
            "colorbar": {
             "outlinewidth": 0,
             "ticks": ""
            },
            "colorscale": [
             [
              0,
              "#0d0887"
             ],
             [
              0.1111111111111111,
              "#46039f"
             ],
             [
              0.2222222222222222,
              "#7201a8"
             ],
             [
              0.3333333333333333,
              "#9c179e"
             ],
             [
              0.4444444444444444,
              "#bd3786"
             ],
             [
              0.5555555555555556,
              "#d8576b"
             ],
             [
              0.6666666666666666,
              "#ed7953"
             ],
             [
              0.7777777777777778,
              "#fb9f3a"
             ],
             [
              0.8888888888888888,
              "#fdca26"
             ],
             [
              1,
              "#f0f921"
             ]
            ],
            "type": "contour"
           }
          ],
          "contourcarpet": [
           {
            "colorbar": {
             "outlinewidth": 0,
             "ticks": ""
            },
            "type": "contourcarpet"
           }
          ],
          "heatmap": [
           {
            "colorbar": {
             "outlinewidth": 0,
             "ticks": ""
            },
            "colorscale": [
             [
              0,
              "#0d0887"
             ],
             [
              0.1111111111111111,
              "#46039f"
             ],
             [
              0.2222222222222222,
              "#7201a8"
             ],
             [
              0.3333333333333333,
              "#9c179e"
             ],
             [
              0.4444444444444444,
              "#bd3786"
             ],
             [
              0.5555555555555556,
              "#d8576b"
             ],
             [
              0.6666666666666666,
              "#ed7953"
             ],
             [
              0.7777777777777778,
              "#fb9f3a"
             ],
             [
              0.8888888888888888,
              "#fdca26"
             ],
             [
              1,
              "#f0f921"
             ]
            ],
            "type": "heatmap"
           }
          ],
          "heatmapgl": [
           {
            "colorbar": {
             "outlinewidth": 0,
             "ticks": ""
            },
            "colorscale": [
             [
              0,
              "#0d0887"
             ],
             [
              0.1111111111111111,
              "#46039f"
             ],
             [
              0.2222222222222222,
              "#7201a8"
             ],
             [
              0.3333333333333333,
              "#9c179e"
             ],
             [
              0.4444444444444444,
              "#bd3786"
             ],
             [
              0.5555555555555556,
              "#d8576b"
             ],
             [
              0.6666666666666666,
              "#ed7953"
             ],
             [
              0.7777777777777778,
              "#fb9f3a"
             ],
             [
              0.8888888888888888,
              "#fdca26"
             ],
             [
              1,
              "#f0f921"
             ]
            ],
            "type": "heatmapgl"
           }
          ],
          "histogram": [
           {
            "marker": {
             "colorbar": {
              "outlinewidth": 0,
              "ticks": ""
             }
            },
            "type": "histogram"
           }
          ],
          "histogram2d": [
           {
            "colorbar": {
             "outlinewidth": 0,
             "ticks": ""
            },
            "colorscale": [
             [
              0,
              "#0d0887"
             ],
             [
              0.1111111111111111,
              "#46039f"
             ],
             [
              0.2222222222222222,
              "#7201a8"
             ],
             [
              0.3333333333333333,
              "#9c179e"
             ],
             [
              0.4444444444444444,
              "#bd3786"
             ],
             [
              0.5555555555555556,
              "#d8576b"
             ],
             [
              0.6666666666666666,
              "#ed7953"
             ],
             [
              0.7777777777777778,
              "#fb9f3a"
             ],
             [
              0.8888888888888888,
              "#fdca26"
             ],
             [
              1,
              "#f0f921"
             ]
            ],
            "type": "histogram2d"
           }
          ],
          "histogram2dcontour": [
           {
            "colorbar": {
             "outlinewidth": 0,
             "ticks": ""
            },
            "colorscale": [
             [
              0,
              "#0d0887"
             ],
             [
              0.1111111111111111,
              "#46039f"
             ],
             [
              0.2222222222222222,
              "#7201a8"
             ],
             [
              0.3333333333333333,
              "#9c179e"
             ],
             [
              0.4444444444444444,
              "#bd3786"
             ],
             [
              0.5555555555555556,
              "#d8576b"
             ],
             [
              0.6666666666666666,
              "#ed7953"
             ],
             [
              0.7777777777777778,
              "#fb9f3a"
             ],
             [
              0.8888888888888888,
              "#fdca26"
             ],
             [
              1,
              "#f0f921"
             ]
            ],
            "type": "histogram2dcontour"
           }
          ],
          "mesh3d": [
           {
            "colorbar": {
             "outlinewidth": 0,
             "ticks": ""
            },
            "type": "mesh3d"
           }
          ],
          "parcoords": [
           {
            "line": {
             "colorbar": {
              "outlinewidth": 0,
              "ticks": ""
             }
            },
            "type": "parcoords"
           }
          ],
          "pie": [
           {
            "automargin": true,
            "type": "pie"
           }
          ],
          "scatter": [
           {
            "marker": {
             "colorbar": {
              "outlinewidth": 0,
              "ticks": ""
             }
            },
            "type": "scatter"
           }
          ],
          "scatter3d": [
           {
            "line": {
             "colorbar": {
              "outlinewidth": 0,
              "ticks": ""
             }
            },
            "marker": {
             "colorbar": {
              "outlinewidth": 0,
              "ticks": ""
             }
            },
            "type": "scatter3d"
           }
          ],
          "scattercarpet": [
           {
            "marker": {
             "colorbar": {
              "outlinewidth": 0,
              "ticks": ""
             }
            },
            "type": "scattercarpet"
           }
          ],
          "scattergeo": [
           {
            "marker": {
             "colorbar": {
              "outlinewidth": 0,
              "ticks": ""
             }
            },
            "type": "scattergeo"
           }
          ],
          "scattergl": [
           {
            "marker": {
             "colorbar": {
              "outlinewidth": 0,
              "ticks": ""
             }
            },
            "type": "scattergl"
           }
          ],
          "scattermapbox": [
           {
            "marker": {
             "colorbar": {
              "outlinewidth": 0,
              "ticks": ""
             }
            },
            "type": "scattermapbox"
           }
          ],
          "scatterpolar": [
           {
            "marker": {
             "colorbar": {
              "outlinewidth": 0,
              "ticks": ""
             }
            },
            "type": "scatterpolar"
           }
          ],
          "scatterpolargl": [
           {
            "marker": {
             "colorbar": {
              "outlinewidth": 0,
              "ticks": ""
             }
            },
            "type": "scatterpolargl"
           }
          ],
          "scatterternary": [
           {
            "marker": {
             "colorbar": {
              "outlinewidth": 0,
              "ticks": ""
             }
            },
            "type": "scatterternary"
           }
          ],
          "surface": [
           {
            "colorbar": {
             "outlinewidth": 0,
             "ticks": ""
            },
            "colorscale": [
             [
              0,
              "#0d0887"
             ],
             [
              0.1111111111111111,
              "#46039f"
             ],
             [
              0.2222222222222222,
              "#7201a8"
             ],
             [
              0.3333333333333333,
              "#9c179e"
             ],
             [
              0.4444444444444444,
              "#bd3786"
             ],
             [
              0.5555555555555556,
              "#d8576b"
             ],
             [
              0.6666666666666666,
              "#ed7953"
             ],
             [
              0.7777777777777778,
              "#fb9f3a"
             ],
             [
              0.8888888888888888,
              "#fdca26"
             ],
             [
              1,
              "#f0f921"
             ]
            ],
            "type": "surface"
           }
          ],
          "table": [
           {
            "cells": {
             "fill": {
              "color": "#EBF0F8"
             },
             "line": {
              "color": "white"
             }
            },
            "header": {
             "fill": {
              "color": "#C8D4E3"
             },
             "line": {
              "color": "white"
             }
            },
            "type": "table"
           }
          ]
         },
         "layout": {
          "annotationdefaults": {
           "arrowcolor": "#2a3f5f",
           "arrowhead": 0,
           "arrowwidth": 1
          },
          "coloraxis": {
           "colorbar": {
            "outlinewidth": 0,
            "ticks": ""
           }
          },
          "colorscale": {
           "diverging": [
            [
             0,
             "#8e0152"
            ],
            [
             0.1,
             "#c51b7d"
            ],
            [
             0.2,
             "#de77ae"
            ],
            [
             0.3,
             "#f1b6da"
            ],
            [
             0.4,
             "#fde0ef"
            ],
            [
             0.5,
             "#f7f7f7"
            ],
            [
             0.6,
             "#e6f5d0"
            ],
            [
             0.7,
             "#b8e186"
            ],
            [
             0.8,
             "#7fbc41"
            ],
            [
             0.9,
             "#4d9221"
            ],
            [
             1,
             "#276419"
            ]
           ],
           "sequential": [
            [
             0,
             "#0d0887"
            ],
            [
             0.1111111111111111,
             "#46039f"
            ],
            [
             0.2222222222222222,
             "#7201a8"
            ],
            [
             0.3333333333333333,
             "#9c179e"
            ],
            [
             0.4444444444444444,
             "#bd3786"
            ],
            [
             0.5555555555555556,
             "#d8576b"
            ],
            [
             0.6666666666666666,
             "#ed7953"
            ],
            [
             0.7777777777777778,
             "#fb9f3a"
            ],
            [
             0.8888888888888888,
             "#fdca26"
            ],
            [
             1,
             "#f0f921"
            ]
           ],
           "sequentialminus": [
            [
             0,
             "#0d0887"
            ],
            [
             0.1111111111111111,
             "#46039f"
            ],
            [
             0.2222222222222222,
             "#7201a8"
            ],
            [
             0.3333333333333333,
             "#9c179e"
            ],
            [
             0.4444444444444444,
             "#bd3786"
            ],
            [
             0.5555555555555556,
             "#d8576b"
            ],
            [
             0.6666666666666666,
             "#ed7953"
            ],
            [
             0.7777777777777778,
             "#fb9f3a"
            ],
            [
             0.8888888888888888,
             "#fdca26"
            ],
            [
             1,
             "#f0f921"
            ]
           ]
          },
          "colorway": [
           "#636efa",
           "#EF553B",
           "#00cc96",
           "#ab63fa",
           "#FFA15A",
           "#19d3f3",
           "#FF6692",
           "#B6E880",
           "#FF97FF",
           "#FECB52"
          ],
          "font": {
           "color": "#2a3f5f"
          },
          "geo": {
           "bgcolor": "white",
           "lakecolor": "white",
           "landcolor": "#E5ECF6",
           "showlakes": true,
           "showland": true,
           "subunitcolor": "white"
          },
          "hoverlabel": {
           "align": "left"
          },
          "hovermode": "closest",
          "mapbox": {
           "style": "light"
          },
          "paper_bgcolor": "white",
          "plot_bgcolor": "#E5ECF6",
          "polar": {
           "angularaxis": {
            "gridcolor": "white",
            "linecolor": "white",
            "ticks": ""
           },
           "bgcolor": "#E5ECF6",
           "radialaxis": {
            "gridcolor": "white",
            "linecolor": "white",
            "ticks": ""
           }
          },
          "scene": {
           "xaxis": {
            "backgroundcolor": "#E5ECF6",
            "gridcolor": "white",
            "gridwidth": 2,
            "linecolor": "white",
            "showbackground": true,
            "ticks": "",
            "zerolinecolor": "white"
           },
           "yaxis": {
            "backgroundcolor": "#E5ECF6",
            "gridcolor": "white",
            "gridwidth": 2,
            "linecolor": "white",
            "showbackground": true,
            "ticks": "",
            "zerolinecolor": "white"
           },
           "zaxis": {
            "backgroundcolor": "#E5ECF6",
            "gridcolor": "white",
            "gridwidth": 2,
            "linecolor": "white",
            "showbackground": true,
            "ticks": "",
            "zerolinecolor": "white"
           }
          },
          "shapedefaults": {
           "line": {
            "color": "#2a3f5f"
           }
          },
          "ternary": {
           "aaxis": {
            "gridcolor": "white",
            "linecolor": "white",
            "ticks": ""
           },
           "baxis": {
            "gridcolor": "white",
            "linecolor": "white",
            "ticks": ""
           },
           "bgcolor": "#E5ECF6",
           "caxis": {
            "gridcolor": "white",
            "linecolor": "white",
            "ticks": ""
           }
          },
          "title": {
           "x": 0.05
          },
          "xaxis": {
           "automargin": true,
           "gridcolor": "white",
           "linecolor": "white",
           "ticks": "",
           "title": {
            "standoff": 15
           },
           "zerolinecolor": "white",
           "zerolinewidth": 2
          },
          "yaxis": {
           "automargin": true,
           "gridcolor": "white",
           "linecolor": "white",
           "ticks": "",
           "title": {
            "standoff": 15
           },
           "zerolinecolor": "white",
           "zerolinewidth": 2
          }
         }
        },
        "title": {
         "text": "Telecides on complete learning acquisition landscape"
        },
        "width": 900
       }
      },
      "text/html": [
       "<div>                            <div id=\"9c9c6521-dbdf-4650-9abc-599bb038dd21\" class=\"plotly-graph-div\" style=\"height:900px; width:900px;\"></div>            <script type=\"text/javascript\">                require([\"plotly\"], function(Plotly) {                    window.PLOTLYENV=window.PLOTLYENV || {};                                    if (document.getElementById(\"9c9c6521-dbdf-4650-9abc-599bb038dd21\")) {                    Plotly.newPlot(                        \"9c9c6521-dbdf-4650-9abc-599bb038dd21\",                        [{\"hoverinfo\": \"skip\", \"opacity\": 0.5, \"type\": \"mesh3d\", \"x\": [0.222, 0.0, 0.667], \"y\": [0.111, 1.0, 0.333], \"z\": [0.666, 0.0, 0.0]}, {\"marker\": {\"color\": [[0.1038961038961039, 0.6233766233766234, 0.2727272727272727], [0.08333333333333333, 0.8055555555555556, 0.1111111111111111], [0.125, 0.5, 0.375], [0.16666666666666666, 0.8333333333333334, 0.0], [0.0, 0.6, 0.4], [0.16666666666666666, 0.5, 0.3333333333333333]], \"size\": 8}, \"mode\": \"markers\", \"text\": [\"1. Kas ir mediji, ko no tiem sagaid\\u012bt\", \"2. Pier\\u0101d\\u012bjumu veidi\", \"3. Viltus zi\\u0146as\", \"4. Ievads lo\\u0123ikas k\\u013c\\u016bd\\u0101s\", \"5. Lo\\u0123ikas k\\u013c\\u016bdas: sliden\\u0101 nog\\u0101ze un melnbalt\\u0101 dom\\u0101\\u0161ana\", \"6. Lo\\u0123ikas k\\u013c\\u016bdas: nepatiesais c\\u0113lonis un atsauk\\u0161an\\u0101s uz trad\\u012bciju\"], \"type\": \"scatter3d\", \"x\": [0.1038961038961039, 0.08333333333333333, 0.125, 0.16666666666666666, 0.0, 0.16666666666666666], \"y\": [0.6233766233766234, 0.8055555555555556, 0.5, 0.8333333333333334, 0.6, 0.5], \"z\": [0.2727272727272727, 0.1111111111111111, 0.375, 0.0, 0.4, 0.3333333333333333]}],                        {\"font\": {\"family\": \"Courier New, monospace\", \"size\": 14}, \"height\": 900, \"margin\": {\"b\": 100, \"l\": 10, \"r\": 10, \"t\": 50}, \"scene\": {\"xaxis\": {\"backgroundcolor\": \"rgb(200, 200, 230)\", \"gridcolor\": \"white\", \"nticks\": 6, \"range\": [0, 1], \"showbackground\": true, \"title\": {\"text\": \"N-P\"}, \"zerolinecolor\": \"white\"}, \"yaxis\": {\"backgroundcolor\": \"rgb(230, 200,230)\", \"gridcolor\": \"white\", \"nticks\": 6, \"range\": [0, 1], \"showbackground\": true, \"title\": {\"text\": \"P-P\"}, \"zerolinecolor\": \"white\"}, \"zaxis\": {\"backgroundcolor\": \"rgb(230, 230,200)\", \"gridcolor\": \"white\", \"nticks\": 6, \"range\": [0, 1], \"showbackground\": true, \"title\": {\"text\": \"X-N\"}, \"zerolinecolor\": \"white\"}}, \"template\": {\"data\": {\"bar\": [{\"error_x\": {\"color\": \"#2a3f5f\"}, \"error_y\": {\"color\": \"#2a3f5f\"}, \"marker\": {\"line\": {\"color\": \"#E5ECF6\", \"width\": 0.5}}, \"type\": \"bar\"}], \"barpolar\": [{\"marker\": {\"line\": {\"color\": \"#E5ECF6\", \"width\": 0.5}}, \"type\": \"barpolar\"}], \"carpet\": [{\"aaxis\": {\"endlinecolor\": \"#2a3f5f\", \"gridcolor\": \"white\", \"linecolor\": \"white\", \"minorgridcolor\": \"white\", \"startlinecolor\": \"#2a3f5f\"}, \"baxis\": {\"endlinecolor\": \"#2a3f5f\", \"gridcolor\": \"white\", \"linecolor\": \"white\", \"minorgridcolor\": \"white\", \"startlinecolor\": \"#2a3f5f\"}, \"type\": \"carpet\"}], \"choropleth\": [{\"colorbar\": {\"outlinewidth\": 0, \"ticks\": \"\"}, \"type\": \"choropleth\"}], \"contour\": [{\"colorbar\": {\"outlinewidth\": 0, \"ticks\": \"\"}, \"colorscale\": [[0.0, \"#0d0887\"], [0.1111111111111111, \"#46039f\"], [0.2222222222222222, \"#7201a8\"], [0.3333333333333333, \"#9c179e\"], [0.4444444444444444, \"#bd3786\"], [0.5555555555555556, \"#d8576b\"], [0.6666666666666666, \"#ed7953\"], [0.7777777777777778, \"#fb9f3a\"], [0.8888888888888888, \"#fdca26\"], [1.0, \"#f0f921\"]], \"type\": \"contour\"}], \"contourcarpet\": [{\"colorbar\": {\"outlinewidth\": 0, \"ticks\": \"\"}, \"type\": \"contourcarpet\"}], \"heatmap\": [{\"colorbar\": {\"outlinewidth\": 0, \"ticks\": \"\"}, \"colorscale\": [[0.0, \"#0d0887\"], [0.1111111111111111, \"#46039f\"], [0.2222222222222222, \"#7201a8\"], [0.3333333333333333, \"#9c179e\"], [0.4444444444444444, \"#bd3786\"], [0.5555555555555556, \"#d8576b\"], [0.6666666666666666, \"#ed7953\"], [0.7777777777777778, \"#fb9f3a\"], [0.8888888888888888, \"#fdca26\"], [1.0, \"#f0f921\"]], \"type\": \"heatmap\"}], \"heatmapgl\": [{\"colorbar\": {\"outlinewidth\": 0, \"ticks\": \"\"}, \"colorscale\": [[0.0, \"#0d0887\"], [0.1111111111111111, \"#46039f\"], [0.2222222222222222, \"#7201a8\"], [0.3333333333333333, \"#9c179e\"], [0.4444444444444444, \"#bd3786\"], [0.5555555555555556, \"#d8576b\"], [0.6666666666666666, \"#ed7953\"], [0.7777777777777778, \"#fb9f3a\"], [0.8888888888888888, \"#fdca26\"], [1.0, \"#f0f921\"]], \"type\": \"heatmapgl\"}], \"histogram\": [{\"marker\": {\"colorbar\": {\"outlinewidth\": 0, \"ticks\": \"\"}}, \"type\": \"histogram\"}], \"histogram2d\": [{\"colorbar\": {\"outlinewidth\": 0, \"ticks\": \"\"}, \"colorscale\": [[0.0, \"#0d0887\"], [0.1111111111111111, \"#46039f\"], [0.2222222222222222, \"#7201a8\"], [0.3333333333333333, \"#9c179e\"], [0.4444444444444444, \"#bd3786\"], [0.5555555555555556, \"#d8576b\"], [0.6666666666666666, \"#ed7953\"], [0.7777777777777778, \"#fb9f3a\"], [0.8888888888888888, \"#fdca26\"], [1.0, \"#f0f921\"]], \"type\": \"histogram2d\"}], \"histogram2dcontour\": [{\"colorbar\": {\"outlinewidth\": 0, \"ticks\": \"\"}, \"colorscale\": [[0.0, \"#0d0887\"], [0.1111111111111111, \"#46039f\"], [0.2222222222222222, \"#7201a8\"], [0.3333333333333333, \"#9c179e\"], [0.4444444444444444, \"#bd3786\"], [0.5555555555555556, \"#d8576b\"], [0.6666666666666666, \"#ed7953\"], [0.7777777777777778, \"#fb9f3a\"], [0.8888888888888888, \"#fdca26\"], [1.0, \"#f0f921\"]], \"type\": \"histogram2dcontour\"}], \"mesh3d\": [{\"colorbar\": {\"outlinewidth\": 0, \"ticks\": \"\"}, \"type\": \"mesh3d\"}], \"parcoords\": [{\"line\": {\"colorbar\": {\"outlinewidth\": 0, \"ticks\": \"\"}}, \"type\": \"parcoords\"}], \"pie\": [{\"automargin\": true, \"type\": \"pie\"}], \"scatter\": [{\"marker\": {\"colorbar\": {\"outlinewidth\": 0, \"ticks\": \"\"}}, \"type\": \"scatter\"}], \"scatter3d\": [{\"line\": {\"colorbar\": {\"outlinewidth\": 0, \"ticks\": \"\"}}, \"marker\": {\"colorbar\": {\"outlinewidth\": 0, \"ticks\": \"\"}}, \"type\": \"scatter3d\"}], \"scattercarpet\": [{\"marker\": {\"colorbar\": {\"outlinewidth\": 0, \"ticks\": \"\"}}, \"type\": \"scattercarpet\"}], \"scattergeo\": [{\"marker\": {\"colorbar\": {\"outlinewidth\": 0, \"ticks\": \"\"}}, \"type\": \"scattergeo\"}], \"scattergl\": [{\"marker\": {\"colorbar\": {\"outlinewidth\": 0, \"ticks\": \"\"}}, \"type\": \"scattergl\"}], \"scattermapbox\": [{\"marker\": {\"colorbar\": {\"outlinewidth\": 0, \"ticks\": \"\"}}, \"type\": \"scattermapbox\"}], \"scatterpolar\": [{\"marker\": {\"colorbar\": {\"outlinewidth\": 0, \"ticks\": \"\"}}, \"type\": \"scatterpolar\"}], \"scatterpolargl\": [{\"marker\": {\"colorbar\": {\"outlinewidth\": 0, \"ticks\": \"\"}}, \"type\": \"scatterpolargl\"}], \"scatterternary\": [{\"marker\": {\"colorbar\": {\"outlinewidth\": 0, \"ticks\": \"\"}}, \"type\": \"scatterternary\"}], \"surface\": [{\"colorbar\": {\"outlinewidth\": 0, \"ticks\": \"\"}, \"colorscale\": [[0.0, \"#0d0887\"], [0.1111111111111111, \"#46039f\"], [0.2222222222222222, \"#7201a8\"], [0.3333333333333333, \"#9c179e\"], [0.4444444444444444, \"#bd3786\"], [0.5555555555555556, \"#d8576b\"], [0.6666666666666666, \"#ed7953\"], [0.7777777777777778, \"#fb9f3a\"], [0.8888888888888888, \"#fdca26\"], [1.0, \"#f0f921\"]], \"type\": \"surface\"}], \"table\": [{\"cells\": {\"fill\": {\"color\": \"#EBF0F8\"}, \"line\": {\"color\": \"white\"}}, \"header\": {\"fill\": {\"color\": \"#C8D4E3\"}, \"line\": {\"color\": \"white\"}}, \"type\": \"table\"}]}, \"layout\": {\"annotationdefaults\": {\"arrowcolor\": \"#2a3f5f\", \"arrowhead\": 0, \"arrowwidth\": 1}, \"coloraxis\": {\"colorbar\": {\"outlinewidth\": 0, \"ticks\": \"\"}}, \"colorscale\": {\"diverging\": [[0, \"#8e0152\"], [0.1, \"#c51b7d\"], [0.2, \"#de77ae\"], [0.3, \"#f1b6da\"], [0.4, \"#fde0ef\"], [0.5, \"#f7f7f7\"], [0.6, \"#e6f5d0\"], [0.7, \"#b8e186\"], [0.8, \"#7fbc41\"], [0.9, \"#4d9221\"], [1, \"#276419\"]], \"sequential\": [[0.0, \"#0d0887\"], [0.1111111111111111, \"#46039f\"], [0.2222222222222222, \"#7201a8\"], [0.3333333333333333, \"#9c179e\"], [0.4444444444444444, \"#bd3786\"], [0.5555555555555556, \"#d8576b\"], [0.6666666666666666, \"#ed7953\"], [0.7777777777777778, \"#fb9f3a\"], [0.8888888888888888, \"#fdca26\"], [1.0, \"#f0f921\"]], \"sequentialminus\": [[0.0, \"#0d0887\"], [0.1111111111111111, \"#46039f\"], [0.2222222222222222, \"#7201a8\"], [0.3333333333333333, \"#9c179e\"], [0.4444444444444444, \"#bd3786\"], [0.5555555555555556, \"#d8576b\"], [0.6666666666666666, \"#ed7953\"], [0.7777777777777778, \"#fb9f3a\"], [0.8888888888888888, \"#fdca26\"], [1.0, \"#f0f921\"]]}, \"colorway\": [\"#636efa\", \"#EF553B\", \"#00cc96\", \"#ab63fa\", \"#FFA15A\", \"#19d3f3\", \"#FF6692\", \"#B6E880\", \"#FF97FF\", \"#FECB52\"], \"font\": {\"color\": \"#2a3f5f\"}, \"geo\": {\"bgcolor\": \"white\", \"lakecolor\": \"white\", \"landcolor\": \"#E5ECF6\", \"showlakes\": true, \"showland\": true, \"subunitcolor\": \"white\"}, \"hoverlabel\": {\"align\": \"left\"}, \"hovermode\": \"closest\", \"mapbox\": {\"style\": \"light\"}, \"paper_bgcolor\": \"white\", \"plot_bgcolor\": \"#E5ECF6\", \"polar\": {\"angularaxis\": {\"gridcolor\": \"white\", \"linecolor\": \"white\", \"ticks\": \"\"}, \"bgcolor\": \"#E5ECF6\", \"radialaxis\": {\"gridcolor\": \"white\", \"linecolor\": \"white\", \"ticks\": \"\"}}, \"scene\": {\"xaxis\": {\"backgroundcolor\": \"#E5ECF6\", \"gridcolor\": \"white\", \"gridwidth\": 2, \"linecolor\": \"white\", \"showbackground\": true, \"ticks\": \"\", \"zerolinecolor\": \"white\"}, \"yaxis\": {\"backgroundcolor\": \"#E5ECF6\", \"gridcolor\": \"white\", \"gridwidth\": 2, \"linecolor\": \"white\", \"showbackground\": true, \"ticks\": \"\", \"zerolinecolor\": \"white\"}, \"zaxis\": {\"backgroundcolor\": \"#E5ECF6\", \"gridcolor\": \"white\", \"gridwidth\": 2, \"linecolor\": \"white\", \"showbackground\": true, \"ticks\": \"\", \"zerolinecolor\": \"white\"}}, \"shapedefaults\": {\"line\": {\"color\": \"#2a3f5f\"}}, \"ternary\": {\"aaxis\": {\"gridcolor\": \"white\", \"linecolor\": \"white\", \"ticks\": \"\"}, \"baxis\": {\"gridcolor\": \"white\", \"linecolor\": \"white\", \"ticks\": \"\"}, \"bgcolor\": \"#E5ECF6\", \"caxis\": {\"gridcolor\": \"white\", \"linecolor\": \"white\", \"ticks\": \"\"}}, \"title\": {\"x\": 0.05}, \"xaxis\": {\"automargin\": true, \"gridcolor\": \"white\", \"linecolor\": \"white\", \"ticks\": \"\", \"title\": {\"standoff\": 15}, \"zerolinecolor\": \"white\", \"zerolinewidth\": 2}, \"yaxis\": {\"automargin\": true, \"gridcolor\": \"white\", \"linecolor\": \"white\", \"ticks\": \"\", \"title\": {\"standoff\": 15}, \"zerolinecolor\": \"white\", \"zerolinewidth\": 2}}}, \"title\": {\"text\": \"Telecides on complete learning acquisition landscape\"}, \"width\": 900},                        {\"responsive\": true}                    ).then(function(){\n",
       "                            \n",
       "var gd = document.getElementById('9c9c6521-dbdf-4650-9abc-599bb038dd21');\n",
       "var x = new MutationObserver(function (mutations, observer) {{\n",
       "        var display = window.getComputedStyle(gd).display;\n",
       "        if (!display || display === 'none') {{\n",
       "            console.log([gd, 'removed!']);\n",
       "            Plotly.purge(gd);\n",
       "            observer.disconnect();\n",
       "        }}\n",
       "}});\n",
       "\n",
       "// Listen for the removal of the full notebook cells\n",
       "var notebookContainer = gd.closest('#notebook-container');\n",
       "if (notebookContainer) {{\n",
       "    x.observe(notebookContainer, {childList: true});\n",
       "}}\n",
       "\n",
       "// Listen for the clearing of the current output cell\n",
       "var outputEl = gd.closest('.output');\n",
       "if (outputEl) {{\n",
       "    x.observe(outputEl, {childList: true});\n",
       "}}\n",
       "\n",
       "                        })                };                });            </script>        </div>"
      ]
     },
     "metadata": {},
     "output_type": "display_data"
    }
   ],
   "source": [
    "# fig = px.scatter_3d(telecides, x='p-p', y='n-p', z='x-n', color=telecides.index,\n",
    "#                    template='ggplot2',\n",
    "#                    labels={'color':'Unit '}\n",
    "#                    )\n",
    "fig = go.Figure(data=[go.Mesh3d(\n",
    "    x=df_tele['N-P'],\n",
    "    y=df_tele['P-P'],\n",
    "    z=df_tele['X-N'],\n",
    "    opacity=0.5, hoverinfo='skip')])\n",
    "\n",
    "fig.add_scatter3d(x=telecides['n-p'], y=telecides['p-p'], z=telecides['x-n'], mode='markers', text=telecides.index, \n",
    "                  marker=dict(size=8, color=telecides))\n",
    "\n",
    "fig.update_layout(title_text='Telecides on complete learning acquisition landscape',\n",
    "            scene = dict(\n",
    "                xaxis_title=\"N-P\",\n",
    "                yaxis_title=\"P-P\",\n",
    "                zaxis_title=\"X-N\",\n",
    "                xaxis = dict(\n",
    "                     nticks=6, range=[0,1],\n",
    "                     backgroundcolor=\"rgb(200, 200, 230)\",\n",
    "                     gridcolor=\"white\",\n",
    "                     showbackground=True,\n",
    "                     zerolinecolor=\"white\",),\n",
    "                yaxis = dict(\n",
    "                    nticks=6, range=[0,1],\n",
    "                    backgroundcolor=\"rgb(230, 200,230)\",\n",
    "                    gridcolor=\"white\",\n",
    "                    showbackground=True,\n",
    "                    zerolinecolor=\"white\"),\n",
    "                zaxis = dict(\n",
    "                    nticks=6, range=[0,1],\n",
    "                    backgroundcolor=\"rgb(230, 230,200)\",\n",
    "                    gridcolor=\"white\",\n",
    "                    showbackground=True,\n",
    "                    zerolinecolor=\"white\",),\n",
    "            ),\n",
    "            width=900,\n",
    "            height=900,\n",
    "            margin=dict(\n",
    "                r=10, l=10,\n",
    "                b=100, t=50),\n",
    "              font=dict(\n",
    "                family=\"Courier New, monospace\",\n",
    "                size=14,\n",
    "#                 color=\"RebeccaPurple\"\n",
    "                )\n",
    "                  )\n",
    "\n",
    "fig.show()"
   ]
  },
  {
   "cell_type": "markdown",
   "metadata": {},
   "source": [
    "Available templates:\n",
    "        <code>['ggplot2', 'seaborn', 'simple_white', 'plotly',\n",
    "         'plotly_white', 'plotly_dark', 'presentation', 'xgridoff',\n",
    "         'ygridoff', 'gridon', 'none']<code>"
   ]
  },
  {
   "cell_type": "markdown",
   "metadata": {},
   "source": [
    "CSS colors:\n",
    "`aliceblue, antiquewhite, aqua, aquamarine, azure, beige, bisque, black, blanchedalmond, blue, blueviolet, brown, burlywood, cadetblue, chartreuse, chocolate, coral, cornflowerblue, cornsilk, crimson, cyan, darkblue, darkcyan, darkgoldenrod, darkgray, darkgrey, darkgreen, darkkhaki, darkmagenta, darkolivegreen, darkorange, darkorchid, darkred, darksalmon, darkseagreen, darkslateblue, darkslategray, darkslategrey, darkturquoise, darkviolet, deeppink, deepskyblue, dimgray, dimgrey, dodgerblue, firebrick, floralwhite, forestgreen, fuchsia, gainsboro, ghostwhite, gold, goldenrod, gray, grey, green, greenyellow, honeydew, hotpink, indianred, indigo, ivory, khaki, lavender, lavenderblush, lawngreen, lemonchiffon, lightblue, lightcoral, lightcyan, lightgoldenrodyellow, lightgray, lightgrey, lightgreen, lightpink, lightsalmon, lightseagreen, lightskyblue, lightslategray, lightslategrey, lightsteelblue, lightyellow, lime, limegreen, linen, magenta, maroon, mediumaquamarine, mediumblue, mediumorchid, mediumpurple, mediumseagreen, mediumslateblue, mediumspringgreen, mediumturquoise, mediumvioletred, midnightblue, mintcream, mistyrose, moccasin, navajowhite, navy, oldlace, olive, olivedrab, orange, orangered, orchid, palegoldenrod, palegreen, paleturquoise, palevioletred, papayawhip, peachpuff, peru, pink, plum, powderblue, purple, red, rosybrown, royalblue, rebeccapurple, saddlebrown, salmon, sandybrown, seagreen, seashell, sienna, silver, skyblue, slateblue, slategray, slategrey, snow, springgreen, steelblue, tan, teal, thistle, tomato, turquoise, violet, wheat, white, whitesmoke, yellow, yellowgreen`"
   ]
  },
  {
   "cell_type": "markdown",
   "metadata": {},
   "source": [
    "### Colorscales: \n",
    "<code>\n",
    "aggrnyl     agsunset    blackbody   bluered     blues       blugrn      bluyl       brwnyl\n",
    "bugn        bupu        burg        burgyl      cividis     darkmint    electric    emrld\n",
    "gnbu        greens      greys       hot         inferno     jet         magenta     magma\n",
    "mint        orrd        oranges     oryel       peach       pinkyl      plasma      plotly3\n",
    "pubu        pubugn      purd        purp        purples     purpor      rainbow     rdbu\n",
    "rdpu        redor       reds        sunset      sunsetdark  teal        tealgrn     viridis\n",
    "ylgn        ylgnbu      ylorbr      ylorrd      algae       amp         deep        dense\n",
    "gray        haline      ice         matter      solar       speed       tempo       thermal\n",
    "turbid      armyrose    brbg        earth       fall        geyser      prgn        piyg\n",
    "picnic      portland    puor        rdgy        rdylbu      rdylgn      spectral    tealrose\n",
    "temps       tropic      balance     curl        delta       edge        hsv         icefire\n",
    "phase       twilight    mrybm       mygbm</code>"
   ]
  },
  {
   "cell_type": "markdown",
   "metadata": {},
   "source": [
    "Plotly CUBE: https://chart-studio.plotly.com/~empet/14165.embed"
   ]
  },
  {
   "cell_type": "code",
   "execution_count": null,
   "metadata": {},
   "outputs": [],
   "source": []
  },
  {
   "cell_type": "code",
   "execution_count": null,
   "metadata": {},
   "outputs": [],
   "source": []
  },
  {
   "cell_type": "code",
   "execution_count": null,
   "metadata": {},
   "outputs": [],
   "source": []
  },
  {
   "cell_type": "code",
   "execution_count": null,
   "metadata": {},
   "outputs": [],
   "source": []
  },
  {
   "cell_type": "code",
   "execution_count": null,
   "metadata": {},
   "outputs": [],
   "source": []
  },
  {
   "cell_type": "code",
   "execution_count": null,
   "metadata": {},
   "outputs": [],
   "source": []
  },
  {
   "cell_type": "code",
   "execution_count": null,
   "metadata": {},
   "outputs": [],
   "source": []
  },
  {
   "cell_type": "code",
   "execution_count": null,
   "metadata": {},
   "outputs": [],
   "source": []
  },
  {
   "cell_type": "code",
   "execution_count": null,
   "metadata": {},
   "outputs": [],
   "source": []
  }
 ],
 "metadata": {
  "kernelspec": {
   "display_name": "Python 3",
   "language": "python",
   "name": "python3"
  },
  "language_info": {
   "codemirror_mode": {
    "name": "ipython",
    "version": 3
   },
   "file_extension": ".py",
   "mimetype": "text/x-python",
   "name": "python",
   "nbconvert_exporter": "python",
   "pygments_lexer": "ipython3",
   "version": "3.7.4"
  }
 },
 "nbformat": 4,
 "nbformat_minor": 2
}
